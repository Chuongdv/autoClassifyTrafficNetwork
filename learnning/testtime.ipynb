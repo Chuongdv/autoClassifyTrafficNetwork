{
 "cells": [
  {
   "cell_type": "code",
   "execution_count": 1,
   "metadata": {},
   "outputs": [],
   "source": [
    "# Render our plots inline\n",
    "%matplotlib inline\n",
    " \n",
    "import pandas as pd\n",
    "import matplotlib.pyplot as plt\n",
    "import random"
   ]
  },
  {
   "cell_type": "code",
   "execution_count": 3,
   "metadata": {},
   "outputs": [
    {
     "name": "stderr",
     "output_type": "stream",
     "text": [
      "2020-04-22 14:13:38 INFO     Reading data file '../data/trace1/sampleTrainingAutoclass.tsv' as 'real scalar' with error 0.01\n",
      "2020-04-22 14:13:39 INFO     Detected encoding: ascii\n",
      "2020-04-22 14:13:39 INFO     Found 3363 rows and 6 columns\n",
      "2020-04-22 14:13:39 DEBUG    Checking column names\n",
      "2020-04-22 14:13:39 DEBUG    Index name 'index'\n",
      "2020-04-22 14:13:39 DEBUG    Column name 'mean_fpktl'\n",
      "2020-04-22 14:13:39 DEBUG    Column name 'mean_bpktl'\n",
      "2020-04-22 14:13:39 DEBUG    Column name 'mean_fiat'\n",
      "2020-04-22 14:13:39 DEBUG    Column name 'std_fpktl'\n",
      "2020-04-22 14:13:39 DEBUG    Column name 'std_bpktl'\n",
      "2020-04-22 14:13:39 INFO     Checking data format\n",
      "2020-04-22 14:13:39 INFO     Column 'mean_fpktl'\n",
      "2020-04-22 14:13:39 INFO     count    3363.000000\n",
      "2020-04-22 14:13:39 INFO     mean      141.328873\n",
      "2020-04-22 14:13:39 INFO     std       146.836776\n",
      "2020-04-22 14:13:39 INFO     min        40.000000\n",
      "2020-04-22 14:13:39 INFO     50%       103.000000\n",
      "2020-04-22 14:13:39 INFO     max      1534.000000\n",
      "2020-04-22 14:13:39 INFO     ---\n",
      "2020-04-22 14:13:39 INFO     Column 'mean_bpktl'\n",
      "2020-04-22 14:13:39 INFO     count    3363.000000\n",
      "2020-04-22 14:13:39 INFO     mean      673.099019\n",
      "2020-04-22 14:13:39 INFO     std       574.187672\n",
      "2020-04-22 14:13:39 INFO     min        40.000000\n",
      "2020-04-22 14:13:39 INFO     50%       558.000000\n",
      "2020-04-22 14:13:39 INFO     max      2835.000000\n",
      "2020-04-22 14:13:39 INFO     ---\n",
      "2020-04-22 14:13:39 INFO     Column 'mean_fiat'\n",
      "2020-04-22 14:13:39 INFO     count      3363.000000\n",
      "2020-04-22 14:13:39 INFO     mean      32084.985727\n",
      "2020-04-22 14:13:39 INFO     std       44210.514494\n",
      "2020-04-22 14:13:39 INFO     min         193.000000\n",
      "2020-04-22 14:13:39 INFO     50%       16761.000000\n",
      "2020-04-22 14:13:39 INFO     max      666222.000000\n",
      "2020-04-22 14:13:39 INFO     ---\n",
      "2020-04-22 14:13:39 INFO     Column 'std_fpktl'\n",
      "2020-04-22 14:13:39 INFO     count    3363.000000\n",
      "2020-04-22 14:13:39 INFO     mean      166.697889\n",
      "2020-04-22 14:13:39 INFO     std       143.220921\n",
      "2020-04-22 14:13:39 INFO     min         2.000000\n",
      "2020-04-22 14:13:39 INFO     50%       134.000000\n",
      "2020-04-22 14:13:39 INFO     max       883.000000\n",
      "2020-04-22 14:13:39 INFO     ---\n",
      "2020-04-22 14:13:39 INFO     Column 'std_bpktl'\n",
      "2020-04-22 14:13:39 INFO     count    3363.000000\n",
      "2020-04-22 14:13:39 INFO     mean      515.310437\n",
      "2020-04-22 14:13:39 INFO     std       344.152111\n",
      "2020-04-22 14:13:39 INFO     min         3.000000\n",
      "2020-04-22 14:13:39 INFO     50%       542.000000\n",
      "2020-04-22 14:13:39 INFO     max      2075.000000\n",
      "2020-04-22 14:13:39 INFO     ---\n",
      "2020-04-22 14:13:39 INFO     Final dataframe has 3363 lines and 6 columns\n",
      "2020-04-22 14:13:39 INFO     Searching for missing values\n",
      "2020-04-22 14:13:39 INFO     No missing values found\n",
      "2020-04-22 14:13:39 INFO     Writing autoclass.db2 file\n",
      "2020-04-22 14:13:39 INFO     If any, missing values will be encoded as '?'\n",
      "2020-04-22 14:13:39 DEBUG    Writing autoclass.tsv file [for later use]\n",
      "2020-04-22 14:13:39 INFO     Writing .hd2 file\n",
      "2020-04-22 14:13:39 INFO     Writing .model file\n",
      "2020-04-22 14:13:39 INFO     Writing .s-params file\n",
      "2020-04-22 14:13:39 INFO     Writing .r-params file\n"
     ]
    }
   ],
   "source": [
    "import autoclasswrapper as wrapper\n",
    "# Create object to prepare dataset.\n",
    "clust = wrapper.Input()\n",
    "\n",
    "# Load datasets from tsv files.\n",
    "clust.add_input_data(\"../data/trace1/sampleTrainingAutoclass.tsv\", \"real scalar\")\n",
    "\n",
    "# Prepare input data:\n",
    "# - create a final dataframe\n",
    "# - merge datasets if multiple inputs\n",
    "clust.prepare_input_data()\n",
    "\n",
    "# Create files needed by AutoClass.\n",
    "clust.create_db2_file()\n",
    "clust.create_hd2_file()\n",
    "clust.create_model_file()\n",
    "clust.create_sparams_file()\n",
    "clust.create_rparams_file()"
   ]
  },
  {
   "cell_type": "code",
   "execution_count": 4,
   "metadata": {},
   "outputs": [
    {
     "name": "stderr",
     "output_type": "stream",
     "text": [
      "2020-04-22 14:15:00 INFO     AutoClass C executable found in /home/chuongdv/Documents/SourceCode/MachineLearning/autoclass-c/autoclass\n",
      "2020-04-22 14:15:00 INFO     Writing run file\n",
      "2020-04-22 14:15:00 INFO     AutoClass C executable found in /home/chuongdv/Documents/SourceCode/MachineLearning/autoclass-c/autoclass\n",
      "2020-04-22 14:15:00 INFO     AutoClass C version: AUTOCLASS C (version 3.3.6unx)\n",
      "2020-04-22 14:15:00 INFO     Running clustering...\n"
     ]
    }
   ],
   "source": [
    "# Search autoclass in path.\n",
    "wrapper.search_autoclass_in_path()\n",
    "\n",
    "# Create object to run AutoClass.\n",
    "run = wrapper.Run()\n",
    "\n",
    "# Prepare run script.\n",
    "run.create_run_file()\n",
    "\n",
    "# Run AutoClass.\n",
    "run.run()"
   ]
  },
  {
   "cell_type": "code",
   "execution_count": 7,
   "metadata": {},
   "outputs": [
    {
     "name": "stdout",
     "output_type": "stream",
     "text": [
      "Time: 554 sec."
     ]
    },
    {
     "name": "stderr",
     "output_type": "stream",
     "text": [
      "2020-04-22 14:25:16 INFO     Extracting autoclass results\n",
      "2020-04-22 14:25:16 INFO     Found 3363 cases classified in 96 classes\n",
      "2020-04-22 14:25:18 INFO     Aggregating input data\n",
      "2020-04-22 14:25:18 INFO     Writing classes + probabilities .tsv file\n",
      "2020-04-22 14:25:19 INFO     Writing .cdt file\n",
      "2020-04-22 14:25:19 ERROR    Unknown format code 'd' for object of type 'float'\n"
     ]
    }
   ],
   "source": [
    "from pathlib import Path\n",
    "from pathlib import Path\n",
    "import sys\n",
    "import time\n",
    "timer = 0\n",
    "step = 2\n",
    "while not Path(\"autoclass-run-success\").exists():\n",
    "    timer += step\n",
    "    sys.stdout.write(\"\\r\")\n",
    "    sys.stdout.write(f\"Time: {timer} sec.\")\n",
    "    sys.stdout.flush()\n",
    "    time.sleep(step)\n",
    "\n",
    "results = wrapper.Output()\n",
    "results.extract_results()\n",
    "results.aggregate_input_data()\n",
    "results.write_cdt()\n",
    "results.write_cdt(with_proba=True)\n",
    "results.write_class_stats()\n",
    "results.write_dendrogram()"
   ]
  },
  {
   "cell_type": "code",
   "execution_count": 17,
   "metadata": {},
   "outputs": [
    {
     "data": {
      "text/plain": [
       "['__class__',\n",
       " '__delattr__',\n",
       " '__dict__',\n",
       " '__dir__',\n",
       " '__doc__',\n",
       " '__eq__',\n",
       " '__format__',\n",
       " '__ge__',\n",
       " '__getattribute__',\n",
       " '__gt__',\n",
       " '__hash__',\n",
       " '__init__',\n",
       " '__init_subclass__',\n",
       " '__le__',\n",
       " '__lt__',\n",
       " '__module__',\n",
       " '__ne__',\n",
       " '__new__',\n",
       " '__reduce__',\n",
       " '__reduce_ex__',\n",
       " '__repr__',\n",
       " '__setattr__',\n",
       " '__sizeof__',\n",
       " '__str__',\n",
       " '__subclasshook__',\n",
       " '__weakref__',\n",
       " 'add_input_data',\n",
       " 'create_db2_file',\n",
       " 'create_hd2_file',\n",
       " 'create_model_file',\n",
       " 'create_rparams_file',\n",
       " 'create_sparams_file',\n",
       " 'db2_missing_char',\n",
       " 'db2_separator_char',\n",
       " 'full_dataset',\n",
       " 'had_error',\n",
       " 'handle_error',\n",
       " 'input_datasets',\n",
       " 'prepare_input_data',\n",
       " 'print_files',\n",
       " 'root_name',\n",
       " 'tolerate_error']"
      ]
     },
     "execution_count": 17,
     "metadata": {},
     "output_type": "execute_result"
    }
   ],
   "source": [
    "dir(clust)"
   ]
  },
  {
   "cell_type": "code",
   "execution_count": 18,
   "metadata": {},
   "outputs": [
    {
     "data": {
      "text/plain": [
       "['CastFloat64Error',\n",
       " 'Dataset',\n",
       " 'DuplicateColumnNameError',\n",
       " 'Input',\n",
       " 'Output',\n",
       " 'Run',\n",
       " '__builtins__',\n",
       " '__cached__',\n",
       " '__copyright__',\n",
       " '__doc__',\n",
       " '__file__',\n",
       " '__loader__',\n",
       " '__name__',\n",
       " '__package__',\n",
       " '__path__',\n",
       " '__spec__',\n",
       " '__version__',\n",
       " 'get_autoclass_version',\n",
       " 'input',\n",
       " 'log',\n",
       " 'log_formatter',\n",
       " 'log_handler',\n",
       " 'logging',\n",
       " 'output',\n",
       " 'raise_on_duplicates',\n",
       " 'run',\n",
       " 'search_autoclass_in_path',\n",
       " 'tools']"
      ]
     },
     "execution_count": 18,
     "metadata": {},
     "output_type": "execute_result"
    }
   ],
   "source": [
    "dir(wrapper)"
   ]
  },
  {
   "cell_type": "code",
   "execution_count": 19,
   "metadata": {},
   "outputs": [
    {
     "data": {
      "text/plain": [
       "['__class__',\n",
       " '__delattr__',\n",
       " '__dict__',\n",
       " '__dir__',\n",
       " '__doc__',\n",
       " '__eq__',\n",
       " '__format__',\n",
       " '__ge__',\n",
       " '__getattribute__',\n",
       " '__gt__',\n",
       " '__hash__',\n",
       " '__init__',\n",
       " '__init_subclass__',\n",
       " '__le__',\n",
       " '__lt__',\n",
       " '__module__',\n",
       " '__ne__',\n",
       " '__new__',\n",
       " '__reduce__',\n",
       " '__reduce_ex__',\n",
       " '__repr__',\n",
       " '__setattr__',\n",
       " '__sizeof__',\n",
       " '__str__',\n",
       " '__subclasshook__',\n",
       " '__weakref__',\n",
       " 'create_run_file',\n",
       " 'create_run_file_test',\n",
       " 'had_error',\n",
       " 'handle_error',\n",
       " 'root_name',\n",
       " 'run',\n",
       " 'tolerate_error']"
      ]
     },
     "execution_count": 19,
     "metadata": {},
     "output_type": "execute_result"
    }
   ],
   "source": [
    "dir(run)"
   ]
  },
  {
   "cell_type": "code",
   "execution_count": null,
   "metadata": {},
   "outputs": [],
   "source": []
  }
 ],
 "metadata": {
  "kernelspec": {
   "display_name": "Python 3",
   "language": "python",
   "name": "python3"
  },
  "language_info": {
   "codemirror_mode": {
    "name": "ipython",
    "version": 3
   },
   "file_extension": ".py",
   "mimetype": "text/x-python",
   "name": "python",
   "nbconvert_exporter": "python",
   "pygments_lexer": "ipython3",
   "version": "3.7.6"
  }
 },
 "nbformat": 4,
 "nbformat_minor": 4
}
