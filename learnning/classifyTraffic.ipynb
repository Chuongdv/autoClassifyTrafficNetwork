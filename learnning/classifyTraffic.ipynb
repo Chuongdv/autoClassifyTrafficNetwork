{
 "cells": [
  {
   "cell_type": "code",
   "execution_count": 5,
   "metadata": {},
   "outputs": [
    {
     "name": "stdout",
     "output_type": "stream",
     "text": [
      "Python: 3.7.5 (default, Nov 20 2019, 09:21:52) \n",
      "[GCC 9.2.1 20191008]\n",
      "matplotlib: 3.2.1\n",
      "numpy: 1.18.2\n",
      "pandas: 1.0.3\n",
      "AutoClassWrapper: 1.5.1\n"
     ]
    }
   ],
   "source": [
    "import autoclasswrapper as wrapper\n",
    "from pathlib import Path\n",
    "import sys\n",
    "import time\n",
    "\n",
    "import matplotlib\n",
    "import matplotlib.pyplot as plt\n",
    "from matplotlib.lines import Line2D\n",
    "import numpy as np\n",
    "import pandas as pd\n",
    "\n",
    "%matplotlib inline\n",
    "\n",
    "print(\"Python:\", sys.version)\n",
    "print(\"matplotlib:\", matplotlib.__version__)\n",
    "print(\"numpy:\", np.__version__)\n",
    "print(\"pandas:\", pd.__version__)\n",
    "\n",
    "import autoclasswrapper as wrapper\n",
    "print(\"AutoClassWrapper:\", wrapper.__version__)\n",
    "\n",
    "version = sys.version_info\n",
    "if not ((version.major >= 3) and (version.minor >= 6)):\n",
    "    sys.exit(\"Need Python>=3.6\")\n",
    "clust = wrapper.Input()"
   ]
  },
  {
   "cell_type": "code",
   "execution_count": 6,
   "metadata": {},
   "outputs": [
    {
     "name": "stderr",
     "output_type": "stream",
     "text": [
      "2020-04-10 14:48:01 INFO     Reading data file 'data/data6.tsv' as 'real location' with error 0.01\n",
      "2020-04-10 14:48:01 INFO     Detected encoding: ascii\n",
      "2020-04-10 14:48:01 INFO     Found 100 rows and 5 columns\n",
      "2020-04-10 14:48:01 DEBUG    Checking column names\n",
      "2020-04-10 14:48:01 DEBUG    Index name 'index'\n",
      "2020-04-10 14:48:01 DEBUG    Column name 'total_fpackets'\n",
      "2020-04-10 14:48:01 DEBUG    Column name 'total_fvolume'\n",
      "2020-04-10 14:48:01 DEBUG    Column name 'total_bpackets'\n",
      "2020-04-10 14:48:01 DEBUG    Column name 'total_bvolume'\n",
      "2020-04-10 14:48:01 INFO     Checking data format\n",
      "2020-04-10 14:48:01 INFO     Column 'total_fpackets'\n",
      "2020-04-10 14:48:01 INFO     count     100.000000\n",
      "2020-04-10 14:48:01 INFO     mean       74.280000\n",
      "2020-04-10 14:48:01 INFO     std       502.416506\n",
      "2020-04-10 14:48:01 INFO     min         5.000000\n",
      "2020-04-10 14:48:01 INFO     50%         8.000000\n",
      "2020-04-10 14:48:01 INFO     max      4984.000000\n",
      "2020-04-10 14:48:01 INFO     ---\n",
      "2020-04-10 14:48:01 INFO     Column 'total_fvolume'\n",
      "2020-04-10 14:48:01 INFO     count       100.000000\n",
      "2020-04-10 14:48:01 INFO     mean       5268.040000\n",
      "2020-04-10 14:48:01 INFO     std       22148.950962\n",
      "2020-04-10 14:48:01 INFO     min         268.000000\n",
      "2020-04-10 14:48:01 INFO     50%        1448.500000\n",
      "2020-04-10 14:48:01 INFO     max      217278.000000\n",
      "2020-04-10 14:48:01 INFO     ---\n",
      "2020-04-10 14:48:01 INFO     Column 'total_bpackets'\n",
      "2020-04-10 14:48:01 INFO     count      100.000000\n",
      "2020-04-10 14:48:01 INFO     mean       177.140000\n",
      "2020-04-10 14:48:01 INFO     std       1277.096636\n",
      "2020-04-10 14:48:01 INFO     min          4.000000\n",
      "2020-04-10 14:48:01 INFO     50%          8.000000\n",
      "2020-04-10 14:48:01 INFO     max      12477.000000\n",
      "2020-04-10 14:48:01 INFO     ---\n",
      "2020-04-10 14:48:01 INFO     Column 'total_bvolume'\n",
      "2020-04-10 14:48:01 INFO     count    1.000000e+02\n",
      "2020-04-10 14:48:01 INFO     mean     3.000735e+05\n",
      "2020-04-10 14:48:01 INFO     std      2.075570e+06\n",
      "2020-04-10 14:48:01 INFO     min      2.370000e+02\n",
      "2020-04-10 14:48:01 INFO     50%      1.063000e+03\n",
      "2020-04-10 14:48:01 INFO     max      1.973389e+07\n",
      "2020-04-10 14:48:01 INFO     ---\n"
     ]
    }
   ],
   "source": [
    "clust.add_input_data(\"data/data6.tsv\", \"real location\")"
   ]
  },
  {
   "cell_type": "code",
   "execution_count": 7,
   "metadata": {},
   "outputs": [
    {
     "name": "stderr",
     "output_type": "stream",
     "text": [
      "2020-04-10 14:48:05 INFO     Final dataframe has 100 lines and 5 columns\n",
      "2020-04-10 14:48:05 INFO     Searching for missing values\n",
      "2020-04-10 14:48:05 INFO     No missing values found\n",
      "2020-04-10 14:48:05 INFO     Writing autoclass.db2 file\n",
      "2020-04-10 14:48:05 INFO     If any, missing values will be encoded as '?'\n",
      "2020-04-10 14:48:05 DEBUG    Writing autoclass.tsv file [for later use]\n",
      "2020-04-10 14:48:05 INFO     Writing .hd2 file\n",
      "2020-04-10 14:48:05 INFO     Writing .model file\n",
      "2020-04-10 14:48:05 INFO     Writing .s-params file\n",
      "2020-04-10 14:48:05 INFO     Writing .r-params file\n"
     ]
    }
   ],
   "source": [
    "clust.prepare_input_data()\n",
    "clust.create_db2_file()\n",
    "clust.create_hd2_file()\n",
    "clust.create_model_file()\n",
    "clust.create_sparams_file()\n",
    "clust.create_rparams_file()"
   ]
  },
  {
   "cell_type": "code",
   "execution_count": 8,
   "metadata": {},
   "outputs": [
    {
     "name": "stderr",
     "output_type": "stream",
     "text": [
      "2020-04-10 14:48:07 INFO     AutoClass C executable found in /home/chuongdv/Documents/SourceCode/MachineLearning/autoclass-c/autoclass\n",
      "2020-04-10 14:48:07 INFO     Writing run file\n",
      "2020-04-10 14:48:07 INFO     AutoClass C executable found in /home/chuongdv/Documents/SourceCode/MachineLearning/autoclass-c/autoclass\n",
      "2020-04-10 14:48:07 INFO     AutoClass C version: AUTOCLASS C (version 3.3.6unx)\n",
      "2020-04-10 14:48:07 INFO     Running clustering...\n"
     ]
    }
   ],
   "source": [
    "# Clean previous status file and results if a classification has already been performed.\n",
    "#!rm -f autoclass-run-* *.results-bin\n",
    "\n",
    "# Search autoclass in path.\n",
    "wrapper.search_autoclass_in_path()\n",
    "\n",
    "# Create object to run AutoClass.\n",
    "run = wrapper.Run()\n",
    "\n",
    "# Prepare run script.\n",
    "run.create_run_file()\n",
    "\n",
    "# Run AutoClass.\n",
    "run.run()"
   ]
  },
  {
   "cell_type": "code",
   "execution_count": 9,
   "metadata": {},
   "outputs": [
    {
     "name": "stdout",
     "output_type": "stream",
     "text": [
      "Time: 66 sec."
     ]
    },
    {
     "ename": "KeyboardInterrupt",
     "evalue": "",
     "output_type": "error",
     "traceback": [
      "\u001b[0;31m---------------------------------------------------------------------------\u001b[0m",
      "\u001b[0;31mKeyboardInterrupt\u001b[0m                         Traceback (most recent call last)",
      "\u001b[0;32m<ipython-input-9-1c34913cdb5d>\u001b[0m in \u001b[0;36m<module>\u001b[0;34m\u001b[0m\n\u001b[1;32m      6\u001b[0m     \u001b[0msys\u001b[0m\u001b[0;34m.\u001b[0m\u001b[0mstdout\u001b[0m\u001b[0;34m.\u001b[0m\u001b[0mwrite\u001b[0m\u001b[0;34m(\u001b[0m\u001b[0;34mf\"Time: {timer} sec.\"\u001b[0m\u001b[0;34m)\u001b[0m\u001b[0;34m\u001b[0m\u001b[0;34m\u001b[0m\u001b[0m\n\u001b[1;32m      7\u001b[0m     \u001b[0msys\u001b[0m\u001b[0;34m.\u001b[0m\u001b[0mstdout\u001b[0m\u001b[0;34m.\u001b[0m\u001b[0mflush\u001b[0m\u001b[0;34m(\u001b[0m\u001b[0;34m)\u001b[0m\u001b[0;34m\u001b[0m\u001b[0;34m\u001b[0m\u001b[0m\n\u001b[0;32m----> 8\u001b[0;31m     \u001b[0mtime\u001b[0m\u001b[0;34m.\u001b[0m\u001b[0msleep\u001b[0m\u001b[0;34m(\u001b[0m\u001b[0mstep\u001b[0m\u001b[0;34m)\u001b[0m\u001b[0;34m\u001b[0m\u001b[0;34m\u001b[0m\u001b[0m\n\u001b[0m\u001b[1;32m      9\u001b[0m \u001b[0;34m\u001b[0m\u001b[0m\n\u001b[1;32m     10\u001b[0m \u001b[0mresults\u001b[0m \u001b[0;34m=\u001b[0m \u001b[0mwrapper\u001b[0m\u001b[0;34m.\u001b[0m\u001b[0mOutput\u001b[0m\u001b[0;34m(\u001b[0m\u001b[0;34m)\u001b[0m\u001b[0;34m\u001b[0m\u001b[0;34m\u001b[0m\u001b[0m\n",
      "\u001b[0;31mKeyboardInterrupt\u001b[0m: "
     ]
    }
   ],
   "source": [
    "timer = 0\n",
    "step = 2\n",
    "while not Path(\"autoclass-run-success\").exists():\n",
    "    timer += step\n",
    "    sys.stdout.write(\"\\r\")\n",
    "    sys.stdout.write(f\"Time: {timer} sec.\")\n",
    "    sys.stdout.flush()\n",
    "    time.sleep(step)\n",
    "\n",
    "results = wrapper.Output()\n",
    "results.extract_results()\n",
    "results.aggregate_input_data()\n",
    "results.write_cdt()\n",
    "results.write_cdt(with_proba=True)\n",
    "results.write_class_stats()\n",
    "results.write_dendrogram()"
   ]
  },
  {
   "cell_type": "code",
   "execution_count": null,
   "metadata": {},
   "outputs": [],
   "source": []
  }
 ],
 "metadata": {
  "kernelspec": {
   "display_name": "Python 3",
   "language": "python",
   "name": "python3"
  },
  "language_info": {
   "codemirror_mode": {
    "name": "ipython",
    "version": 3
   },
   "file_extension": ".py",
   "mimetype": "text/x-python",
   "name": "python",
   "nbconvert_exporter": "python",
   "pygments_lexer": "ipython3",
   "version": "3.7.5"
  }
 },
 "nbformat": 4,
 "nbformat_minor": 4
}
