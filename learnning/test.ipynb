{
 "cells": [
  {
   "cell_type": "code",
   "execution_count": 1,
   "metadata": {},
   "outputs": [
    {
     "name": "stderr",
     "output_type": "stream",
     "text": [
      "2020-04-21 07:45:56 INFO     Reading data file '../data/trace2/autoclassOptimal.tsv' as 'real location' with error 0.01\n",
      "2020-04-21 07:45:56 INFO     Detected encoding: ascii\n",
      "2020-04-21 07:45:57 INFO     Found 332507 rows and 8 columns\n",
      "2020-04-21 07:45:57 DEBUG    Checking column names\n",
      "2020-04-21 07:45:57 DEBUG    Index name 'index'\n",
      "2020-04-21 07:45:57 DEBUG    Column name 'Fwd_Packet_Length_Mean'\n",
      "2020-04-21 07:45:57 DEBUG    Column name 'Fwd_Packet_Length_Std'\n",
      "2020-04-21 07:45:57 DEBUG    Column name 'Bwd_Packet_Length_Std'\n",
      "2020-04-21 07:45:57 DEBUG    Column name 'Bwd_Packet_Length_Mean'\n",
      "2020-04-21 07:45:57 DEBUG    Column name 'Fwd_IAT_Mean'\n",
      "2020-04-21 07:45:57 DEBUG    Column name 'Flow_Duration'\n",
      "2020-04-21 07:45:57 DEBUG    Column name 'Total_Length_of_Fwd_Packets'\n",
      "2020-04-21 07:45:57 INFO     Checking data format\n",
      "2020-04-21 07:45:57 INFO     Column 'Fwd_Packet_Length_Mean'\n",
      "2020-04-21 07:45:57 INFO     count    332507.000000\n",
      "2020-04-21 07:45:57 INFO     mean        166.676923\n",
      "2020-04-21 07:45:57 INFO     std         261.556611\n",
      "2020-04-21 07:45:57 INFO     min           0.000000\n",
      "2020-04-21 07:45:57 INFO     50%          95.500000\n",
      "2020-04-21 07:45:57 INFO     max        4690.142857\n",
      "2020-04-21 07:45:57 INFO     ---\n",
      "2020-04-21 07:45:57 INFO     Column 'Fwd_Packet_Length_Std'\n",
      "2020-04-21 07:45:57 INFO     count    332507.000000\n",
      "2020-04-21 07:45:57 INFO     mean        237.117294\n",
      "2020-04-21 07:45:57 INFO     std         254.320134\n",
      "2020-04-21 07:45:57 INFO     min           0.000000\n",
      "2020-04-21 07:45:57 INFO     50%         168.109422\n",
      "2020-04-21 07:45:57 INFO     max        4467.469695\n",
      "2020-04-21 07:45:57 INFO     ---\n",
      "2020-04-21 07:45:57 INFO     Column 'Bwd_Packet_Length_Std'\n",
      "2020-04-21 07:45:57 INFO     count    332507.000000\n",
      "2020-04-21 07:45:57 INFO     mean        494.807419\n",
      "2020-04-21 07:45:57 INFO     std         549.034269\n",
      "2020-04-21 07:45:57 INFO     min           0.000000\n",
      "2020-04-21 07:45:57 INFO     50%         266.927491\n",
      "2020-04-21 07:45:57 INFO     max        5163.395473\n",
      "2020-04-21 07:45:57 INFO     ---\n",
      "2020-04-21 07:45:57 INFO     Column 'Bwd_Packet_Length_Mean'\n",
      "2020-04-21 07:45:57 INFO     count    332507.000000\n",
      "2020-04-21 07:45:57 INFO     mean        426.185380\n",
      "2020-04-21 07:45:57 INFO     std         597.546555\n",
      "2020-04-21 07:45:57 INFO     min           0.000000\n",
      "2020-04-21 07:45:57 INFO     50%         153.137255\n",
      "2020-04-21 07:45:57 INFO     max        6208.250000\n",
      "2020-04-21 07:45:57 INFO     ---\n",
      "2020-04-21 07:45:57 INFO     Column 'Fwd_IAT_Mean'\n",
      "2020-04-21 07:45:57 INFO     count    3.325070e+05\n",
      "2020-04-21 07:45:57 INFO     mean     4.175471e+06\n",
      "2020-04-21 07:45:57 INFO     std      8.497803e+06\n",
      "2020-04-21 07:45:57 INFO     min      0.000000e+00\n",
      "2020-04-21 07:45:57 INFO     50%      3.708903e+05\n",
      "2020-04-21 07:45:57 INFO     max      5.999949e+07\n",
      "2020-04-21 07:45:57 INFO     ---\n",
      "2020-04-21 07:45:57 INFO     Column 'Flow_Duration'\n",
      "2020-04-21 07:45:57 INFO     count    3.325070e+05\n",
      "2020-04-21 07:45:57 INFO     mean     4.009981e+07\n",
      "2020-04-21 07:45:57 INFO     std      4.491096e+07\n",
      "2020-04-21 07:45:57 INFO     min      1.000000e+00\n",
      "2020-04-21 07:45:57 INFO     50%      1.169063e+07\n",
      "2020-04-21 07:45:57 INFO     max      1.200000e+08\n",
      "2020-04-21 07:45:57 INFO     ---\n",
      "2020-04-21 07:45:57 INFO     Column 'Total_Length_of_Fwd_Packets'\n",
      "2020-04-21 07:45:57 INFO     count    3.325070e+05\n",
      "2020-04-21 07:45:57 INFO     mean     7.013439e+04\n",
      "2020-04-21 07:45:57 INFO     std      2.442061e+06\n",
      "2020-04-21 07:45:57 INFO     min      0.000000e+00\n",
      "2020-04-21 07:45:57 INFO     50%      1.266000e+03\n",
      "2020-04-21 07:45:57 INFO     max      6.780236e+08\n",
      "2020-04-21 07:45:57 INFO     ---\n",
      "2020-04-21 07:45:57 INFO     Final dataframe has 332507 lines and 8 columns\n",
      "2020-04-21 07:45:57 INFO     Searching for missing values\n",
      "2020-04-21 07:45:57 INFO     No missing values found\n",
      "2020-04-21 07:45:57 INFO     Writing autoclass.db2 file\n",
      "2020-04-21 07:45:57 INFO     If any, missing values will be encoded as '?'\n",
      "2020-04-21 07:46:00 DEBUG    Writing autoclass.tsv file [for later use]\n",
      "2020-04-21 07:46:03 INFO     Writing .hd2 file\n",
      "2020-04-21 07:46:03 INFO     Writing .model file\n",
      "2020-04-21 07:46:03 INFO     Writing .s-params file\n",
      "2020-04-21 07:46:03 INFO     Writing .r-params file\n"
     ]
    }
   ],
   "source": [
    "import autoclasswrapper as wrapper\n",
    "# Create object to prepare dataset.\n",
    "clust = wrapper.Input()\n",
    "\n",
    "# Load datasets from tsv files.\n",
    "clust.add_input_data(\"../data/trace2/autoclassOptimal.tsv\", \"real location\")\n",
    "\n",
    "# Prepare input data:\n",
    "# - create a final dataframe\n",
    "# - merge datasets if multiple inputs\n",
    "clust.prepare_input_data()\n",
    "\n",
    "# Create files needed by AutoClass.\n",
    "clust.create_db2_file()\n",
    "clust.create_hd2_file()\n",
    "clust.create_model_file()\n",
    "clust.create_sparams_file()\n",
    "clust.create_rparams_file()"
   ]
  },
  {
   "cell_type": "code",
   "execution_count": 2,
   "metadata": {},
   "outputs": [
    {
     "name": "stderr",
     "output_type": "stream",
     "text": [
      "2020-04-21 07:46:27 INFO     AutoClass C executable found in /home/chuongdv/Documents/SourceCode/MachineLearning/autoclass-c/autoclass\n",
      "2020-04-21 07:46:27 INFO     Writing run file\n",
      "2020-04-21 07:46:27 INFO     AutoClass C executable found in /home/chuongdv/Documents/SourceCode/MachineLearning/autoclass-c/autoclass\n",
      "2020-04-21 07:46:27 INFO     AutoClass C version: AUTOCLASS C (version 3.3.6unx)\n",
      "2020-04-21 07:46:27 INFO     Running clustering...\n"
     ]
    }
   ],
   "source": [
    "# Clean previous status file and results if a classification has already been performed.\n",
    "!rm -f autoclass-run-* *.results-bin\n",
    "\n",
    "# Search autoclass in path.\n",
    "wrapper.search_autoclass_in_path()\n",
    "\n",
    "# Create object to run AutoClass.\n",
    "run = wrapper.Run()\n",
    "\n",
    "# Prepare run script.\n",
    "run.create_run_file()\n",
    "\n",
    "# Run AutoClass.\n",
    "run.run()"
   ]
  },
  {
   "cell_type": "code",
   "execution_count": null,
   "metadata": {},
   "outputs": [],
   "source": []
  }
 ],
 "metadata": {
  "kernelspec": {
   "display_name": "Python 3",
   "language": "python",
   "name": "python3"
  },
  "language_info": {
   "codemirror_mode": {
    "name": "ipython",
    "version": 3
   },
   "file_extension": ".py",
   "mimetype": "text/x-python",
   "name": "python",
   "nbconvert_exporter": "python",
   "pygments_lexer": "ipython3",
   "version": "3.7.6"
  }
 },
 "nbformat": 4,
 "nbformat_minor": 4
}
