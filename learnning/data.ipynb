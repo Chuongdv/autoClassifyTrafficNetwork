{
 "cells": [
  {
   "cell_type": "code",
   "execution_count": 2,
   "metadata": {},
   "outputs": [],
   "source": [
    "import numpy as np\n",
    "import pandas as pd\n"
   ]
  },
  {
   "cell_type": "code",
   "execution_count": null,
   "metadata": {},
   "outputs": [],
   "source": [
    "data = pd.read_csv('/home/hdt/Documents/trafficclassifier-master/netmate-ni.csv')"
   ]
  },
  {
   "cell_type": "code",
   "execution_count": 2,
   "metadata": {},
   "outputs": [],
   "source": [
    "data.columns=['srcip ', 'srcport', 'dstip', 'dstport', 'proto', 'total_fpackets', 'total_fvolume','total_bpackets','total_bvolume','min_fpktl','mean_fpktl',\n",
    "             'max_fpktl','std_fpktl','min_bpktl','mean_bpktl','max_bpktl','std_bpktl','min_fiat','mean_fiat','max_fiat','std_fiat','min_biat','mean_biat','max_biat','std_biat','duration',\n",
    "             'min_active','mean_active','max_active','std_active','min_idle','mean_idle','max_idle','std_idle','sflow_fpackets','sflow_fbytes','sflow_bpackets','sflow_bbytes','fpsh_cnt','bpsh_cnt','furg_cnt','burg_cnt','total_fhlen','total_bhlen']"
   ]
  },
  {
   "cell_type": "code",
   "execution_count": 5,
   "metadata": {},
   "outputs": [
    {
     "data": {
      "text/html": [
       "<div>\n",
       "<style scoped>\n",
       "    .dataframe tbody tr th:only-of-type {\n",
       "        vertical-align: middle;\n",
       "    }\n",
       "\n",
       "    .dataframe tbody tr th {\n",
       "        vertical-align: top;\n",
       "    }\n",
       "\n",
       "    .dataframe thead th {\n",
       "        text-align: right;\n",
       "    }\n",
       "</style>\n",
       "<table border=\"1\" class=\"dataframe\">\n",
       "  <thead>\n",
       "    <tr style=\"text-align: right;\">\n",
       "      <th></th>\n",
       "      <th>srcip</th>\n",
       "      <th>srcport</th>\n",
       "      <th>dstip</th>\n",
       "      <th>dstport</th>\n",
       "      <th>proto</th>\n",
       "      <th>total_fpackets</th>\n",
       "      <th>total_fvolume</th>\n",
       "      <th>total_bpackets</th>\n",
       "      <th>total_bvolume</th>\n",
       "      <th>min_fpktl</th>\n",
       "      <th>...</th>\n",
       "      <th>sflow_fpackets</th>\n",
       "      <th>sflow_fbytes</th>\n",
       "      <th>sflow_bpackets</th>\n",
       "      <th>sflow_bbytes</th>\n",
       "      <th>fpsh_cnt</th>\n",
       "      <th>bpsh_cnt</th>\n",
       "      <th>furg_cnt</th>\n",
       "      <th>burg_cnt</th>\n",
       "      <th>total_fhlen</th>\n",
       "      <th>total_bhlen</th>\n",
       "    </tr>\n",
       "  </thead>\n",
       "  <tbody>\n",
       "    <tr>\n",
       "      <th>0</th>\n",
       "      <td>150.193.125.234</td>\n",
       "      <td>62465</td>\n",
       "      <td>172.194.224.18</td>\n",
       "      <td>443</td>\n",
       "      <td>6</td>\n",
       "      <td>101</td>\n",
       "      <td>6840</td>\n",
       "      <td>180</td>\n",
       "      <td>241986</td>\n",
       "      <td>40</td>\n",
       "      <td>...</td>\n",
       "      <td>101</td>\n",
       "      <td>6840</td>\n",
       "      <td>180</td>\n",
       "      <td>241986</td>\n",
       "      <td>17</td>\n",
       "      <td>15</td>\n",
       "      <td>0</td>\n",
       "      <td>0</td>\n",
       "      <td>5252</td>\n",
       "      <td>9368</td>\n",
       "    </tr>\n",
       "    <tr>\n",
       "      <th>1</th>\n",
       "      <td>182.243.200.203</td>\n",
       "      <td>12155</td>\n",
       "      <td>150.193.15.202</td>\n",
       "      <td>80</td>\n",
       "      <td>6</td>\n",
       "      <td>6</td>\n",
       "      <td>450</td>\n",
       "      <td>6</td>\n",
       "      <td>961</td>\n",
       "      <td>52</td>\n",
       "      <td>...</td>\n",
       "      <td>6</td>\n",
       "      <td>450</td>\n",
       "      <td>6</td>\n",
       "      <td>961</td>\n",
       "      <td>2</td>\n",
       "      <td>1</td>\n",
       "      <td>0</td>\n",
       "      <td>0</td>\n",
       "      <td>320</td>\n",
       "      <td>320</td>\n",
       "    </tr>\n",
       "    <tr>\n",
       "      <th>2</th>\n",
       "      <td>113.80.154.130</td>\n",
       "      <td>22066</td>\n",
       "      <td>203.141.118.229</td>\n",
       "      <td>80</td>\n",
       "      <td>6</td>\n",
       "      <td>5</td>\n",
       "      <td>328</td>\n",
       "      <td>6</td>\n",
       "      <td>687</td>\n",
       "      <td>52</td>\n",
       "      <td>...</td>\n",
       "      <td>5</td>\n",
       "      <td>328</td>\n",
       "      <td>6</td>\n",
       "      <td>687</td>\n",
       "      <td>1</td>\n",
       "      <td>1</td>\n",
       "      <td>0</td>\n",
       "      <td>0</td>\n",
       "      <td>268</td>\n",
       "      <td>320</td>\n",
       "    </tr>\n",
       "    <tr>\n",
       "      <th>3</th>\n",
       "      <td>202.75.123.30</td>\n",
       "      <td>41648</td>\n",
       "      <td>150.193.13.137</td>\n",
       "      <td>80</td>\n",
       "      <td>6</td>\n",
       "      <td>5</td>\n",
       "      <td>432</td>\n",
       "      <td>5</td>\n",
       "      <td>435</td>\n",
       "      <td>52</td>\n",
       "      <td>...</td>\n",
       "      <td>5</td>\n",
       "      <td>432</td>\n",
       "      <td>5</td>\n",
       "      <td>435</td>\n",
       "      <td>1</td>\n",
       "      <td>1</td>\n",
       "      <td>0</td>\n",
       "      <td>0</td>\n",
       "      <td>268</td>\n",
       "      <td>268</td>\n",
       "    </tr>\n",
       "    <tr>\n",
       "      <th>4</th>\n",
       "      <td>202.75.123.30</td>\n",
       "      <td>41651</td>\n",
       "      <td>150.193.13.137</td>\n",
       "      <td>80</td>\n",
       "      <td>6</td>\n",
       "      <td>6</td>\n",
       "      <td>483</td>\n",
       "      <td>6</td>\n",
       "      <td>2695</td>\n",
       "      <td>52</td>\n",
       "      <td>...</td>\n",
       "      <td>6</td>\n",
       "      <td>483</td>\n",
       "      <td>6</td>\n",
       "      <td>2695</td>\n",
       "      <td>1</td>\n",
       "      <td>1</td>\n",
       "      <td>0</td>\n",
       "      <td>0</td>\n",
       "      <td>320</td>\n",
       "      <td>320</td>\n",
       "    </tr>\n",
       "  </tbody>\n",
       "</table>\n",
       "<p>5 rows × 44 columns</p>\n",
       "</div>"
      ],
      "text/plain": [
       "            srcip   srcport            dstip  dstport  proto  total_fpackets  \\\n",
       "0  150.193.125.234    62465   172.194.224.18      443      6             101   \n",
       "1  182.243.200.203    12155   150.193.15.202       80      6               6   \n",
       "2   113.80.154.130    22066  203.141.118.229       80      6               5   \n",
       "3    202.75.123.30    41648   150.193.13.137       80      6               5   \n",
       "4    202.75.123.30    41651   150.193.13.137       80      6               6   \n",
       "\n",
       "   total_fvolume  total_bpackets  total_bvolume  min_fpktl  ...  \\\n",
       "0           6840             180         241986         40  ...   \n",
       "1            450               6            961         52  ...   \n",
       "2            328               6            687         52  ...   \n",
       "3            432               5            435         52  ...   \n",
       "4            483               6           2695         52  ...   \n",
       "\n",
       "   sflow_fpackets  sflow_fbytes  sflow_bpackets  sflow_bbytes  fpsh_cnt  \\\n",
       "0             101          6840             180        241986        17   \n",
       "1               6           450               6           961         2   \n",
       "2               5           328               6           687         1   \n",
       "3               5           432               5           435         1   \n",
       "4               6           483               6          2695         1   \n",
       "\n",
       "   bpsh_cnt  furg_cnt  burg_cnt  total_fhlen  total_bhlen  \n",
       "0        15         0         0         5252         9368  \n",
       "1         1         0         0          320          320  \n",
       "2         1         0         0          268          320  \n",
       "3         1         0         0          268          268  \n",
       "4         1         0         0          320          320  \n",
       "\n",
       "[5 rows x 44 columns]"
      ]
     },
     "execution_count": 5,
     "metadata": {},
     "output_type": "execute_result"
    }
   ],
   "source": [
    "data.head()"
   ]
  },
  {
   "cell_type": "code",
   "execution_count": 28,
   "metadata": {},
   "outputs": [
    {
     "data": {
      "text/plain": [
       "1247639"
      ]
     },
     "execution_count": 28,
     "metadata": {},
     "output_type": "execute_result"
    }
   ],
   "source": [
    "data = data.drop(columns = ['furg_cnt','burg_cnt','max_idle','std_idle','min_idle','mean_idle'])\n",
    "len(data)               "
   ]
  },
  {
   "cell_type": "code",
   "execution_count": 29,
   "metadata": {},
   "outputs": [],
   "source": [
    "data1 = data[data['proto']==6]\n",
    "data1 = data1[data1['total_bpackets']>2]\n",
    "data1 = data1[data1['total_fpackets']>2]"
   ]
  },
  {
   "cell_type": "code",
   "execution_count": 30,
   "metadata": {},
   "outputs": [],
   "source": [
    "data2 = data[data['proto']==7]\n",
    "data2 = data2[data2['total_bpackets']>1]\n",
    "data2 = data2[data2['total_fpackets']>1]\n"
   ]
  },
  {
   "cell_type": "code",
   "execution_count": 31,
   "metadata": {},
   "outputs": [],
   "source": [
    "dataN = data1.append(data2)"
   ]
  },
  {
   "cell_type": "code",
   "execution_count": 42,
   "metadata": {},
   "outputs": [
    {
     "data": {
      "text/plain": [
       "21080"
      ]
     },
     "execution_count": 42,
     "metadata": {},
     "output_type": "execute_result"
    }
   ],
   "source": [
    "dataN=dataN[dataN['dstport']<1024]\n",
    "len(dataN)"
   ]
  },
  {
   "cell_type": "code",
   "execution_count": 33,
   "metadata": {},
   "outputs": [
    {
     "data": {
      "text/html": [
       "<div>\n",
       "<style scoped>\n",
       "    .dataframe tbody tr th:only-of-type {\n",
       "        vertical-align: middle;\n",
       "    }\n",
       "\n",
       "    .dataframe tbody tr th {\n",
       "        vertical-align: top;\n",
       "    }\n",
       "\n",
       "    .dataframe thead th {\n",
       "        text-align: right;\n",
       "    }\n",
       "</style>\n",
       "<table border=\"1\" class=\"dataframe\">\n",
       "  <thead>\n",
       "    <tr style=\"text-align: right;\">\n",
       "      <th></th>\n",
       "      <th>srcip</th>\n",
       "      <th>srcport</th>\n",
       "      <th>dstip</th>\n",
       "      <th>dstport</th>\n",
       "      <th>proto</th>\n",
       "      <th>total_fpackets</th>\n",
       "      <th>total_fvolume</th>\n",
       "      <th>total_bpackets</th>\n",
       "      <th>total_bvolume</th>\n",
       "      <th>min_fpktl</th>\n",
       "      <th>...</th>\n",
       "      <th>max_active</th>\n",
       "      <th>std_active</th>\n",
       "      <th>sflow_fpackets</th>\n",
       "      <th>sflow_fbytes</th>\n",
       "      <th>sflow_bpackets</th>\n",
       "      <th>sflow_bbytes</th>\n",
       "      <th>fpsh_cnt</th>\n",
       "      <th>bpsh_cnt</th>\n",
       "      <th>total_fhlen</th>\n",
       "      <th>total_bhlen</th>\n",
       "    </tr>\n",
       "  </thead>\n",
       "  <tbody>\n",
       "    <tr>\n",
       "      <th>53</th>\n",
       "      <td>153.230.10.148</td>\n",
       "      <td>60395</td>\n",
       "      <td>150.193.15.202</td>\n",
       "      <td>63206</td>\n",
       "      <td>6</td>\n",
       "      <td>5</td>\n",
       "      <td>272</td>\n",
       "      <td>4</td>\n",
       "      <td>360</td>\n",
       "      <td>52</td>\n",
       "      <td>...</td>\n",
       "      <td>121650</td>\n",
       "      <td>0</td>\n",
       "      <td>5</td>\n",
       "      <td>272</td>\n",
       "      <td>4</td>\n",
       "      <td>360</td>\n",
       "      <td>0</td>\n",
       "      <td>1</td>\n",
       "      <td>272</td>\n",
       "      <td>216</td>\n",
       "    </tr>\n",
       "    <tr>\n",
       "      <th>54</th>\n",
       "      <td>112.212.218.84</td>\n",
       "      <td>62622</td>\n",
       "      <td>202.1.57.71</td>\n",
       "      <td>22</td>\n",
       "      <td>6</td>\n",
       "      <td>3</td>\n",
       "      <td>203</td>\n",
       "      <td>3</td>\n",
       "      <td>152</td>\n",
       "      <td>60</td>\n",
       "      <td>...</td>\n",
       "      <td>341159</td>\n",
       "      <td>0</td>\n",
       "      <td>3</td>\n",
       "      <td>203</td>\n",
       "      <td>3</td>\n",
       "      <td>152</td>\n",
       "      <td>2</td>\n",
       "      <td>0</td>\n",
       "      <td>164</td>\n",
       "      <td>152</td>\n",
       "    </tr>\n",
       "  </tbody>\n",
       "</table>\n",
       "<p>2 rows × 38 columns</p>\n",
       "</div>"
      ],
      "text/plain": [
       "            srcip   srcport           dstip  dstport  proto  total_fpackets  \\\n",
       "53  153.230.10.148    60395  150.193.15.202    63206      6               5   \n",
       "54  112.212.218.84    62622     202.1.57.71       22      6               3   \n",
       "\n",
       "    total_fvolume  total_bpackets  total_bvolume  min_fpktl  ...  max_active  \\\n",
       "53            272               4            360         52  ...      121650   \n",
       "54            203               3            152         60  ...      341159   \n",
       "\n",
       "    std_active  sflow_fpackets  sflow_fbytes  sflow_bpackets  sflow_bbytes  \\\n",
       "53           0               5           272               4           360   \n",
       "54           0               3           203               3           152   \n",
       "\n",
       "    fpsh_cnt  bpsh_cnt  total_fhlen  total_bhlen  \n",
       "53         0         1          272          216  \n",
       "54         2         0          164          152  \n",
       "\n",
       "[2 rows x 38 columns]"
      ]
     },
     "execution_count": 33,
     "metadata": {},
     "output_type": "execute_result"
    }
   ],
   "source": [
    "dataN.reset_index(drop = True,inplace=True)\n",
    "dataN[53:55]"
   ]
  },
  {
   "cell_type": "code",
   "execution_count": 34,
   "metadata": {},
   "outputs": [],
   "source": [
    "dataN.to_csv('data.csv', sep=\"\\t\", header=True)"
   ]
  },
  {
   "cell_type": "code",
   "execution_count": 54,
   "metadata": {},
   "outputs": [
    {
     "data": {
      "text/plain": [
       "{21, 22, 23, 25, 53, 80, 110, 143, 443, 445, 465, 587, 806, 993, 995}"
      ]
     },
     "execution_count": 54,
     "metadata": {},
     "output_type": "execute_result"
    }
   ],
   "source": [
    "port = dataN['dstport']\n",
    "x = set(port)\n",
    "x"
   ]
  },
  {
   "cell_type": "code",
   "execution_count": 62,
   "metadata": {},
   "outputs": [
    {
     "data": {
      "text/plain": [
       "54"
      ]
     },
     "execution_count": 62,
     "metadata": {},
     "output_type": "execute_result"
    }
   ],
   "source": [
    "port995 = dataN[dataN['dstport']==995]\n",
    "port995.reset_index(drop = True,inplace=True)\n",
    "port995.to_csv('port995.csv', sep=\"\\t\", header=True)\n",
    "len(port995)"
   ]
  },
  {
   "cell_type": "code",
   "execution_count": 64,
   "metadata": {},
   "outputs": [
    {
     "data": {
      "text/plain": [
       "11333"
      ]
     },
     "execution_count": 64,
     "metadata": {},
     "output_type": "execute_result"
    }
   ],
   "source": [
    "len(port443)"
   ]
  },
  {
   "cell_type": "code",
   "execution_count": 22,
   "metadata": {},
   "outputs": [
    {
     "data": {
      "text/plain": [
       "{21,\n",
       " 22,\n",
       " 23,\n",
       " 25,\n",
       " 53,\n",
       " 80,\n",
       " 110,\n",
       " 123,\n",
       " 143,\n",
       " 161,\n",
       " 443,\n",
       " 445,\n",
       " 465,\n",
       " 587,\n",
       " 806,\n",
       " 993,\n",
       " 995,\n",
       " 1024,\n",
       " 1863,\n",
       " 3001,\n",
       " 3010,\n",
       " 3389,\n",
       " 4001,\n",
       " 4070,\n",
       " 4672,\n",
       " 5000,\n",
       " 5222,\n",
       " 5228,\n",
       " 6001,\n",
       " 6003,\n",
       " 6004,\n",
       " 6464,\n",
       " 6500,\n",
       " 6881,\n",
       " 6889,\n",
       " 7000,\n",
       " 7273,\n",
       " 7275,\n",
       " 7821,\n",
       " 7999,\n",
       " 8080,\n",
       " 8888,\n",
       " 8989,\n",
       " 8999,\n",
       " 9000,\n",
       " 9001,\n",
       " 9090,\n",
       " 9773,\n",
       " 10006,\n",
       " 17287,\n",
       " 18188,\n",
       " 19302,\n",
       " 33487,\n",
       " 33818,\n",
       " 35000,\n",
       " 36219,\n",
       " 36624,\n",
       " 36669,\n",
       " 36724,\n",
       " 36781,\n",
       " 37027,\n",
       " 37633,\n",
       " 38157,\n",
       " 39468,\n",
       " 39997,\n",
       " 41310,\n",
       " 41709,\n",
       " 42121,\n",
       " 43611,\n",
       " 45155,\n",
       " 45454,\n",
       " 51282,\n",
       " 51413,\n",
       " 55489,\n",
       " 55804,\n",
       " 56693,\n",
       " 57309,\n",
       " 57424,\n",
       " 59289,\n",
       " 59670,\n",
       " 59709,\n",
       " 59710,\n",
       " 61118,\n",
       " 61292,\n",
       " 62311,\n",
       " 62465,\n",
       " 62979,\n",
       " 63059,\n",
       " 63126,\n",
       " 63206,\n",
       " 63623,\n",
       " 64283,\n",
       " 64567,\n",
       " 64825,\n",
       " 64923,\n",
       " 65000,\n",
       " 65487}"
      ]
     },
     "execution_count": 22,
     "metadata": {},
     "output_type": "execute_result"
    }
   ],
   "source": [
    "port21 = data[dataN['dstport']==21]\n",
    "x = set(port)\n",
    "x"
   ]
  },
  {
   "cell_type": "code",
   "execution_count": 37,
   "metadata": {},
   "outputs": [],
   "source": [
    "data3 =dataN[[ 'total_fpackets', 'total_fvolume','total_bpackets','total_bvolume']]\n",
    "data3.to_csv('data3.tsv', sep=\"\\t\", header=True)\n",
    "data5=data3[0:100]\n",
    "data5.to_csv('data5.tsv', sep=\"\\t\", header=True)"
   ]
  },
  {
   "cell_type": "code",
   "execution_count": 15,
   "metadata": {},
   "outputs": [
    {
     "data": {
      "text/plain": [
       "34"
      ]
     },
     "execution_count": 15,
     "metadata": {},
     "output_type": "execute_result"
    }
   ],
   "source": [
    "A = dataN.columns\n",
    "len(A)"
   ]
  },
  {
   "cell_type": "code",
   "execution_count": 16,
   "metadata": {},
   "outputs": [],
   "source": [
    "for i in A:\n",
    "    dataN[i]=(dataN[i]-np.mean(dataN[i]))/np.std(dataN[i])"
   ]
  },
  {
   "cell_type": "code",
   "execution_count": 17,
   "metadata": {},
   "outputs": [
    {
     "data": {
      "text/html": [
       "<div>\n",
       "<style scoped>\n",
       "    .dataframe tbody tr th:only-of-type {\n",
       "        vertical-align: middle;\n",
       "    }\n",
       "\n",
       "    .dataframe tbody tr th {\n",
       "        vertical-align: top;\n",
       "    }\n",
       "\n",
       "    .dataframe thead th {\n",
       "        text-align: right;\n",
       "    }\n",
       "</style>\n",
       "<table border=\"1\" class=\"dataframe\">\n",
       "  <thead>\n",
       "    <tr style=\"text-align: right;\">\n",
       "      <th></th>\n",
       "      <th>proto</th>\n",
       "      <th>total_fpackets</th>\n",
       "      <th>total_fvolume</th>\n",
       "      <th>total_bpackets</th>\n",
       "      <th>total_bvolume</th>\n",
       "      <th>min_fpktl</th>\n",
       "      <th>mean_fpktl</th>\n",
       "      <th>max_fpktl</th>\n",
       "      <th>std_fpktl</th>\n",
       "      <th>min_bpktl</th>\n",
       "      <th>...</th>\n",
       "      <th>max_active</th>\n",
       "      <th>std_active</th>\n",
       "      <th>sflow_fpackets</th>\n",
       "      <th>sflow_fbytes</th>\n",
       "      <th>sflow_bpackets</th>\n",
       "      <th>sflow_bbytes</th>\n",
       "      <th>fpsh_cnt</th>\n",
       "      <th>bpsh_cnt</th>\n",
       "      <th>total_fhlen</th>\n",
       "      <th>total_bhlen</th>\n",
       "    </tr>\n",
       "    <tr>\n",
       "      <th>index</th>\n",
       "      <th></th>\n",
       "      <th></th>\n",
       "      <th></th>\n",
       "      <th></th>\n",
       "      <th></th>\n",
       "      <th></th>\n",
       "      <th></th>\n",
       "      <th></th>\n",
       "      <th></th>\n",
       "      <th></th>\n",
       "      <th></th>\n",
       "      <th></th>\n",
       "      <th></th>\n",
       "      <th></th>\n",
       "      <th></th>\n",
       "      <th></th>\n",
       "      <th></th>\n",
       "      <th></th>\n",
       "      <th></th>\n",
       "      <th></th>\n",
       "      <th></th>\n",
       "    </tr>\n",
       "  </thead>\n",
       "  <tbody>\n",
       "    <tr>\n",
       "      <th>0</th>\n",
       "      <td>-0.524494</td>\n",
       "      <td>-0.021781</td>\n",
       "      <td>-0.015405</td>\n",
       "      <td>-0.023651</td>\n",
       "      <td>-0.025202</td>\n",
       "      <td>-1.169402</td>\n",
       "      <td>-0.458318</td>\n",
       "      <td>-0.488358</td>\n",
       "      <td>-0.635868</td>\n",
       "      <td>-0.128261</td>\n",
       "      <td>...</td>\n",
       "      <td>-0.008494</td>\n",
       "      <td>-0.102374</td>\n",
       "      <td>-0.012737</td>\n",
       "      <td>-0.012788</td>\n",
       "      <td>-0.015797</td>\n",
       "      <td>-0.017580</td>\n",
       "      <td>0.109074</td>\n",
       "      <td>-0.014769</td>\n",
       "      <td>-0.020690</td>\n",
       "      <td>-0.021817</td>\n",
       "    </tr>\n",
       "    <tr>\n",
       "      <th>1</th>\n",
       "      <td>-0.524494</td>\n",
       "      <td>-0.039759</td>\n",
       "      <td>-0.017478</td>\n",
       "      <td>-0.034076</td>\n",
       "      <td>-0.034846</td>\n",
       "      <td>-0.163195</td>\n",
       "      <td>-0.405590</td>\n",
       "      <td>-0.771128</td>\n",
       "      <td>-0.688224</td>\n",
       "      <td>-0.128261</td>\n",
       "      <td>...</td>\n",
       "      <td>-0.081744</td>\n",
       "      <td>-0.102374</td>\n",
       "      <td>-0.034535</td>\n",
       "      <td>-0.015312</td>\n",
       "      <td>-0.027040</td>\n",
       "      <td>-0.028036</td>\n",
       "      <td>-0.049020</td>\n",
       "      <td>-0.016646</td>\n",
       "      <td>-0.044467</td>\n",
       "      <td>-0.033894</td>\n",
       "    </tr>\n",
       "    <tr>\n",
       "      <th>2</th>\n",
       "      <td>-0.524494</td>\n",
       "      <td>-0.039948</td>\n",
       "      <td>-0.017517</td>\n",
       "      <td>-0.034076</td>\n",
       "      <td>-0.034857</td>\n",
       "      <td>-0.163195</td>\n",
       "      <td>-0.471500</td>\n",
       "      <td>-0.820804</td>\n",
       "      <td>-0.747125</td>\n",
       "      <td>-0.128261</td>\n",
       "      <td>...</td>\n",
       "      <td>-0.086925</td>\n",
       "      <td>-0.102374</td>\n",
       "      <td>-0.034764</td>\n",
       "      <td>-0.015361</td>\n",
       "      <td>-0.027040</td>\n",
       "      <td>-0.028048</td>\n",
       "      <td>-0.059559</td>\n",
       "      <td>-0.016646</td>\n",
       "      <td>-0.044717</td>\n",
       "      <td>-0.033894</td>\n",
       "    </tr>\n",
       "    <tr>\n",
       "      <th>3</th>\n",
       "      <td>-0.524494</td>\n",
       "      <td>-0.039948</td>\n",
       "      <td>-0.017484</td>\n",
       "      <td>-0.034136</td>\n",
       "      <td>-0.034867</td>\n",
       "      <td>-0.163195</td>\n",
       "      <td>-0.333089</td>\n",
       "      <td>-0.622101</td>\n",
       "      <td>-0.446077</td>\n",
       "      <td>-0.128261</td>\n",
       "      <td>...</td>\n",
       "      <td>-0.058758</td>\n",
       "      <td>-0.102374</td>\n",
       "      <td>-0.034764</td>\n",
       "      <td>-0.015320</td>\n",
       "      <td>-0.027104</td>\n",
       "      <td>-0.028059</td>\n",
       "      <td>-0.059559</td>\n",
       "      <td>-0.016646</td>\n",
       "      <td>-0.044717</td>\n",
       "      <td>-0.033963</td>\n",
       "    </tr>\n",
       "    <tr>\n",
       "      <th>4</th>\n",
       "      <td>-0.524494</td>\n",
       "      <td>-0.039759</td>\n",
       "      <td>-0.017467</td>\n",
       "      <td>-0.034076</td>\n",
       "      <td>-0.034776</td>\n",
       "      <td>-0.163195</td>\n",
       "      <td>-0.372635</td>\n",
       "      <td>-0.624011</td>\n",
       "      <td>-0.491888</td>\n",
       "      <td>-0.128261</td>\n",
       "      <td>...</td>\n",
       "      <td>-0.086774</td>\n",
       "      <td>-0.102374</td>\n",
       "      <td>-0.034535</td>\n",
       "      <td>-0.015299</td>\n",
       "      <td>-0.027040</td>\n",
       "      <td>-0.027961</td>\n",
       "      <td>-0.059559</td>\n",
       "      <td>-0.016646</td>\n",
       "      <td>-0.044467</td>\n",
       "      <td>-0.033894</td>\n",
       "    </tr>\n",
       "  </tbody>\n",
       "</table>\n",
       "<p>5 rows × 34 columns</p>\n",
       "</div>"
      ],
      "text/plain": [
       "          proto  total_fpackets  total_fvolume  total_bpackets  total_bvolume  \\\n",
       "index                                                                           \n",
       "0     -0.524494       -0.021781      -0.015405       -0.023651      -0.025202   \n",
       "1     -0.524494       -0.039759      -0.017478       -0.034076      -0.034846   \n",
       "2     -0.524494       -0.039948      -0.017517       -0.034076      -0.034857   \n",
       "3     -0.524494       -0.039948      -0.017484       -0.034136      -0.034867   \n",
       "4     -0.524494       -0.039759      -0.017467       -0.034076      -0.034776   \n",
       "\n",
       "       min_fpktl  mean_fpktl  max_fpktl  std_fpktl  min_bpktl  ...  \\\n",
       "index                                                          ...   \n",
       "0      -1.169402   -0.458318  -0.488358  -0.635868  -0.128261  ...   \n",
       "1      -0.163195   -0.405590  -0.771128  -0.688224  -0.128261  ...   \n",
       "2      -0.163195   -0.471500  -0.820804  -0.747125  -0.128261  ...   \n",
       "3      -0.163195   -0.333089  -0.622101  -0.446077  -0.128261  ...   \n",
       "4      -0.163195   -0.372635  -0.624011  -0.491888  -0.128261  ...   \n",
       "\n",
       "       max_active  std_active  sflow_fpackets  sflow_fbytes  sflow_bpackets  \\\n",
       "index                                                                         \n",
       "0       -0.008494   -0.102374       -0.012737     -0.012788       -0.015797   \n",
       "1       -0.081744   -0.102374       -0.034535     -0.015312       -0.027040   \n",
       "2       -0.086925   -0.102374       -0.034764     -0.015361       -0.027040   \n",
       "3       -0.058758   -0.102374       -0.034764     -0.015320       -0.027104   \n",
       "4       -0.086774   -0.102374       -0.034535     -0.015299       -0.027040   \n",
       "\n",
       "       sflow_bbytes  fpsh_cnt  bpsh_cnt  total_fhlen  total_bhlen  \n",
       "index                                                              \n",
       "0         -0.017580  0.109074 -0.014769    -0.020690    -0.021817  \n",
       "1         -0.028036 -0.049020 -0.016646    -0.044467    -0.033894  \n",
       "2         -0.028048 -0.059559 -0.016646    -0.044717    -0.033894  \n",
       "3         -0.028059 -0.059559 -0.016646    -0.044717    -0.033963  \n",
       "4         -0.027961 -0.059559 -0.016646    -0.044467    -0.033894  \n",
       "\n",
       "[5 rows x 34 columns]"
      ]
     },
     "execution_count": 17,
     "metadata": {},
     "output_type": "execute_result"
    }
   ],
   "source": [
    "dataN.head()"
   ]
  },
  {
   "cell_type": "code",
   "execution_count": 18,
   "metadata": {},
   "outputs": [],
   "source": [
    "dataN.to_csv(\"dataFlows.tsv\", sep=\"\\t\")"
   ]
  },
  {
   "cell_type": "code",
   "execution_count": 19,
   "metadata": {},
   "outputs": [],
   "source": [
    "data2 = dataN[['proto', 'total_fpackets', 'total_fvolume','total_bpackets','total_bvolume']]\n",
    "data2['proto'].to_csv('demo1.tsv', sep=\"\\t\", header=True)\n",
    "data2['total_fpackets'].to_csv('demo2.tsv', sep=\"\\t\", header=True)\n",
    "data2['total_fvolume'].to_csv('demo3.tsv', sep=\"\\t\", header=True)\n",
    "data2['total_bpackets'].to_csv('demo4.tsv', sep=\"\\t\", header=True)\n",
    "data2['total_bvolume'].to_csv('demo5.tsv', sep=\"\\t\", header=True)"
   ]
  },
  {
   "cell_type": "code",
   "execution_count": 20,
   "metadata": {},
   "outputs": [],
   "source": [
    "data2.to_csv('demodata.tsv', sep=\"\\t\", header=True)"
   ]
  },
  {
   "cell_type": "code",
   "execution_count": 21,
   "metadata": {},
   "outputs": [],
   "source": [
    "data4 = data2[0:100]"
   ]
  },
  {
   "cell_type": "code",
   "execution_count": 22,
   "metadata": {},
   "outputs": [],
   "source": [
    "data4.to_csv('data4.tsv', sep=\"\\t\", header=True)"
   ]
  },
  {
   "cell_type": "code",
   "execution_count": 3,
   "metadata": {},
   "outputs": [
    {
     "data": {
      "text/plain": [
       "11333"
      ]
     },
     "execution_count": 3,
     "metadata": {},
     "output_type": "execute_result"
    }
   ],
   "source": [
    "port443 = pd.read_csv('/home/hdt/Documents/trafficclassifier-master/port443.csv')\n",
    "len(port443)"
   ]
  },
  {
   "cell_type": "code",
   "execution_count": 4,
   "metadata": {},
   "outputs": [
    {
     "data": {
      "text/plain": [
       "345"
      ]
     },
     "execution_count": 4,
     "metadata": {},
     "output_type": "execute_result"
    }
   ],
   "source": [
    "port22 =  pd.read_csv('/home/hdt/Documents/trafficclassifier-master/port22.csv')\n",
    "len(port22)"
   ]
  },
  {
   "cell_type": "code",
   "execution_count": 5,
   "metadata": {},
   "outputs": [
    {
     "data": {
      "text/plain": [
       "196"
      ]
     },
     "execution_count": 5,
     "metadata": {},
     "output_type": "execute_result"
    }
   ],
   "source": [
    "port25 =  pd.read_csv('/home/hdt/Documents/trafficclassifier-master/port25.csv')\n",
    "len(port25)"
   ]
  },
  {
   "cell_type": "code",
   "execution_count": 6,
   "metadata": {},
   "outputs": [
    {
     "data": {
      "text/plain": [
       "301"
      ]
     },
     "execution_count": 6,
     "metadata": {},
     "output_type": "execute_result"
    }
   ],
   "source": [
    "port53 = pd.read_csv('/home/hdt/Documents/trafficclassifier-master/port53.csv')\n",
    "len(port53)"
   ]
  },
  {
   "cell_type": "code",
   "execution_count": 7,
   "metadata": {},
   "outputs": [
    {
     "data": {
      "text/plain": [
       "11333"
      ]
     },
     "execution_count": 7,
     "metadata": {},
     "output_type": "execute_result"
    }
   ],
   "source": [
    "port80 = pd.read_csv('/home/hdt/Documents/trafficclassifier-master/port443.csv')\n",
    "len(port80)"
   ]
  },
  {
   "cell_type": "code",
   "execution_count": 8,
   "metadata": {},
   "outputs": [
    {
     "data": {
      "text/plain": [
       "482"
      ]
     },
     "execution_count": 8,
     "metadata": {},
     "output_type": "execute_result"
    }
   ],
   "source": [
    "port993 = pd.read_csv('/home/hdt/Documents/trafficclassifier-master/port993.csv')\n",
    "len(port993)"
   ]
  },
  {
   "cell_type": "code",
   "execution_count": null,
   "metadata": {},
   "outputs": [],
   "source": [
    "data = port25.append()"
   ]
  },
  {
   "cell_type": "code",
   "execution_count": 9,
   "metadata": {},
   "outputs": [],
   "source": [
    "rs = pd.read_csv('/home/hdt/Documents/trafficclassifier-master/resultTrace1.csv')"
   ]
  },
  {
   "cell_type": "code",
   "execution_count": 11,
   "metadata": {},
   "outputs": [
    {
     "data": {
      "text/html": [
       "<div>\n",
       "<style scoped>\n",
       "    .dataframe tbody tr th:only-of-type {\n",
       "        vertical-align: middle;\n",
       "    }\n",
       "\n",
       "    .dataframe tbody tr th {\n",
       "        vertical-align: top;\n",
       "    }\n",
       "\n",
       "    .dataframe thead th {\n",
       "        text-align: right;\n",
       "    }\n",
       "</style>\n",
       "<table border=\"1\" class=\"dataframe\">\n",
       "  <thead>\n",
       "    <tr style=\"text-align: right;\">\n",
       "      <th></th>\n",
       "      <th>index</th>\n",
       "      <th>srcip</th>\n",
       "      <th>srcport</th>\n",
       "      <th>dstip</th>\n",
       "      <th>dstport</th>\n",
       "      <th>proto</th>\n",
       "      <th>total_fpackets</th>\n",
       "      <th>total_fvolume</th>\n",
       "      <th>total_bpackets</th>\n",
       "      <th>total_bvolume</th>\n",
       "      <th>...</th>\n",
       "      <th>sflow_bpackets</th>\n",
       "      <th>sflow_bbytes</th>\n",
       "      <th>fpsh_cnt</th>\n",
       "      <th>bpsh_cnt</th>\n",
       "      <th>furg_cnt</th>\n",
       "      <th>burg_cnt</th>\n",
       "      <th>total_fhlen</th>\n",
       "      <th>total_bhlen</th>\n",
       "      <th>label</th>\n",
       "      <th>cluster</th>\n",
       "    </tr>\n",
       "  </thead>\n",
       "  <tbody>\n",
       "    <tr>\n",
       "      <th>0</th>\n",
       "      <td>0</td>\n",
       "      <td>150.193.9.119</td>\n",
       "      <td>36194</td>\n",
       "      <td>199.253.112.198</td>\n",
       "      <td>53</td>\n",
       "      <td>6</td>\n",
       "      <td>6</td>\n",
       "      <td>363</td>\n",
       "      <td>4</td>\n",
       "      <td>795</td>\n",
       "      <td>...</td>\n",
       "      <td>4</td>\n",
       "      <td>795</td>\n",
       "      <td>1</td>\n",
       "      <td>1</td>\n",
       "      <td>0</td>\n",
       "      <td>0</td>\n",
       "      <td>320</td>\n",
       "      <td>216</td>\n",
       "      <td>dns</td>\n",
       "      <td>47</td>\n",
       "    </tr>\n",
       "    <tr>\n",
       "      <th>1</th>\n",
       "      <td>1</td>\n",
       "      <td>133.180.64.216</td>\n",
       "      <td>34049</td>\n",
       "      <td>202.252.24.239</td>\n",
       "      <td>53</td>\n",
       "      <td>6</td>\n",
       "      <td>6</td>\n",
       "      <td>350</td>\n",
       "      <td>4</td>\n",
       "      <td>1319</td>\n",
       "      <td>...</td>\n",
       "      <td>4</td>\n",
       "      <td>1319</td>\n",
       "      <td>1</td>\n",
       "      <td>1</td>\n",
       "      <td>0</td>\n",
       "      <td>0</td>\n",
       "      <td>320</td>\n",
       "      <td>220</td>\n",
       "      <td>dns</td>\n",
       "      <td>47</td>\n",
       "    </tr>\n",
       "    <tr>\n",
       "      <th>2</th>\n",
       "      <td>2</td>\n",
       "      <td>203.141.113.140</td>\n",
       "      <td>48631</td>\n",
       "      <td>194.178.73.34</td>\n",
       "      <td>53</td>\n",
       "      <td>6</td>\n",
       "      <td>6</td>\n",
       "      <td>379</td>\n",
       "      <td>4</td>\n",
       "      <td>1162</td>\n",
       "      <td>...</td>\n",
       "      <td>4</td>\n",
       "      <td>1162</td>\n",
       "      <td>1</td>\n",
       "      <td>1</td>\n",
       "      <td>0</td>\n",
       "      <td>0</td>\n",
       "      <td>320</td>\n",
       "      <td>216</td>\n",
       "      <td>dns</td>\n",
       "      <td>47</td>\n",
       "    </tr>\n",
       "    <tr>\n",
       "      <th>3</th>\n",
       "      <td>3</td>\n",
       "      <td>133.154.140.225</td>\n",
       "      <td>42868</td>\n",
       "      <td>202.252.24.239</td>\n",
       "      <td>53</td>\n",
       "      <td>6</td>\n",
       "      <td>6</td>\n",
       "      <td>367</td>\n",
       "      <td>4</td>\n",
       "      <td>1139</td>\n",
       "      <td>...</td>\n",
       "      <td>4</td>\n",
       "      <td>1139</td>\n",
       "      <td>1</td>\n",
       "      <td>1</td>\n",
       "      <td>0</td>\n",
       "      <td>0</td>\n",
       "      <td>320</td>\n",
       "      <td>220</td>\n",
       "      <td>dns</td>\n",
       "      <td>47</td>\n",
       "    </tr>\n",
       "    <tr>\n",
       "      <th>4</th>\n",
       "      <td>4</td>\n",
       "      <td>150.193.9.119</td>\n",
       "      <td>44855</td>\n",
       "      <td>204.123.216.116</td>\n",
       "      <td>53</td>\n",
       "      <td>6</td>\n",
       "      <td>6</td>\n",
       "      <td>365</td>\n",
       "      <td>4</td>\n",
       "      <td>990</td>\n",
       "      <td>...</td>\n",
       "      <td>4</td>\n",
       "      <td>990</td>\n",
       "      <td>1</td>\n",
       "      <td>1</td>\n",
       "      <td>0</td>\n",
       "      <td>0</td>\n",
       "      <td>320</td>\n",
       "      <td>216</td>\n",
       "      <td>dns</td>\n",
       "      <td>47</td>\n",
       "    </tr>\n",
       "  </tbody>\n",
       "</table>\n",
       "<p>5 rows × 47 columns</p>\n",
       "</div>"
      ],
      "text/plain": [
       "   index            srcip  srcport            dstip  dstport  proto  \\\n",
       "0      0    150.193.9.119    36194  199.253.112.198       53      6   \n",
       "1      1   133.180.64.216    34049   202.252.24.239       53      6   \n",
       "2      2  203.141.113.140    48631    194.178.73.34       53      6   \n",
       "3      3  133.154.140.225    42868   202.252.24.239       53      6   \n",
       "4      4    150.193.9.119    44855  204.123.216.116       53      6   \n",
       "\n",
       "   total_fpackets  total_fvolume  total_bpackets  total_bvolume  ...  \\\n",
       "0               6            363               4            795  ...   \n",
       "1               6            350               4           1319  ...   \n",
       "2               6            379               4           1162  ...   \n",
       "3               6            367               4           1139  ...   \n",
       "4               6            365               4            990  ...   \n",
       "\n",
       "   sflow_bpackets  sflow_bbytes  fpsh_cnt  bpsh_cnt  furg_cnt  burg_cnt  \\\n",
       "0               4           795         1         1         0         0   \n",
       "1               4          1319         1         1         0         0   \n",
       "2               4          1162         1         1         0         0   \n",
       "3               4          1139         1         1         0         0   \n",
       "4               4           990         1         1         0         0   \n",
       "\n",
       "   total_fhlen  total_bhlen  label  cluster  \n",
       "0          320          216    dns       47  \n",
       "1          320          220    dns       47  \n",
       "2          320          216    dns       47  \n",
       "3          320          220    dns       47  \n",
       "4          320          216    dns       47  \n",
       "\n",
       "[5 rows x 47 columns]"
      ]
     },
     "execution_count": 11,
     "metadata": {},
     "output_type": "execute_result"
    }
   ],
   "source": [
    "rs.head()"
   ]
  },
  {
   "cell_type": "code",
   "execution_count": 15,
   "metadata": {},
   "outputs": [],
   "source": [
    "cluster = rs['label']"
   ]
  },
  {
   "cell_type": "code",
   "execution_count": 16,
   "metadata": {},
   "outputs": [],
   "source": [
    "cluster = set(cluster)"
   ]
  },
  {
   "cell_type": "code",
   "execution_count": 17,
   "metadata": {},
   "outputs": [
    {
     "data": {
      "text/plain": [
       "{'dns',\n",
       " 'ftp',\n",
       " 'http',\n",
       " 'https',\n",
       " 'imap',\n",
       " 'imaps',\n",
       " 'pop3',\n",
       " 'pop3s',\n",
       " 'smtp',\n",
       " 'ssh'}"
      ]
     },
     "execution_count": 17,
     "metadata": {},
     "output_type": "execute_result"
    }
   ],
   "source": [
    "cluster"
   ]
  },
  {
   "cell_type": "code",
   "execution_count": 43,
   "metadata": {},
   "outputs": [],
   "source": [
    "def H_compute(result_path):\n",
    "    rs = pd.read_csv(result_path)\n",
    "    H_list =[]\n",
    "    app_list=[]\n",
    "    app = (set(rs['label']))\n",
    "    app = [a for a in app]\n",
    "    print(app)\n",
    "    for i in set(rs['cluster']):\n",
    "        data = rs[rs['cluster']==i]\n",
    "        app_count=0\n",
    "        for y in app:\n",
    "            if app_count<= len(data[data['label']==y]):\n",
    "                app_count = len(data[data['label']==y])\n",
    "                app_max = y\n",
    "        H = app_count/len(data)\n",
    "        H_list.append(H)\n",
    "        app_list.append(app_max)\n",
    "    return(H_list, app_list)\n",
    "            \n",
    "            \n",
    "            \n",
    "        "
   ]
  },
  {
   "cell_type": "code",
   "execution_count": 44,
   "metadata": {},
   "outputs": [
    {
     "name": "stdout",
     "output_type": "stream",
     "text": [
      "['imaps', 'https', 'pop3', 'http', 'pop3s', 'imap', 'dns', 'ftp', 'smtp', 'ssh']\n"
     ]
    }
   ],
   "source": [
    "a,b = H_compute('/home/hdt/Documents/trafficclassifier-master/resultTrace1.csv')"
   ]
  },
  {
   "cell_type": "code",
   "execution_count": 45,
   "metadata": {},
   "outputs": [
    {
     "name": "stdout",
     "output_type": "stream",
     "text": [
      "101\n"
     ]
    }
   ],
   "source": [
    "print(len(a))"
   ]
  },
  {
   "cell_type": "code",
   "execution_count": 48,
   "metadata": {},
   "outputs": [
    {
     "name": "stdout",
     "output_type": "stream",
     "text": [
      "0.8603863889369314\n"
     ]
    }
   ],
   "source": [
    "print(np.mean(a))"
   ]
  },
  {
   "cell_type": "code",
   "execution_count": null,
   "metadata": {},
   "outputs": [],
   "source": []
  }
 ],
 "metadata": {
  "kernelspec": {
   "display_name": "Python 3",
   "language": "python",
   "name": "python3"
  },
  "language_info": {
   "codemirror_mode": {
    "name": "ipython",
    "version": 3
   },
   "file_extension": ".py",
   "mimetype": "text/x-python",
   "name": "python",
   "nbconvert_exporter": "python",
   "pygments_lexer": "ipython3",
   "version": "3.7.6"
  }
 },
 "nbformat": 4,
 "nbformat_minor": 2
}
