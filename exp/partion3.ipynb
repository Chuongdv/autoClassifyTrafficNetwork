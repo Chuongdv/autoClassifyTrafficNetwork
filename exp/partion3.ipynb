{
 "cells": [
  {
   "cell_type": "code",
   "execution_count": 17,
   "metadata": {},
   "outputs": [
    {
     "name": "stderr",
     "output_type": "stream",
     "text": [
      "2020-04-27 13:57:57 INFO     Reading data file '/home/chuongdv/Documents/SourceCode/MachineLearning/exp/data/features/P0.tsv' as 'real location' with error 0.01\n",
      "2020-04-27 13:57:57 INFO     Detected encoding: ascii\n",
      "2020-04-27 13:57:57 INFO     Found 3200 rows and 2 columns\n",
      "2020-04-27 13:57:57 DEBUG    Checking column names\n",
      "2020-04-27 13:57:57 DEBUG    Index name 'index'\n",
      "2020-04-27 13:57:57 DEBUG    Column name 'P0'\n",
      "2020-04-27 13:57:57 INFO     Checking data format\n",
      "2020-04-27 13:57:57 INFO     Column 'P0'\n",
      "2020-04-27 13:57:57 INFO     count    3.200000e+03\n",
      "2020-04-27 13:57:57 INFO     mean    -7.765439e+03\n",
      "2020-04-27 13:57:57 INFO     std      1.036135e+06\n",
      "2020-04-27 13:57:57 INFO     min     -1.783918e+06\n",
      "2020-04-27 13:57:57 INFO     50%      6.245000e+03\n",
      "2020-04-27 13:57:57 INFO     max      1.786032e+06\n",
      "2020-04-27 13:57:57 INFO     ---\n",
      "2020-04-27 13:57:57 INFO     Reading data file '/home/chuongdv/Documents/SourceCode/MachineLearning/exp/data/features/P2.tsv' as 'real location' with error 0.01\n",
      "2020-04-27 13:57:57 INFO     Detected encoding: ascii\n",
      "2020-04-27 13:57:57 INFO     Found 3200 rows and 2 columns\n",
      "2020-04-27 13:57:57 DEBUG    Checking column names\n",
      "2020-04-27 13:57:57 DEBUG    Index name 'index'\n",
      "2020-04-27 13:57:57 DEBUG    Column name 'P2'\n",
      "2020-04-27 13:57:57 INFO     Checking data format\n",
      "2020-04-27 13:57:57 INFO     Column 'P2'\n",
      "2020-04-27 13:57:57 INFO     count    3200.000000\n",
      "2020-04-27 13:57:57 INFO     mean        0.481287\n",
      "2020-04-27 13:57:57 INFO     std         3.387430\n",
      "2020-04-27 13:57:57 INFO     min        -6.410020\n",
      "2020-04-27 13:57:57 INFO     50%        -0.219402\n",
      "2020-04-27 13:57:57 INFO     max        88.211600\n",
      "2020-04-27 13:57:57 INFO     ---\n",
      "2020-04-27 13:57:57 INFO     Preparing input data\n",
      "2020-04-27 13:57:57 INFO     Final dataframe has 3200 lines and 3 columns\n",
      "2020-04-27 13:57:57 INFO     Searching for missing values\n",
      "2020-04-27 13:57:57 INFO     No missing values found\n",
      "2020-04-27 13:57:57 INFO     Writing autoclass.db2 file\n",
      "2020-04-27 13:57:57 INFO     If any, missing values will be encoded as '?'\n",
      "2020-04-27 13:57:57 DEBUG    Writing autoclass.tsv file [for later use]\n",
      "2020-04-27 13:57:57 INFO     Writing .hd2 file\n",
      "2020-04-27 13:57:57 INFO     Writing .model file\n",
      "2020-04-27 13:57:57 INFO     Writing .s-params file\n",
      "2020-04-27 13:57:57 INFO     Writing .r-params file\n",
      "2020-04-27 13:57:58 INFO     AutoClass C executable found in /home/chuongdv/Documents/SourceCode/MachineLearning/autoclass-c/autoclass\n",
      "2020-04-27 13:57:58 INFO     Writing run file\n",
      "2020-04-27 13:57:58 INFO     AutoClass C executable found in /home/chuongdv/Documents/SourceCode/MachineLearning/autoclass-c/autoclass\n",
      "2020-04-27 13:57:58 INFO     AutoClass C version: AUTOCLASS C (version 3.3.6unx)\n",
      "2020-04-27 13:57:58 INFO     Running clustering...\n"
     ]
    },
    {
     "name": "stdout",
     "output_type": "stream",
     "text": [
      "Time: 334 sec."
     ]
    },
    {
     "name": "stderr",
     "output_type": "stream",
     "text": [
      "2020-04-27 14:03:32 INFO     Extracting autoclass results\n",
      "2020-04-27 14:03:32 INFO     Found 3200 cases classified in 19 classes\n",
      "2020-04-27 14:03:35 INFO     Aggregating input data\n",
      "2020-04-27 14:03:35 INFO     Writing classes + probabilities .tsv file\n",
      "2020-04-27 14:03:36 INFO     Reading data file '/home/chuongdv/Documents/SourceCode/MachineLearning/exp/data/features/P1.tsv' as 'real location' with error 0.01\n",
      "2020-04-27 14:03:36 INFO     Detected encoding: ascii\n",
      "2020-04-27 14:03:36 INFO     Found 3200 rows and 2 columns\n",
      "2020-04-27 14:03:36 DEBUG    Checking column names\n",
      "2020-04-27 14:03:36 DEBUG    Index name 'index'\n",
      "2020-04-27 14:03:36 DEBUG    Column name 'P1'\n",
      "2020-04-27 14:03:36 INFO     Checking data format\n",
      "2020-04-27 14:03:36 INFO     Column 'P1'\n",
      "2020-04-27 14:03:36 INFO     count    3200.000000\n",
      "2020-04-27 14:03:36 INFO     mean       -0.300688\n",
      "2020-04-27 14:03:36 INFO     std         3.208397\n",
      "2020-04-27 14:03:36 INFO     min        -3.908736\n",
      "2020-04-27 14:03:36 INFO     50%        -1.665273\n",
      "2020-04-27 14:03:36 INFO     max        19.912423\n",
      "2020-04-27 14:03:36 INFO     ---\n",
      "2020-04-27 14:03:36 INFO     Reading data file '/home/chuongdv/Documents/SourceCode/MachineLearning/exp/data/features/P2.tsv' as 'real location' with error 0.01\n",
      "2020-04-27 14:03:36 INFO     Detected encoding: ascii\n",
      "2020-04-27 14:03:36 INFO     Found 3200 rows and 2 columns\n",
      "2020-04-27 14:03:36 DEBUG    Checking column names\n",
      "2020-04-27 14:03:36 DEBUG    Index name 'index'\n",
      "2020-04-27 14:03:36 DEBUG    Column name 'P2'\n",
      "2020-04-27 14:03:36 INFO     Checking data format\n",
      "2020-04-27 14:03:36 INFO     Column 'P2'\n",
      "2020-04-27 14:03:36 INFO     count    3200.000000\n",
      "2020-04-27 14:03:36 INFO     mean        0.481287\n",
      "2020-04-27 14:03:36 INFO     std         3.387430\n",
      "2020-04-27 14:03:36 INFO     min        -6.410020\n",
      "2020-04-27 14:03:36 INFO     50%        -0.219402\n",
      "2020-04-27 14:03:36 INFO     max        88.211600\n",
      "2020-04-27 14:03:36 INFO     ---\n",
      "2020-04-27 14:03:36 INFO     Preparing input data\n",
      "2020-04-27 14:03:36 INFO     Final dataframe has 3200 lines and 3 columns\n",
      "2020-04-27 14:03:36 INFO     Searching for missing values\n",
      "2020-04-27 14:03:36 INFO     No missing values found\n",
      "2020-04-27 14:03:36 INFO     Writing autoclass.db2 file\n",
      "2020-04-27 14:03:36 INFO     If any, missing values will be encoded as '?'\n",
      "2020-04-27 14:03:36 DEBUG    Writing autoclass.tsv file [for later use]\n",
      "2020-04-27 14:03:36 INFO     Writing .hd2 file\n",
      "2020-04-27 14:03:36 INFO     Writing .model file\n",
      "2020-04-27 14:03:36 INFO     Writing .s-params file\n",
      "2020-04-27 14:03:36 INFO     Writing .r-params file\n"
     ]
    },
    {
     "name": "stdout",
     "output_type": "stream",
     "text": [
      "[0.051118210862619806, 0.07608695652173914, 0.06353591160220995, 0.07172995780590717, 0.08955223880597014, 0.07142857142857142, 0.0989010989010989, 0.11949685534591195, 0.29878048780487804, 0.1875, 0.1171875, 0.3305084745762712, 0.09821428571428571, 0.12380952380952381, 0.37333333333333335, 0.20634920634920634, 0.10526315789473684, 0.3225806451612903, 0.3333333333333333]\n",
      "['EBAY', 'DNS', 'APPLE', 'WINDOWS_UPDATE', 'DNS', 'TWITTER', 'HTTP', 'EBAY', 'IP_ICMP', 'WINDOWS_UPDATE', 'INSTAGRAM', 'IP_ICMP', 'CONTENT_FLASH', 'OFFICE_365', 'AMAZON', 'APPLE_ICLOUD', 'HTTP', 'INSTAGRAM', 'OFFICE_365']\n",
      "[1, 2, 3, 4, 5, 6, 7, 8, 9, 10, 11, 12, 13, 14, 15, 16, 17, 18, 19]\n",
      "0.16519524996057305\n"
     ]
    },
    {
     "name": "stderr",
     "output_type": "stream",
     "text": [
      "2020-04-27 14:03:36 INFO     AutoClass C executable found in /home/chuongdv/Documents/SourceCode/MachineLearning/autoclass-c/autoclass\n",
      "2020-04-27 14:03:36 INFO     Writing run file\n",
      "2020-04-27 14:03:36 INFO     AutoClass C executable found in /home/chuongdv/Documents/SourceCode/MachineLearning/autoclass-c/autoclass\n",
      "2020-04-27 14:03:36 INFO     AutoClass C version: AUTOCLASS C (version 3.3.6unx)\n",
      "2020-04-27 14:03:36 INFO     Running clustering...\n"
     ]
    },
    {
     "name": "stdout",
     "output_type": "stream",
     "text": [
      "Time: 362 sec."
     ]
    },
    {
     "name": "stderr",
     "output_type": "stream",
     "text": [
      "2020-04-27 14:09:39 INFO     Extracting autoclass results\n",
      "2020-04-27 14:09:39 INFO     Found 3200 cases classified in 24 classes\n",
      "2020-04-27 14:09:41 INFO     Aggregating input data\n",
      "2020-04-27 14:09:41 INFO     Writing classes + probabilities .tsv file\n"
     ]
    },
    {
     "name": "stdout",
     "output_type": "stream",
     "text": [
      "[0.1111111111111111, 0.11764705882352941, 0.09545454545454546, 0.18181818181818182, 0.2931937172774869, 0.10555555555555556, 0.12790697674418605, 0.09448818897637795, 0.14743589743589744, 0.11538461538461539, 0.07142857142857142, 0.29545454545454547, 0.2463768115942029, 0.1619718309859155, 0.43, 0.13513513513513514, 0.1375, 0.11842105263157894, 0.2835820895522388, 0.17647058823529413, 0.42857142857142855, 0.15384615384615385, 0.25, 0.18181818181818182]\n",
      "['CONTENT_FLASH', 'WHATSAPP', 'WINDOWS_UPDATE', 'DNS', 'IP_ICMP', 'HTTP', 'APPLE_ICLOUD', 'OFFICE_365', 'SPOTIFY', 'EBAY', 'FACEBOOK', 'DROPBOX', 'AMAZON', 'OFFICE_365', 'IP_ICMP', 'HTTP', 'APPLE', 'YOUTUBE', 'WINDOWS_UPDATE', 'CLOUDFLARE', 'SPOTIFY', 'WHATSAPP', 'OFFICE_365', 'HTTP_PROXY']\n",
      "[1, 2, 3, 4, 5, 6, 7, 8, 9, 10, 11, 12, 13, 14, 15, 16, 17, 18, 19, 20, 21, 22, 23, 24]\n",
      "0.1858571765764472\n",
      "<class 'pandas.core.frame.DataFrame'>\n",
      "RangeIndex: 2 entries, 0 to 1\n",
      "Data columns (total 2 columns):\n",
      " #   Column  Non-Null Count  Dtype  \n",
      "---  ------  --------------  -----  \n",
      " 0   0       2 non-null      object \n",
      " 1   1       2 non-null      float64\n",
      "dtypes: float64(1), object(1)\n",
      "memory usage: 160.0+ bytes\n"
     ]
    }
   ],
   "source": [
    "from pathlib import Path\n",
    "import sys\n",
    "import time\n",
    "import threading\n",
    "\n",
    "import matplotlib\n",
    "import matplotlib.pyplot as plt\n",
    "from matplotlib.lines import Line2D\n",
    "import numpy as np\n",
    "import pandas as pd\n",
    "%matplotlib inline\n",
    "import autoclasswrapper as wrapper\n",
    "import os \n",
    "\n",
    "afterall = {}\n",
    "subfeatures = ['P0', 'P1']\n",
    "os.environ['PATH'] += \":/home/chuongdv/Documents/SourceCode/MachineLearning/autoclass-c\"\n",
    "#!touch /home/chuongdv/Documents/SourceCode/MachineLearning/exp/result/autoclass.r-params \n",
    "#!echo \"xref_class_report_att_list = 0, 1 \\nreport_mode = \\\"data\\\" \\ncomment_data_headers_p = true \" >> /home/chuongdv/Documents/SourceCode/MachineLearning/exp/result/autoclass.r-params \n",
    "for feature in subfeatures:\n",
    "    runtimeDir = \"/home/chuongdv/Documents/SourceCode/MachineLearning/exp/result/round1/\" + feature\n",
    "    if not Path(runtimeDir).exists():\n",
    "        os.mkdir(runtimeDir)\n",
    "    os.chdir(runtimeDir)\n",
    "    \n",
    "            # Create object to prepare dataset.\n",
    "    clust = wrapper.Input()\n",
    "\n",
    "    # Load datasets from tsv files.\n",
    "    pathData = \"/home/chuongdv/Documents/SourceCode/MachineLearning/exp/data/features/\" + feature + \".tsv\"\n",
    "    clust.add_input_data(pathData, \"real location\")\n",
    "    #clust.add_input_data(\"/home/chuongdv/Documents/SourceCode/MachineLearning/exp/data/features/P2.tsv\", \"real location\")\n",
    "    \n",
    "    # Prepare input data:\n",
    "    # - create a final dataframe\n",
    "    # - merge datasets if multiple inputs\n",
    "    clust.prepare_input_data()\n",
    "\n",
    "    # Create files needed by AutoClass.\n",
    "    clust.create_db2_file()\n",
    "    clust.create_hd2_file()\n",
    "    clust.create_model_file()\n",
    "    clust.create_sparams_file(max_duration = 0)\n",
    "    clust.create_rparams_file()\n",
    "    !rm autoclass.r-params\n",
    "    !cp /home/chuongdv/Documents/SourceCode/MachineLearning/exp/result/round1/autoclass.r-params .\n",
    "    \n",
    "    !rm -f autoclass-run-* *.results-bin\n",
    "\n",
    "\n",
    "    # Search autoclass in path.\n",
    "    wrapper.search_autoclass_in_path()\n",
    "\n",
    "    # Create object to run AutoClass.\n",
    "    run = wrapper.Run()\n",
    "\n",
    "    # Prepare run script.\n",
    "    run.create_run_file()\n",
    "\n",
    "    # Run AutoClass.\n",
    "    run.run()\n",
    "        \n",
    "    timer = 0\n",
    "    step = 2\n",
    "    while not Path(runtimeDir + \"/autoclass-run-success\").exists():\n",
    "        timer += step\n",
    "        sys.stdout.write(\"\\r\")\n",
    "        sys.stdout.write(f\"Time: {timer} sec.\")\n",
    "        sys.stdout.flush()\n",
    "        time.sleep(step)\n",
    "        if Path(\"autoclass-run-failure\").exists():\n",
    "            print(\"error\")\n",
    "            break\n",
    "            \n",
    "    if Path(runtimeDir + \"/autoclass-run-success\").exists():\n",
    "        results = wrapper.Output()\n",
    "        results.extract_results()\n",
    "        results.aggregate_input_data()\n",
    "#         results.write_cdt()\n",
    "#         results.write_cdt(with_proba=True)\n",
    "#         results.write_class_stats()\n",
    "#         results.write_dendrogram()\n",
    "        result = pd.read_csv(runtimeDir + '/autoclass_out.tsv', encoding=\"utf-8\", header=0, sep='\\t', index_col=0)\n",
    "        label =  pd.read_csv('/home/chuongdv/Documents/SourceCode/MachineLearning/exp/data/features/label.tsv', encoding='utf-8', header=0, sep='\\t', index_col=0)\n",
    "\n",
    "        label['cluster'] = result['main-class']\n",
    "        label.to_csv('app.csv', index = True, header=True)\n",
    "\n",
    "\n",
    "        listH = []\n",
    "        listApp = []\n",
    "        listCluster = []\n",
    "        def fun(x):\n",
    "            listCluster.append(x['cluster'].values[0])\n",
    "            listH.append(x['label'].value_counts().max()/x.shape[0])\n",
    "            listApp.append(x['label'].value_counts().idxmax())\n",
    "\n",
    "\n",
    "        label.groupby('cluster').apply(fun)\n",
    "\n",
    "        H = sum(listH)/len(listH)\n",
    "        print(listH)\n",
    "        print(listApp)\n",
    "        print(listCluster)\n",
    "        print(H)\n",
    "\n",
    "        dict = {'Cluster': listCluster, 'App': listApp, 'H': listH}\n",
    "\n",
    "        saveResult = pd.DataFrame(dict)\n",
    "\n",
    "        saveResult.to_csv(runtimeDir + '/resultCal.csv', index = True, header=True)\n",
    "        \n",
    "        afterall.update({feature:H})\n",
    "        \n",
    "round1 = pd.DataFrame(list(afterall.items()), index= range(len(subfeatures)))\n",
    "round1.info()\n",
    "round1.head(1)\n",
    "round1.to_csv('/home/chuongdv/Documents/SourceCode/MachineLearning/exp/result/round1/H.csv', index = True, header=True)"
   ]
  },
  {
   "cell_type": "code",
   "execution_count": 2,
   "metadata": {},
   "outputs": [
    {
     "name": "stdout",
     "output_type": "stream",
     "text": [
      "{'P0': 0.21754044109856682, 'P1': 0.1494137143801978}\n"
     ]
    }
   ],
   "source": [
    "print(afterall)"
   ]
  },
  {
   "cell_type": "code",
   "execution_count": 13,
   "metadata": {},
   "outputs": [],
   "source": [
    "round1 = pd.DataFrame(list(afterall.items()), index= range(len(subfeatures)))"
   ]
  },
  {
   "cell_type": "code",
   "execution_count": 14,
   "metadata": {},
   "outputs": [
    {
     "name": "stdout",
     "output_type": "stream",
     "text": [
      "<class 'pandas.core.frame.DataFrame'>\n",
      "RangeIndex: 2 entries, 0 to 1\n",
      "Data columns (total 2 columns):\n",
      " #   Column  Non-Null Count  Dtype  \n",
      "---  ------  --------------  -----  \n",
      " 0   0       2 non-null      object \n",
      " 1   1       2 non-null      float64\n",
      "dtypes: float64(1), object(1)\n",
      "memory usage: 160.0+ bytes\n"
     ]
    }
   ],
   "source": [
    "round1.info()"
   ]
  },
  {
   "cell_type": "code",
   "execution_count": 15,
   "metadata": {},
   "outputs": [
    {
     "data": {
      "text/html": [
       "<div>\n",
       "<style scoped>\n",
       "    .dataframe tbody tr th:only-of-type {\n",
       "        vertical-align: middle;\n",
       "    }\n",
       "\n",
       "    .dataframe tbody tr th {\n",
       "        vertical-align: top;\n",
       "    }\n",
       "\n",
       "    .dataframe thead th {\n",
       "        text-align: right;\n",
       "    }\n",
       "</style>\n",
       "<table border=\"1\" class=\"dataframe\">\n",
       "  <thead>\n",
       "    <tr style=\"text-align: right;\">\n",
       "      <th></th>\n",
       "      <th>0</th>\n",
       "      <th>1</th>\n",
       "    </tr>\n",
       "  </thead>\n",
       "  <tbody>\n",
       "    <tr>\n",
       "      <th>0</th>\n",
       "      <td>P0</td>\n",
       "      <td>0.217540</td>\n",
       "    </tr>\n",
       "    <tr>\n",
       "      <th>1</th>\n",
       "      <td>P1</td>\n",
       "      <td>0.149414</td>\n",
       "    </tr>\n",
       "  </tbody>\n",
       "</table>\n",
       "</div>"
      ],
      "text/plain": [
       "    0         1\n",
       "0  P0  0.217540\n",
       "1  P1  0.149414"
      ]
     },
     "execution_count": 15,
     "metadata": {},
     "output_type": "execute_result"
    }
   ],
   "source": [
    "round1.head(2)"
   ]
  },
  {
   "cell_type": "code",
   "execution_count": null,
   "metadata": {},
   "outputs": [],
   "source": [
    "round1.to_csv('/home/chuongdv/Documents/SourceCode/MachineLearning/reslnew.csv', index = True, header=True)"
   ]
  },
  {
   "cell_type": "code",
   "execution_count": 16,
   "metadata": {},
   "outputs": [],
   "source": [
    "round1.to_csv('/home/chuongdv/Documents/SourceCode/MachineLearning/reslnew.csv', index = True, header=True)"
   ]
  },
  {
   "cell_type": "code",
   "execution_count": null,
   "metadata": {},
   "outputs": [],
   "source": []
  }
 ],
 "metadata": {
  "kernelspec": {
   "display_name": "Python 3",
   "language": "python",
   "name": "python3"
  },
  "language_info": {
   "codemirror_mode": {
    "name": "ipython",
    "version": 3
   },
   "file_extension": ".py",
   "mimetype": "text/x-python",
   "name": "python",
   "nbconvert_exporter": "python",
   "pygments_lexer": "ipython3",
   "version": "3.7.6"
  }
 },
 "nbformat": 4,
 "nbformat_minor": 4
}
