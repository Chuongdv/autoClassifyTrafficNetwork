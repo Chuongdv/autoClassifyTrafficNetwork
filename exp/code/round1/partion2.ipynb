{
 "cells": [
  {
   "cell_type": "code",
   "execution_count": 1,
   "metadata": {},
   "outputs": [
    {
     "name": "stderr",
     "output_type": "stream",
     "text": [
      "2020-04-27 15:22:07 INFO     Reading data file '/home/chuongdv/Documents/SourceCode/MachineLearning/exp/data/features/P5.tsv' as 'real location' with error 0.01\n",
      "2020-04-27 15:22:07 INFO     Detected encoding: ascii\n",
      "2020-04-27 15:22:07 INFO     Found 3200 rows and 2 columns\n",
      "2020-04-27 15:22:07 DEBUG    Checking column names\n",
      "2020-04-27 15:22:07 DEBUG    Index name 'index'\n",
      "2020-04-27 15:22:07 DEBUG    Column name 'P5'\n",
      "2020-04-27 15:22:07 INFO     Checking data format\n",
      "2020-04-27 15:22:07 INFO     Column 'P5'\n",
      "2020-04-27 15:22:07 INFO     count    3200.000000\n",
      "2020-04-27 15:22:07 INFO     mean       -0.083701\n",
      "2020-04-27 15:22:07 INFO     std         2.579438\n",
      "2020-04-27 15:22:07 INFO     min       -42.765333\n",
      "2020-04-27 15:22:07 INFO     50%        -0.276978\n",
      "2020-04-27 15:22:07 INFO     max        42.745123\n",
      "2020-04-27 15:22:07 INFO     ---\n",
      "2020-04-27 15:22:07 INFO     Final dataframe has 3200 lines and 2 columns\n",
      "2020-04-27 15:22:07 INFO     Searching for missing values\n",
      "2020-04-27 15:22:07 INFO     No missing values found\n",
      "2020-04-27 15:22:07 INFO     Writing autoclass.db2 file\n",
      "2020-04-27 15:22:07 INFO     If any, missing values will be encoded as '?'\n",
      "2020-04-27 15:22:07 DEBUG    Writing autoclass.tsv file [for later use]\n",
      "2020-04-27 15:22:07 INFO     Writing .hd2 file\n",
      "2020-04-27 15:22:07 INFO     Writing .model file\n",
      "2020-04-27 15:22:07 INFO     Writing .s-params file\n",
      "2020-04-27 15:22:07 INFO     Writing .r-params file\n",
      "2020-04-27 15:22:07 INFO     AutoClass C executable found in /home/chuongdv/Documents/SourceCode/MachineLearning/autoclass-c/autoclass\n",
      "2020-04-27 15:22:07 INFO     Writing run file\n",
      "2020-04-27 15:22:07 INFO     AutoClass C executable found in /home/chuongdv/Documents/SourceCode/MachineLearning/autoclass-c/autoclass\n",
      "2020-04-27 15:22:07 INFO     AutoClass C version: AUTOCLASS C (version 3.3.6unx)\n",
      "2020-04-27 15:22:07 INFO     Running clustering...\n"
     ]
    },
    {
     "name": "stdout",
     "output_type": "stream",
     "text": [
      "Time: 160 sec."
     ]
    },
    {
     "name": "stderr",
     "output_type": "stream",
     "text": [
      "2020-04-27 15:24:47 INFO     Extracting autoclass results\n",
      "2020-04-27 15:24:47 INFO     Found 3200 cases classified in 9 classes\n",
      "2020-04-27 15:24:51 INFO     Aggregating input data\n",
      "2020-04-27 15:24:51 INFO     Writing classes + probabilities .tsv file\n",
      "2020-04-27 15:24:52 INFO     Reading data file '/home/chuongdv/Documents/SourceCode/MachineLearning/exp/data/features/P6.tsv' as 'real location' with error 0.01\n",
      "2020-04-27 15:24:52 INFO     Detected encoding: ascii\n",
      "2020-04-27 15:24:52 INFO     Found 3200 rows and 2 columns\n",
      "2020-04-27 15:24:52 DEBUG    Checking column names\n",
      "2020-04-27 15:24:52 DEBUG    Index name 'index'\n",
      "2020-04-27 15:24:52 DEBUG    Column name 'P6'\n",
      "2020-04-27 15:24:52 INFO     Checking data format\n",
      "2020-04-27 15:24:52 INFO     Column 'P6'\n",
      "2020-04-27 15:24:52 INFO     count    3200.000000\n",
      "2020-04-27 15:24:52 INFO     mean       -0.287767\n",
      "2020-04-27 15:24:52 INFO     std         2.171565\n",
      "2020-04-27 15:24:52 INFO     min       -36.499477\n",
      "2020-04-27 15:24:52 INFO     50%        -0.285893\n",
      "2020-04-27 15:24:52 INFO     max        11.643014\n",
      "2020-04-27 15:24:52 INFO     ---\n",
      "2020-04-27 15:24:52 INFO     Final dataframe has 3200 lines and 2 columns\n",
      "2020-04-27 15:24:52 INFO     Searching for missing values\n",
      "2020-04-27 15:24:52 INFO     No missing values found\n",
      "2020-04-27 15:24:52 INFO     Writing autoclass.db2 file\n",
      "2020-04-27 15:24:52 INFO     If any, missing values will be encoded as '?'\n",
      "2020-04-27 15:24:52 DEBUG    Writing autoclass.tsv file [for later use]\n",
      "2020-04-27 15:24:52 INFO     Writing .hd2 file\n",
      "2020-04-27 15:24:52 INFO     Writing .model file\n",
      "2020-04-27 15:24:52 INFO     Writing .s-params file\n",
      "2020-04-27 15:24:52 INFO     Writing .r-params file\n"
     ]
    },
    {
     "name": "stdout",
     "output_type": "stream",
     "text": [
      "[0.06620808254514188, 0.07177814029363784, 0.08579088471849866, 0.0955223880597015, 0.09009009009009009, 0.11969111969111969, 0.5294117647058824, 0.2, 0.375]\n",
      "['CONTENT_FLASH', 'HTTP', 'MS_ONE_DRIVE', 'DROPBOX', 'YOUTUBE', 'DNS', 'IP_ICMP', 'DNS', 'DNS']\n",
      "[1, 2, 3, 4, 5, 6, 7, 8, 9]\n",
      "0.18149916334489688\n"
     ]
    },
    {
     "name": "stderr",
     "output_type": "stream",
     "text": [
      "2020-04-27 15:24:52 INFO     AutoClass C executable found in /home/chuongdv/Documents/SourceCode/MachineLearning/autoclass-c/autoclass\n",
      "2020-04-27 15:24:52 INFO     Writing run file\n",
      "2020-04-27 15:24:52 INFO     AutoClass C executable found in /home/chuongdv/Documents/SourceCode/MachineLearning/autoclass-c/autoclass\n",
      "2020-04-27 15:24:52 INFO     AutoClass C version: AUTOCLASS C (version 3.3.6unx)\n",
      "2020-04-27 15:24:52 INFO     Running clustering...\n"
     ]
    },
    {
     "name": "stdout",
     "output_type": "stream",
     "text": [
      "Time: 196 sec."
     ]
    },
    {
     "name": "stderr",
     "output_type": "stream",
     "text": [
      "2020-04-27 15:28:08 INFO     Extracting autoclass results\n",
      "2020-04-27 15:28:08 INFO     Found 3200 cases classified in 6 classes\n",
      "2020-04-27 15:28:12 INFO     Aggregating input data\n",
      "2020-04-27 15:28:12 INFO     Writing classes + probabilities .tsv file\n",
      "2020-04-27 15:28:13 INFO     Reading data file '/home/chuongdv/Documents/SourceCode/MachineLearning/exp/data/features/P7.tsv' as 'real location' with error 0.01\n",
      "2020-04-27 15:28:13 INFO     Detected encoding: ascii\n",
      "2020-04-27 15:28:13 INFO     Found 3200 rows and 2 columns\n",
      "2020-04-27 15:28:13 DEBUG    Checking column names\n",
      "2020-04-27 15:28:13 DEBUG    Index name 'index'\n",
      "2020-04-27 15:28:13 DEBUG    Column name 'P7'\n",
      "2020-04-27 15:28:13 INFO     Checking data format\n",
      "2020-04-27 15:28:13 INFO     Column 'P7'\n",
      "2020-04-27 15:28:13 INFO     count    3200.000000\n",
      "2020-04-27 15:28:13 INFO     mean       -0.011162\n",
      "2020-04-27 15:28:13 INFO     std         1.848313\n",
      "2020-04-27 15:28:13 INFO     min       -55.194906\n",
      "2020-04-27 15:28:13 INFO     50%        -0.021818\n",
      "2020-04-27 15:28:13 INFO     max        39.883868\n",
      "2020-04-27 15:28:13 INFO     ---\n",
      "2020-04-27 15:28:13 INFO     Final dataframe has 3200 lines and 2 columns\n",
      "2020-04-27 15:28:13 INFO     Searching for missing values\n",
      "2020-04-27 15:28:13 INFO     No missing values found\n",
      "2020-04-27 15:28:13 INFO     Writing autoclass.db2 file\n",
      "2020-04-27 15:28:13 INFO     If any, missing values will be encoded as '?'\n",
      "2020-04-27 15:28:13 DEBUG    Writing autoclass.tsv file [for later use]\n",
      "2020-04-27 15:28:13 INFO     Writing .hd2 file\n",
      "2020-04-27 15:28:13 INFO     Writing .model file\n",
      "2020-04-27 15:28:13 INFO     Writing .s-params file\n",
      "2020-04-27 15:28:13 INFO     Writing .r-params file\n"
     ]
    },
    {
     "name": "stdout",
     "output_type": "stream",
     "text": [
      "[0.05147563486616335, 0.10623946037099494, 0.052039381153305204, 0.08032128514056225, 0.42105263157894735, 0.2631578947368421]\n",
      "['DNS', 'DROPBOX', 'HTTP', 'SPOTIFY', 'IP_ICMP', 'DNS']\n",
      "[1, 2, 3, 4, 5, 6]\n",
      "0.1623810479744692\n"
     ]
    },
    {
     "name": "stderr",
     "output_type": "stream",
     "text": [
      "2020-04-27 15:28:13 INFO     AutoClass C executable found in /home/chuongdv/Documents/SourceCode/MachineLearning/autoclass-c/autoclass\n",
      "2020-04-27 15:28:13 INFO     Writing run file\n",
      "2020-04-27 15:28:13 INFO     AutoClass C executable found in /home/chuongdv/Documents/SourceCode/MachineLearning/autoclass-c/autoclass\n",
      "2020-04-27 15:28:13 INFO     AutoClass C version: AUTOCLASS C (version 3.3.6unx)\n",
      "2020-04-27 15:28:13 INFO     Running clustering...\n"
     ]
    },
    {
     "name": "stdout",
     "output_type": "stream",
     "text": [
      "Time: 146 sec."
     ]
    },
    {
     "name": "stderr",
     "output_type": "stream",
     "text": [
      "2020-04-27 15:30:39 INFO     Extracting autoclass results\n",
      "2020-04-27 15:30:39 INFO     Found 3200 cases classified in 7 classes\n",
      "2020-04-27 15:30:44 INFO     Aggregating input data\n",
      "2020-04-27 15:30:44 INFO     Writing classes + probabilities .tsv file\n",
      "2020-04-27 15:30:44 INFO     Reading data file '/home/chuongdv/Documents/SourceCode/MachineLearning/exp/data/features/P8.tsv' as 'real location' with error 0.01\n",
      "2020-04-27 15:30:44 INFO     Detected encoding: ascii\n",
      "2020-04-27 15:30:44 INFO     Found 3200 rows and 2 columns\n",
      "2020-04-27 15:30:44 DEBUG    Checking column names\n",
      "2020-04-27 15:30:44 DEBUG    Index name 'index'\n",
      "2020-04-27 15:30:44 DEBUG    Column name 'P8'\n",
      "2020-04-27 15:30:44 INFO     Checking data format\n",
      "2020-04-27 15:30:44 INFO     Column 'P8'\n",
      "2020-04-27 15:30:44 INFO     count    3200.000000\n",
      "2020-04-27 15:30:44 INFO     mean        0.128760\n",
      "2020-04-27 15:30:44 INFO     std         1.763921\n",
      "2020-04-27 15:30:44 INFO     min       -15.036849\n",
      "2020-04-27 15:30:44 INFO     50%         0.067121\n",
      "2020-04-27 15:30:44 INFO     max        25.033877\n",
      "2020-04-27 15:30:44 INFO     ---\n",
      "2020-04-27 15:30:44 INFO     Final dataframe has 3200 lines and 2 columns\n",
      "2020-04-27 15:30:44 INFO     Searching for missing values\n",
      "2020-04-27 15:30:44 INFO     No missing values found\n",
      "2020-04-27 15:30:44 INFO     Writing autoclass.db2 file\n",
      "2020-04-27 15:30:44 INFO     If any, missing values will be encoded as '?'\n",
      "2020-04-27 15:30:44 DEBUG    Writing autoclass.tsv file [for later use]\n",
      "2020-04-27 15:30:44 INFO     Writing .hd2 file\n",
      "2020-04-27 15:30:44 INFO     Writing .model file\n",
      "2020-04-27 15:30:44 INFO     Writing .s-params file\n",
      "2020-04-27 15:30:44 INFO     Writing .r-params file\n"
     ]
    },
    {
     "name": "stdout",
     "output_type": "stream",
     "text": [
      "[0.060859188544152745, 0.05648267008985879, 0.08498583569405099, 0.1274787535410765, 0.12264150943396226, 0.245, 0.3888888888888889]\n",
      "['DROPBOX', 'HTTP', 'AMAZON', 'DNS', 'OFFICE_365', 'IP_ICMP', 'DNS']\n",
      "[1, 2, 3, 4, 5, 6, 7]\n",
      "0.15519097802742718\n"
     ]
    },
    {
     "name": "stderr",
     "output_type": "stream",
     "text": [
      "2020-04-27 15:30:44 INFO     AutoClass C executable found in /home/chuongdv/Documents/SourceCode/MachineLearning/autoclass-c/autoclass\n",
      "2020-04-27 15:30:44 INFO     Writing run file\n",
      "2020-04-27 15:30:44 INFO     AutoClass C executable found in /home/chuongdv/Documents/SourceCode/MachineLearning/autoclass-c/autoclass\n",
      "2020-04-27 15:30:44 INFO     AutoClass C version: AUTOCLASS C (version 3.3.6unx)\n",
      "2020-04-27 15:30:44 INFO     Running clustering...\n"
     ]
    },
    {
     "name": "stdout",
     "output_type": "stream",
     "text": [
      "Time: 180 sec."
     ]
    },
    {
     "name": "stderr",
     "output_type": "stream",
     "text": [
      "2020-04-27 15:33:45 INFO     Extracting autoclass results\n",
      "2020-04-27 15:33:45 INFO     Found 3200 cases classified in 6 classes\n",
      "2020-04-27 15:33:50 INFO     Aggregating input data\n",
      "2020-04-27 15:33:50 INFO     Writing classes + probabilities .tsv file\n",
      "2020-04-27 15:33:50 INFO     Reading data file '/home/chuongdv/Documents/SourceCode/MachineLearning/exp/data/features/P9.tsv' as 'real location' with error 0.01\n",
      "2020-04-27 15:33:50 INFO     Detected encoding: ascii\n",
      "2020-04-27 15:33:50 INFO     Found 3200 rows and 2 columns\n",
      "2020-04-27 15:33:50 DEBUG    Checking column names\n",
      "2020-04-27 15:33:50 DEBUG    Index name 'index'\n",
      "2020-04-27 15:33:50 DEBUG    Column name 'P9'\n",
      "2020-04-27 15:33:50 INFO     Checking data format\n",
      "2020-04-27 15:33:50 INFO     Column 'P9'\n",
      "2020-04-27 15:33:50 INFO     count    3200.000000\n",
      "2020-04-27 15:33:50 INFO     mean        0.161325\n",
      "2020-04-27 15:33:50 INFO     std         2.208582\n",
      "2020-04-27 15:33:50 INFO     min        -4.587813\n",
      "2020-04-27 15:33:50 INFO     50%         0.028772\n",
      "2020-04-27 15:33:50 INFO     max        36.215980\n",
      "2020-04-27 15:33:50 INFO     ---\n",
      "2020-04-27 15:33:50 INFO     Final dataframe has 3200 lines and 2 columns\n",
      "2020-04-27 15:33:50 INFO     Searching for missing values\n",
      "2020-04-27 15:33:50 INFO     No missing values found\n",
      "2020-04-27 15:33:50 INFO     Writing autoclass.db2 file\n",
      "2020-04-27 15:33:50 INFO     If any, missing values will be encoded as '?'\n",
      "2020-04-27 15:33:50 DEBUG    Writing autoclass.tsv file [for later use]\n",
      "2020-04-27 15:33:50 INFO     Writing .hd2 file\n",
      "2020-04-27 15:33:50 INFO     Writing .model file\n",
      "2020-04-27 15:33:50 INFO     Writing .s-params file\n",
      "2020-04-27 15:33:50 INFO     Writing .r-params file\n"
     ]
    },
    {
     "name": "stdout",
     "output_type": "stream",
     "text": [
      "[0.06118665018541409, 0.07993730407523511, 0.06981519507186858, 0.11619718309859155, 0.10091743119266056, 0.171875]\n",
      "['IP_ICMP', 'DNS', 'CLOUDFLARE', 'DROPBOX', 'OFFICE_365', 'DNS']\n",
      "[1, 2, 3, 4, 5, 6]\n",
      "0.09998812727062832\n"
     ]
    },
    {
     "name": "stderr",
     "output_type": "stream",
     "text": [
      "2020-04-27 15:33:50 INFO     AutoClass C executable found in /home/chuongdv/Documents/SourceCode/MachineLearning/autoclass-c/autoclass\n",
      "2020-04-27 15:33:50 INFO     Writing run file\n",
      "2020-04-27 15:33:50 INFO     AutoClass C executable found in /home/chuongdv/Documents/SourceCode/MachineLearning/autoclass-c/autoclass\n",
      "2020-04-27 15:33:50 INFO     AutoClass C version: AUTOCLASS C (version 3.3.6unx)\n",
      "2020-04-27 15:33:50 INFO     Running clustering...\n"
     ]
    },
    {
     "name": "stdout",
     "output_type": "stream",
     "text": [
      "Time: 190 sec."
     ]
    },
    {
     "name": "stderr",
     "output_type": "stream",
     "text": [
      "2020-04-27 15:37:01 INFO     Extracting autoclass results\n",
      "2020-04-27 15:37:01 INFO     Found 3200 cases classified in 11 classes\n",
      "2020-04-27 15:37:04 INFO     Aggregating input data\n",
      "2020-04-27 15:37:04 INFO     Writing classes + probabilities .tsv file\n"
     ]
    },
    {
     "name": "stdout",
     "output_type": "stream",
     "text": [
      "[0.060092449922958396, 0.115, 0.0521415270018622, 0.16759776536312848, 0.09859154929577464, 0.0972972972972973, 0.16666666666666666, 0.15151515151515152, 0.2465753424657534, 0.17777777777777778, 0.4]\n",
      "['INSTAGRAM', 'DROPBOX', 'HTTP', 'IP_ICMP', 'CONTENT_FLASH', 'AMAZON', 'DNS', 'DNS', 'DNS', 'HTTP', 'APPLE_ICLOUD']\n",
      "[1, 2, 3, 4, 5, 6, 7, 8, 9, 10, 11]\n",
      "0.15756868430057913\n",
      "<class 'pandas.core.frame.DataFrame'>\n",
      "RangeIndex: 5 entries, 0 to 4\n",
      "Data columns (total 2 columns):\n",
      " #   Column  Non-Null Count  Dtype  \n",
      "---  ------  --------------  -----  \n",
      " 0   0       5 non-null      object \n",
      " 1   1       5 non-null      float64\n",
      "dtypes: float64(1), object(1)\n",
      "memory usage: 208.0+ bytes\n"
     ]
    }
   ],
   "source": [
    "from pathlib import Path\n",
    "import sys\n",
    "import time\n",
    "import threading\n",
    "\n",
    "import matplotlib\n",
    "import matplotlib.pyplot as plt\n",
    "from matplotlib.lines import Line2D\n",
    "import numpy as np\n",
    "import pandas as pd\n",
    "%matplotlib inline\n",
    "import autoclasswrapper as wrapper\n",
    "import os \n",
    "\n",
    "afterall = {}\n",
    "subfeatures = ['P5', 'P6', 'P7', 'P8', 'P9']\n",
    "os.environ['PATH'] += \":/home/chuongdv/Documents/SourceCode/MachineLearning/autoclass-c\"\n",
    "#!touch /home/chuongdv/Documents/SourceCode/MachineLearning/exp/result/autoclass.r-params \n",
    "#!echo \"xref_class_report_att_list = 0, 1 \\nreport_mode = \\\"data\\\" \\ncomment_data_headers_p = true \" >> /home/chuongdv/Documents/SourceCode/MachineLearning/exp/result/autoclass.r-params \n",
    "for feature in subfeatures:\n",
    "    runtimeDir = \"/home/chuongdv/Documents/SourceCode/MachineLearning/exp/result/round1/\" + feature\n",
    "    if not Path(runtimeDir).exists():\n",
    "        os.mkdir(runtimeDir)\n",
    "    os.chdir(runtimeDir)\n",
    "    \n",
    "            # Create object to prepare dataset.\n",
    "    clust = wrapper.Input()\n",
    "\n",
    "    # Load datasets from tsv files.\n",
    "    pathData = \"/home/chuongdv/Documents/SourceCode/MachineLearning/exp/data/features/\" + feature + \".tsv\"\n",
    "    clust.add_input_data(pathData, \"real location\")\n",
    "    #clust.add_input_data(\"/home/chuongdv/Documents/SourceCode/MachineLearning/exp/data/features/P2.tsv\", \"real location\")\n",
    "    \n",
    "    # Prepare input data:\n",
    "    # - create a final dataframe\n",
    "    # - merge datasets if multiple inputs\n",
    "    clust.prepare_input_data()\n",
    "\n",
    "    # Create files needed by AutoClass.\n",
    "    clust.create_db2_file()\n",
    "    clust.create_hd2_file()\n",
    "    clust.create_model_file()\n",
    "    clust.create_sparams_file(max_duration = 0)\n",
    "    clust.create_rparams_file()\n",
    "    !rm autoclass.r-params\n",
    "    !cp /home/chuongdv/Documents/SourceCode/MachineLearning/exp/result/round1/autoclass.r-params .\n",
    "    \n",
    "    !rm -f autoclass-run-* *.results-bin\n",
    "\n",
    "\n",
    "    # Search autoclass in path.\n",
    "    wrapper.search_autoclass_in_path()\n",
    "\n",
    "    # Create object to run AutoClass.\n",
    "    run = wrapper.Run()\n",
    "\n",
    "    # Prepare run script.\n",
    "    run.create_run_file()\n",
    "\n",
    "    # Run AutoClass.\n",
    "    run.run()\n",
    "        \n",
    "    timer = 0\n",
    "    step = 2\n",
    "    while not Path(runtimeDir + \"/autoclass-run-success\").exists():\n",
    "        timer += step\n",
    "        sys.stdout.write(\"\\r\")\n",
    "        sys.stdout.write(f\"Time: {timer} sec.\")\n",
    "        sys.stdout.flush()\n",
    "        time.sleep(step)\n",
    "        if Path(\"autoclass-run-failure\").exists():\n",
    "            print(\"error\")\n",
    "            break\n",
    "            \n",
    "    if Path(runtimeDir + \"/autoclass-run-success\").exists():\n",
    "        results = wrapper.Output()\n",
    "        results.extract_results()\n",
    "        results.aggregate_input_data()\n",
    "#         results.write_cdt()\n",
    "#         results.write_cdt(with_proba=True)\n",
    "#         results.write_class_stats()\n",
    "#         results.write_dendrogram()\n",
    "        result = pd.read_csv(runtimeDir + '/autoclass_out.tsv', encoding=\"utf-8\", header=0, sep='\\t', index_col=0)\n",
    "        label =  pd.read_csv('/home/chuongdv/Documents/SourceCode/MachineLearning/exp/data/features/label.tsv', encoding='utf-8', header=0, sep='\\t', index_col=0)\n",
    "\n",
    "        label['cluster'] = result['main-class']\n",
    "        label.to_csv('app.csv', index = True, header=True)\n",
    "\n",
    "\n",
    "        listH = []\n",
    "        listApp = []\n",
    "        listCluster = []\n",
    "        def fun(x):\n",
    "            listCluster.append(x['cluster'].values[0])\n",
    "            listH.append(x['label'].value_counts().max()/x.shape[0])\n",
    "            listApp.append(x['label'].value_counts().idxmax())\n",
    "\n",
    "\n",
    "        label.groupby('cluster').apply(fun)\n",
    "\n",
    "        H = sum(listH)/len(listH)\n",
    "        print(listH)\n",
    "        print(listApp)\n",
    "        print(listCluster)\n",
    "        print(H)\n",
    "\n",
    "        dict = {'Cluster': listCluster, 'App': listApp, 'H': listH}\n",
    "\n",
    "        saveResult = pd.DataFrame(dict)\n",
    "\n",
    "        saveResult.to_csv(runtimeDir + '/resultCal.csv', index = True, header=True)\n",
    "        \n",
    "        afterall.update({feature:H})\n",
    "        \n",
    "round1 = pd.DataFrame(list(afterall.items()), index= range(len(subfeatures)))\n",
    "round1.info()\n",
    "round1.head(1)\n",
    "round1.to_csv('/home/chuongdv/Documents/SourceCode/MachineLearning/exp/result/round1/Hp2.csv', index = True, header=True)"
   ]
  },
  {
   "cell_type": "code",
   "execution_count": null,
   "metadata": {},
   "outputs": [],
   "source": []
  }
 ],
 "metadata": {
  "kernelspec": {
   "display_name": "Python 3",
   "language": "python",
   "name": "python3"
  },
  "language_info": {
   "codemirror_mode": {
    "name": "ipython",
    "version": 3
   },
   "file_extension": ".py",
   "mimetype": "text/x-python",
   "name": "python",
   "nbconvert_exporter": "python",
   "pygments_lexer": "ipython3",
   "version": "3.7.6"
  }
 },
 "nbformat": 4,
 "nbformat_minor": 4
}
