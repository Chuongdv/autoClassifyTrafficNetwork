{
 "cells": [
  {
   "cell_type": "code",
   "execution_count": 1,
   "metadata": {},
   "outputs": [
    {
     "name": "stderr",
     "output_type": "stream",
     "text": [
      "2020-04-27 15:22:12 INFO     Reading data file '/home/chuongdv/Documents/SourceCode/MachineLearning/exp/data/features/P10.tsv' as 'real location' with error 0.01\n",
      "2020-04-27 15:22:12 INFO     Detected encoding: ascii\n",
      "2020-04-27 15:22:12 INFO     Found 3200 rows and 2 columns\n",
      "2020-04-27 15:22:12 DEBUG    Checking column names\n",
      "2020-04-27 15:22:12 DEBUG    Index name 'index'\n",
      "2020-04-27 15:22:12 DEBUG    Column name 'P10'\n",
      "2020-04-27 15:22:12 INFO     Checking data format\n",
      "2020-04-27 15:22:12 INFO     Column 'P10'\n",
      "2020-04-27 15:22:12 INFO     count    3200.000000\n",
      "2020-04-27 15:22:12 INFO     mean       -0.012175\n",
      "2020-04-27 15:22:12 INFO     std         2.500738\n",
      "2020-04-27 15:22:12 INFO     min       -42.287518\n",
      "2020-04-27 15:22:12 INFO     50%         0.174727\n",
      "2020-04-27 15:22:12 INFO     max         8.556823\n",
      "2020-04-27 15:22:12 INFO     ---\n",
      "2020-04-27 15:22:12 INFO     Final dataframe has 3200 lines and 2 columns\n",
      "2020-04-27 15:22:12 INFO     Searching for missing values\n",
      "2020-04-27 15:22:12 INFO     No missing values found\n",
      "2020-04-27 15:22:12 INFO     Writing autoclass.db2 file\n",
      "2020-04-27 15:22:12 INFO     If any, missing values will be encoded as '?'\n",
      "2020-04-27 15:22:12 DEBUG    Writing autoclass.tsv file [for later use]\n",
      "2020-04-27 15:22:12 INFO     Writing .hd2 file\n",
      "2020-04-27 15:22:12 INFO     Writing .model file\n",
      "2020-04-27 15:22:12 INFO     Writing .s-params file\n",
      "2020-04-27 15:22:12 INFO     Writing .r-params file\n",
      "2020-04-27 15:22:13 INFO     AutoClass C executable found in /home/chuongdv/Documents/SourceCode/MachineLearning/autoclass-c/autoclass\n",
      "2020-04-27 15:22:13 INFO     Writing run file\n",
      "2020-04-27 15:22:13 INFO     AutoClass C executable found in /home/chuongdv/Documents/SourceCode/MachineLearning/autoclass-c/autoclass\n",
      "2020-04-27 15:22:13 INFO     AutoClass C version: AUTOCLASS C (version 3.3.6unx)\n",
      "2020-04-27 15:22:13 INFO     Running clustering...\n"
     ]
    },
    {
     "name": "stdout",
     "output_type": "stream",
     "text": [
      "Time: 142 sec."
     ]
    },
    {
     "name": "stderr",
     "output_type": "stream",
     "text": [
      "2020-04-27 15:24:35 INFO     Extracting autoclass results\n",
      "2020-04-27 15:24:35 INFO     Found 3200 cases classified in 10 classes\n",
      "2020-04-27 15:24:39 INFO     Aggregating input data\n",
      "2020-04-27 15:24:39 INFO     Writing classes + probabilities .tsv file\n",
      "2020-04-27 15:24:39 INFO     Reading data file '/home/chuongdv/Documents/SourceCode/MachineLearning/exp/data/features/P11.tsv' as 'real location' with error 0.01\n",
      "2020-04-27 15:24:39 INFO     Detected encoding: ascii\n",
      "2020-04-27 15:24:39 INFO     Found 3200 rows and 2 columns\n",
      "2020-04-27 15:24:39 DEBUG    Checking column names\n",
      "2020-04-27 15:24:39 DEBUG    Index name 'index'\n",
      "2020-04-27 15:24:39 DEBUG    Column name 'P11'\n",
      "2020-04-27 15:24:39 INFO     Checking data format\n",
      "2020-04-27 15:24:39 INFO     Column 'P11'\n",
      "2020-04-27 15:24:39 INFO     count    3200.000000\n",
      "2020-04-27 15:24:39 INFO     mean       -0.187907\n",
      "2020-04-27 15:24:39 INFO     std         1.310756\n",
      "2020-04-27 15:24:39 INFO     min       -11.829763\n",
      "2020-04-27 15:24:39 INFO     50%        -0.101058\n",
      "2020-04-27 15:24:39 INFO     max         8.847952\n",
      "2020-04-27 15:24:39 INFO     ---\n",
      "2020-04-27 15:24:39 INFO     Final dataframe has 3200 lines and 2 columns\n",
      "2020-04-27 15:24:39 INFO     Searching for missing values\n",
      "2020-04-27 15:24:39 INFO     No missing values found\n",
      "2020-04-27 15:24:39 INFO     Writing autoclass.db2 file\n",
      "2020-04-27 15:24:39 INFO     If any, missing values will be encoded as '?'\n",
      "2020-04-27 15:24:39 DEBUG    Writing autoclass.tsv file [for later use]\n",
      "2020-04-27 15:24:39 INFO     Writing .hd2 file\n",
      "2020-04-27 15:24:40 INFO     Writing .model file\n",
      "2020-04-27 15:24:40 INFO     Writing .s-params file\n",
      "2020-04-27 15:24:40 INFO     Writing .r-params file\n"
     ]
    },
    {
     "name": "stdout",
     "output_type": "stream",
     "text": [
      "[0.162839248434238, 0.1592920353982301, 0.054455445544554455, 0.06891891891891892, 0.07588075880758807, 0.22160664819944598, 0.07772020725388601, 0.17777777777777778, 0.13793103448275862, 0.4]\n",
      "['DNS', 'DROPBOX', 'WINDOWS_UPDATE', 'AMAZON', 'SPOTIFY', 'IP_ICMP', 'SPOTIFY', 'DNS', 'HTTP', 'APPLE_ICLOUD']\n",
      "[1, 2, 3, 4, 5, 7, 8, 9, 10, 11]\n",
      "0.1536422074817398\n"
     ]
    },
    {
     "name": "stderr",
     "output_type": "stream",
     "text": [
      "2020-04-27 15:24:40 INFO     AutoClass C executable found in /home/chuongdv/Documents/SourceCode/MachineLearning/autoclass-c/autoclass\n",
      "2020-04-27 15:24:40 INFO     Writing run file\n",
      "2020-04-27 15:24:40 INFO     AutoClass C executable found in /home/chuongdv/Documents/SourceCode/MachineLearning/autoclass-c/autoclass\n",
      "2020-04-27 15:24:40 INFO     AutoClass C version: AUTOCLASS C (version 3.3.6unx)\n",
      "2020-04-27 15:24:40 INFO     Running clustering...\n"
     ]
    },
    {
     "name": "stdout",
     "output_type": "stream",
     "text": [
      "Time: 288 sec."
     ]
    },
    {
     "name": "stderr",
     "output_type": "stream",
     "text": [
      "2020-04-27 15:29:28 INFO     Extracting autoclass results\n",
      "2020-04-27 15:29:28 INFO     Found 3200 cases classified in 11 classes\n",
      "2020-04-27 15:29:33 INFO     Aggregating input data\n",
      "2020-04-27 15:29:33 INFO     Writing classes + probabilities .tsv file\n",
      "2020-04-27 15:29:33 INFO     Reading data file '/home/chuongdv/Documents/SourceCode/MachineLearning/exp/data/features/P12.tsv' as 'real location' with error 0.01\n",
      "2020-04-27 15:29:33 INFO     Detected encoding: ascii\n",
      "2020-04-27 15:29:33 INFO     Found 3200 rows and 2 columns\n",
      "2020-04-27 15:29:33 DEBUG    Checking column names\n",
      "2020-04-27 15:29:33 DEBUG    Index name 'index'\n",
      "2020-04-27 15:29:33 DEBUG    Column name 'P12'\n",
      "2020-04-27 15:29:33 INFO     Checking data format\n",
      "2020-04-27 15:29:33 INFO     Column 'P12'\n",
      "2020-04-27 15:29:33 INFO     count    3200.000000\n",
      "2020-04-27 15:29:33 INFO     mean        0.126118\n",
      "2020-04-27 15:29:33 INFO     std         1.003611\n",
      "2020-04-27 15:29:33 INFO     min        -7.893522\n",
      "2020-04-27 15:29:33 INFO     50%         0.103791\n",
      "2020-04-27 15:29:33 INFO     max        29.513040\n",
      "2020-04-27 15:29:33 INFO     ---\n",
      "2020-04-27 15:29:33 INFO     Final dataframe has 3200 lines and 2 columns\n",
      "2020-04-27 15:29:33 INFO     Searching for missing values\n",
      "2020-04-27 15:29:33 INFO     No missing values found\n",
      "2020-04-27 15:29:33 INFO     Writing autoclass.db2 file\n",
      "2020-04-27 15:29:33 INFO     If any, missing values will be encoded as '?'\n",
      "2020-04-27 15:29:33 DEBUG    Writing autoclass.tsv file [for later use]\n",
      "2020-04-27 15:29:33 INFO     Writing .hd2 file\n",
      "2020-04-27 15:29:33 INFO     Writing .model file\n",
      "2020-04-27 15:29:33 INFO     Writing .s-params file\n",
      "2020-04-27 15:29:33 INFO     Writing .r-params file\n"
     ]
    },
    {
     "name": "stdout",
     "output_type": "stream",
     "text": [
      "[0.07448275862068965, 0.058577405857740586, 0.08256880733944955, 0.15463917525773196, 0.09725685785536159, 0.08152173913043478, 0.4742268041237113, 0.11055276381909548, 0.0847457627118644, 0.5459770114942529, 0.09941520467836257]\n",
      "['APPLE', 'HTTP_CONNECT', 'SSL', 'CONTENT_FLASH', 'DNS', 'HTTP_CONNECT', 'DROPBOX', 'HTTP', 'CLOUDFLARE', 'IP_ICMP', 'WINDOWS_UPDATE']\n",
      "[1, 2, 3, 4, 5, 6, 7, 8, 9, 10, 11]\n",
      "0.16945129917169954\n"
     ]
    },
    {
     "name": "stderr",
     "output_type": "stream",
     "text": [
      "2020-04-27 15:29:34 INFO     AutoClass C executable found in /home/chuongdv/Documents/SourceCode/MachineLearning/autoclass-c/autoclass\n",
      "2020-04-27 15:29:34 INFO     Writing run file\n",
      "2020-04-27 15:29:34 INFO     AutoClass C executable found in /home/chuongdv/Documents/SourceCode/MachineLearning/autoclass-c/autoclass\n",
      "2020-04-27 15:29:34 INFO     AutoClass C version: AUTOCLASS C (version 3.3.6unx)\n",
      "2020-04-27 15:29:34 INFO     Running clustering...\n"
     ]
    },
    {
     "name": "stdout",
     "output_type": "stream",
     "text": [
      "Time: 156 sec."
     ]
    },
    {
     "name": "stderr",
     "output_type": "stream",
     "text": [
      "2020-04-27 15:32:10 INFO     Extracting autoclass results\n",
      "2020-04-27 15:32:10 INFO     Found 3200 cases classified in 5 classes\n",
      "2020-04-27 15:32:14 INFO     Aggregating input data\n",
      "2020-04-27 15:32:14 INFO     Writing classes + probabilities .tsv file\n",
      "2020-04-27 15:32:14 INFO     Reading data file '/home/chuongdv/Documents/SourceCode/MachineLearning/exp/data/features/P13.tsv' as 'real location' with error 0.01\n",
      "2020-04-27 15:32:14 INFO     Detected encoding: ascii\n",
      "2020-04-27 15:32:14 INFO     Found 3200 rows and 2 columns\n",
      "2020-04-27 15:32:14 DEBUG    Checking column names\n",
      "2020-04-27 15:32:14 DEBUG    Index name 'index'\n",
      "2020-04-27 15:32:14 DEBUG    Column name 'P13'\n",
      "2020-04-27 15:32:14 INFO     Checking data format\n",
      "2020-04-27 15:32:14 INFO     Column 'P13'\n",
      "2020-04-27 15:32:14 INFO     count    3200.000000\n",
      "2020-04-27 15:32:14 INFO     mean        0.119335\n",
      "2020-04-27 15:32:14 INFO     std         1.641372\n",
      "2020-04-27 15:32:14 INFO     min        -9.724970\n",
      "2020-04-27 15:32:14 INFO     50%         0.094126\n",
      "2020-04-27 15:32:14 INFO     max        35.898806\n",
      "2020-04-27 15:32:14 INFO     ---\n",
      "2020-04-27 15:32:14 INFO     Final dataframe has 3200 lines and 2 columns\n",
      "2020-04-27 15:32:14 INFO     Searching for missing values\n",
      "2020-04-27 15:32:14 INFO     No missing values found\n",
      "2020-04-27 15:32:14 INFO     Writing autoclass.db2 file\n",
      "2020-04-27 15:32:14 INFO     If any, missing values will be encoded as '?'\n",
      "2020-04-27 15:32:14 DEBUG    Writing autoclass.tsv file [for later use]\n",
      "2020-04-27 15:32:14 INFO     Writing .hd2 file\n",
      "2020-04-27 15:32:14 INFO     Writing .model file\n",
      "2020-04-27 15:32:14 INFO     Writing .s-params file\n",
      "2020-04-27 15:32:14 INFO     Writing .r-params file\n"
     ]
    },
    {
     "name": "stdout",
     "output_type": "stream",
     "text": [
      "[0.04969574036511156, 0.05419766206163656, 0.07602339181286549, 0.19298245614035087, 0.5]\n",
      "['IP_ICMP', 'DROPBOX', 'MICROSOFT', 'DROPBOX', 'HTTP_PROXY']\n",
      "[1, 2, 3, 4, 5]\n",
      "0.1745798500759929\n"
     ]
    },
    {
     "name": "stderr",
     "output_type": "stream",
     "text": [
      "2020-04-27 15:32:15 INFO     AutoClass C executable found in /home/chuongdv/Documents/SourceCode/MachineLearning/autoclass-c/autoclass\n",
      "2020-04-27 15:32:15 INFO     Writing run file\n",
      "2020-04-27 15:32:15 INFO     AutoClass C executable found in /home/chuongdv/Documents/SourceCode/MachineLearning/autoclass-c/autoclass\n",
      "2020-04-27 15:32:15 INFO     AutoClass C version: AUTOCLASS C (version 3.3.6unx)\n",
      "2020-04-27 15:32:15 INFO     Running clustering...\n"
     ]
    },
    {
     "name": "stdout",
     "output_type": "stream",
     "text": [
      "Time: 154 sec."
     ]
    },
    {
     "name": "stderr",
     "output_type": "stream",
     "text": [
      "2020-04-27 15:34:49 INFO     Extracting autoclass results\n",
      "2020-04-27 15:34:49 INFO     Found 3200 cases classified in 5 classes\n",
      "2020-04-27 15:34:53 INFO     Aggregating input data\n",
      "2020-04-27 15:34:53 INFO     Writing classes + probabilities .tsv file\n",
      "2020-04-27 15:34:53 INFO     Reading data file '/home/chuongdv/Documents/SourceCode/MachineLearning/exp/data/features/P14.tsv' as 'real location' with error 0.01\n",
      "2020-04-27 15:34:53 INFO     Detected encoding: ascii\n",
      "2020-04-27 15:34:53 INFO     Found 3200 rows and 2 columns\n",
      "2020-04-27 15:34:53 DEBUG    Checking column names\n",
      "2020-04-27 15:34:53 DEBUG    Index name 'index'\n",
      "2020-04-27 15:34:53 DEBUG    Column name 'P14'\n",
      "2020-04-27 15:34:53 INFO     Checking data format\n",
      "2020-04-27 15:34:53 INFO     Column 'P14'\n",
      "2020-04-27 15:34:53 INFO     count    3200.000000\n",
      "2020-04-27 15:34:53 INFO     mean       -0.037417\n",
      "2020-04-27 15:34:53 INFO     std         1.119598\n",
      "2020-04-27 15:34:53 INFO     min        -6.614422\n",
      "2020-04-27 15:34:53 INFO     50%        -0.063303\n",
      "2020-04-27 15:34:53 INFO     max         7.325763\n",
      "2020-04-27 15:34:53 INFO     ---\n",
      "2020-04-27 15:34:53 INFO     Final dataframe has 3200 lines and 2 columns\n",
      "2020-04-27 15:34:53 INFO     Searching for missing values\n",
      "2020-04-27 15:34:53 INFO     No missing values found\n",
      "2020-04-27 15:34:53 INFO     Writing autoclass.db2 file\n",
      "2020-04-27 15:34:53 INFO     If any, missing values will be encoded as '?'\n",
      "2020-04-27 15:34:53 DEBUG    Writing autoclass.tsv file [for later use]\n",
      "2020-04-27 15:34:53 INFO     Writing .hd2 file\n",
      "2020-04-27 15:34:53 INFO     Writing .model file\n",
      "2020-04-27 15:34:53 INFO     Writing .s-params file\n",
      "2020-04-27 15:34:53 INFO     Writing .r-params file\n"
     ]
    },
    {
     "name": "stdout",
     "output_type": "stream",
     "text": [
      "[0.05012531328320802, 0.0743362831858407, 0.11422845691382766, 0.3723404255319149, 0.2553191489361702]\n",
      "['IP_ICMP', 'OFFICE_365', 'CONTENT_FLASH', 'DROPBOX', 'FACEBOOK']\n",
      "[1, 2, 3, 4, 5]\n",
      "0.1732699255701923\n"
     ]
    },
    {
     "name": "stderr",
     "output_type": "stream",
     "text": [
      "2020-04-27 15:34:54 INFO     AutoClass C executable found in /home/chuongdv/Documents/SourceCode/MachineLearning/autoclass-c/autoclass\n",
      "2020-04-27 15:34:54 INFO     Writing run file\n",
      "2020-04-27 15:34:54 INFO     AutoClass C executable found in /home/chuongdv/Documents/SourceCode/MachineLearning/autoclass-c/autoclass\n",
      "2020-04-27 15:34:54 INFO     AutoClass C version: AUTOCLASS C (version 3.3.6unx)\n",
      "2020-04-27 15:34:54 INFO     Running clustering...\n"
     ]
    },
    {
     "name": "stdout",
     "output_type": "stream",
     "text": [
      "Time: 194 sec."
     ]
    },
    {
     "name": "stderr",
     "output_type": "stream",
     "text": [
      "2020-04-27 15:38:08 INFO     Extracting autoclass results\n",
      "2020-04-27 15:38:08 INFO     Found 3200 cases classified in 8 classes\n",
      "2020-04-27 15:38:11 INFO     Aggregating input data\n",
      "2020-04-27 15:38:11 INFO     Writing classes + probabilities .tsv file\n"
     ]
    },
    {
     "name": "stdout",
     "output_type": "stream",
     "text": [
      "[0.06058091286307054, 0.06666666666666667, 0.11885245901639344, 0.06921241050119331, 0.07419354838709677, 0.0859375, 0.7122302158273381, 0.17424242424242425]\n",
      "['DNS', 'MS_ONE_DRIVE', 'DROPBOX', 'CLOUDFLARE', 'HTTP', 'EBAY', 'IP_ICMP', 'APPLE']\n",
      "[1, 2, 3, 4, 5, 6, 7, 8]\n",
      "0.17023951718802288\n",
      "<class 'pandas.core.frame.DataFrame'>\n",
      "RangeIndex: 5 entries, 0 to 4\n",
      "Data columns (total 2 columns):\n",
      " #   Column  Non-Null Count  Dtype  \n",
      "---  ------  --------------  -----  \n",
      " 0   0       5 non-null      object \n",
      " 1   1       5 non-null      float64\n",
      "dtypes: float64(1), object(1)\n",
      "memory usage: 208.0+ bytes\n"
     ]
    }
   ],
   "source": [
    "from pathlib import Path\n",
    "import sys\n",
    "import time\n",
    "import threading\n",
    "\n",
    "import matplotlib\n",
    "import matplotlib.pyplot as plt\n",
    "from matplotlib.lines import Line2D\n",
    "import numpy as np\n",
    "import pandas as pd\n",
    "%matplotlib inline\n",
    "import autoclasswrapper as wrapper\n",
    "import os \n",
    "\n",
    "afterall = {}\n",
    "subfeatures = ['P10', 'P11', 'P12', 'P13', 'P14']\n",
    "os.environ['PATH'] += \":/home/chuongdv/Documents/SourceCode/MachineLearning/autoclass-c\"\n",
    "#!touch /home/chuongdv/Documents/SourceCode/MachineLearning/exp/result/autoclass.r-params \n",
    "#!echo \"xref_class_report_att_list = 0, 1 \\nreport_mode = \\\"data\\\" \\ncomment_data_headers_p = true \" >> /home/chuongdv/Documents/SourceCode/MachineLearning/exp/result/autoclass.r-params \n",
    "for feature in subfeatures:\n",
    "    runtimeDir = \"/home/chuongdv/Documents/SourceCode/MachineLearning/exp/result/round1/\" + feature\n",
    "    if not Path(runtimeDir).exists():\n",
    "        os.mkdir(runtimeDir)\n",
    "    os.chdir(runtimeDir)\n",
    "    \n",
    "            # Create object to prepare dataset.\n",
    "    clust = wrapper.Input()\n",
    "\n",
    "    # Load datasets from tsv files.\n",
    "    pathData = \"/home/chuongdv/Documents/SourceCode/MachineLearning/exp/data/features/\" + feature + \".tsv\"\n",
    "    clust.add_input_data(pathData, \"real location\")\n",
    "    #clust.add_input_data(\"/home/chuongdv/Documents/SourceCode/MachineLearning/exp/data/features/P2.tsv\", \"real location\")\n",
    "    \n",
    "    # Prepare input data:\n",
    "    # - create a final dataframe\n",
    "    # - merge datasets if multiple inputs\n",
    "    clust.prepare_input_data()\n",
    "\n",
    "    # Create files needed by AutoClass.\n",
    "    clust.create_db2_file()\n",
    "    clust.create_hd2_file()\n",
    "    clust.create_model_file()\n",
    "    clust.create_sparams_file(max_duration = 0)\n",
    "    clust.create_rparams_file()\n",
    "    !rm autoclass.r-params\n",
    "    !cp /home/chuongdv/Documents/SourceCode/MachineLearning/exp/result/round1/autoclass.r-params .\n",
    "    \n",
    "    !rm -f autoclass-run-* *.results-bin\n",
    "\n",
    "\n",
    "    # Search autoclass in path.\n",
    "    wrapper.search_autoclass_in_path()\n",
    "\n",
    "    # Create object to run AutoClass.\n",
    "    run = wrapper.Run()\n",
    "\n",
    "    # Prepare run script.\n",
    "    run.create_run_file()\n",
    "\n",
    "    # Run AutoClass.\n",
    "    run.run()\n",
    "        \n",
    "    timer = 0\n",
    "    step = 2\n",
    "    while not Path(runtimeDir + \"/autoclass-run-success\").exists():\n",
    "        timer += step\n",
    "        sys.stdout.write(\"\\r\")\n",
    "        sys.stdout.write(f\"Time: {timer} sec.\")\n",
    "        sys.stdout.flush()\n",
    "        time.sleep(step)\n",
    "        if Path(\"autoclass-run-failure\").exists():\n",
    "            print(\"error\")\n",
    "            break\n",
    "            \n",
    "    if Path(runtimeDir + \"/autoclass-run-success\").exists():\n",
    "        results = wrapper.Output()\n",
    "        results.extract_results()\n",
    "        results.aggregate_input_data()\n",
    "#         results.write_cdt()\n",
    "#         results.write_cdt(with_proba=True)\n",
    "#         results.write_class_stats()\n",
    "#         results.write_dendrogram()\n",
    "        result = pd.read_csv(runtimeDir + '/autoclass_out.tsv', encoding=\"utf-8\", header=0, sep='\\t', index_col=0)\n",
    "        label =  pd.read_csv('/home/chuongdv/Documents/SourceCode/MachineLearning/exp/data/features/label.tsv', encoding='utf-8', header=0, sep='\\t', index_col=0)\n",
    "\n",
    "        label['cluster'] = result['main-class']\n",
    "        label.to_csv('app.csv', index = True, header=True)\n",
    "\n",
    "\n",
    "        listH = []\n",
    "        listApp = []\n",
    "        listCluster = []\n",
    "        def fun(x):\n",
    "            listCluster.append(x['cluster'].values[0])\n",
    "            listH.append(x['label'].value_counts().max()/x.shape[0])\n",
    "            listApp.append(x['label'].value_counts().idxmax())\n",
    "\n",
    "\n",
    "        label.groupby('cluster').apply(fun)\n",
    "\n",
    "        H = sum(listH)/len(listH)\n",
    "        print(listH)\n",
    "        print(listApp)\n",
    "        print(listCluster)\n",
    "        print(H)\n",
    "\n",
    "        dict = {'Cluster': listCluster, 'App': listApp, 'H': listH}\n",
    "\n",
    "        saveResult = pd.DataFrame(dict)\n",
    "\n",
    "        saveResult.to_csv(runtimeDir + '/resultCal.csv', index = True, header=True)\n",
    "        \n",
    "        afterall.update({feature:H})\n",
    "        \n",
    "round1 = pd.DataFrame(list(afterall.items()), index= range(len(subfeatures)))\n",
    "round1.info()\n",
    "round1.head(1)\n",
    "round1.to_csv('/home/chuongdv/Documents/SourceCode/MachineLearning/exp/result/round1/Hp3.csv', index = True, header=True)"
   ]
  },
  {
   "cell_type": "code",
   "execution_count": null,
   "metadata": {},
   "outputs": [],
   "source": []
  }
 ],
 "metadata": {
  "kernelspec": {
   "display_name": "Python 3",
   "language": "python",
   "name": "python3"
  },
  "language_info": {
   "codemirror_mode": {
    "name": "ipython",
    "version": 3
   },
   "file_extension": ".py",
   "mimetype": "text/x-python",
   "name": "python",
   "nbconvert_exporter": "python",
   "pygments_lexer": "ipython3",
   "version": "3.7.6"
  }
 },
 "nbformat": 4,
 "nbformat_minor": 4
}
