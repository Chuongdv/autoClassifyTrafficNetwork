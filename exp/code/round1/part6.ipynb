{
 "cells": [
  {
   "cell_type": "code",
   "execution_count": 1,
   "metadata": {},
   "outputs": [
    {
     "name": "stderr",
     "output_type": "stream",
     "text": [
      "2020-04-27 15:22:23 INFO     Reading data file '/home/chuongdv/Documents/SourceCode/MachineLearning/exp/data/features/P25.tsv' as 'real location' with error 0.01\n",
      "2020-04-27 15:22:23 INFO     Detected encoding: ascii\n",
      "2020-04-27 15:22:23 INFO     Found 3200 rows and 2 columns\n",
      "2020-04-27 15:22:23 DEBUG    Checking column names\n",
      "2020-04-27 15:22:23 DEBUG    Index name 'index'\n",
      "2020-04-27 15:22:23 DEBUG    Column name 'P25'\n",
      "2020-04-27 15:22:23 INFO     Checking data format\n",
      "2020-04-27 15:22:23 INFO     Column 'P25'\n",
      "2020-04-27 15:22:23 INFO     count    3200.000000\n",
      "2020-04-27 15:22:23 INFO     mean        0.005350\n",
      "2020-04-27 15:22:23 INFO     std         0.830552\n",
      "2020-04-27 15:22:23 INFO     min        -6.721161\n",
      "2020-04-27 15:22:23 INFO     50%         0.084718\n",
      "2020-04-27 15:22:23 INFO     max        10.233867\n",
      "2020-04-27 15:22:23 INFO     ---\n",
      "2020-04-27 15:22:23 INFO     Final dataframe has 3200 lines and 2 columns\n",
      "2020-04-27 15:22:23 INFO     Searching for missing values\n",
      "2020-04-27 15:22:23 INFO     No missing values found\n",
      "2020-04-27 15:22:23 INFO     Writing autoclass.db2 file\n",
      "2020-04-27 15:22:23 INFO     If any, missing values will be encoded as '?'\n",
      "2020-04-27 15:22:23 DEBUG    Writing autoclass.tsv file [for later use]\n",
      "2020-04-27 15:22:23 INFO     Writing .hd2 file\n",
      "2020-04-27 15:22:23 INFO     Writing .model file\n",
      "2020-04-27 15:22:23 INFO     Writing .s-params file\n",
      "2020-04-27 15:22:23 INFO     Writing .r-params file\n",
      "2020-04-27 15:22:23 INFO     AutoClass C executable found in /home/chuongdv/Documents/SourceCode/MachineLearning/autoclass-c/autoclass\n",
      "2020-04-27 15:22:23 INFO     Writing run file\n",
      "2020-04-27 15:22:23 INFO     AutoClass C executable found in /home/chuongdv/Documents/SourceCode/MachineLearning/autoclass-c/autoclass\n",
      "2020-04-27 15:22:23 INFO     AutoClass C version: AUTOCLASS C (version 3.3.6unx)\n",
      "2020-04-27 15:22:23 INFO     Running clustering...\n"
     ]
    },
    {
     "name": "stdout",
     "output_type": "stream",
     "text": [
      "Time: 136 sec."
     ]
    },
    {
     "name": "stderr",
     "output_type": "stream",
     "text": [
      "2020-04-27 15:24:39 INFO     Extracting autoclass results\n",
      "2020-04-27 15:24:40 INFO     Found 3200 cases classified in 7 classes\n",
      "2020-04-27 15:24:44 INFO     Aggregating input data\n",
      "2020-04-27 15:24:44 INFO     Writing classes + probabilities .tsv file\n",
      "2020-04-27 15:24:44 INFO     Reading data file '/home/chuongdv/Documents/SourceCode/MachineLearning/exp/data/features/P26.tsv' as 'real location' with error 0.01\n",
      "2020-04-27 15:24:44 INFO     Detected encoding: ascii\n",
      "2020-04-27 15:24:44 INFO     Found 3200 rows and 2 columns\n",
      "2020-04-27 15:24:44 DEBUG    Checking column names\n",
      "2020-04-27 15:24:44 DEBUG    Index name 'index'\n",
      "2020-04-27 15:24:44 DEBUG    Column name 'P26'\n",
      "2020-04-27 15:24:44 INFO     Checking data format\n",
      "2020-04-27 15:24:44 INFO     Column 'P26'\n",
      "2020-04-27 15:24:44 INFO     count    3200.000000\n",
      "2020-04-27 15:24:44 INFO     mean        0.042552\n",
      "2020-04-27 15:24:44 INFO     std         0.727256\n",
      "2020-04-27 15:24:44 INFO     min        -7.862112\n",
      "2020-04-27 15:24:44 INFO     50%         0.024824\n",
      "2020-04-27 15:24:44 INFO     max         6.952796\n",
      "2020-04-27 15:24:44 INFO     ---\n",
      "2020-04-27 15:24:44 INFO     Final dataframe has 3200 lines and 2 columns\n",
      "2020-04-27 15:24:44 INFO     Searching for missing values\n",
      "2020-04-27 15:24:44 INFO     No missing values found\n",
      "2020-04-27 15:24:44 INFO     Writing autoclass.db2 file\n",
      "2020-04-27 15:24:44 INFO     If any, missing values will be encoded as '?'\n",
      "2020-04-27 15:24:44 DEBUG    Writing autoclass.tsv file [for later use]\n",
      "2020-04-27 15:24:44 INFO     Writing .hd2 file\n",
      "2020-04-27 15:24:44 INFO     Writing .model file\n",
      "2020-04-27 15:24:44 INFO     Writing .s-params file\n",
      "2020-04-27 15:24:44 INFO     Writing .r-params file\n"
     ]
    },
    {
     "name": "stdout",
     "output_type": "stream",
     "text": [
      "[0.051798561151079135, 0.09546769527483125, 0.05801526717557252, 0.17647058823529413, 0.3125, 0.10152284263959391, 0.11392405063291139]\n",
      "['INSTAGRAM', 'IP_ICMP', 'HTTP', 'DNS', 'DROPBOX', 'APPLE', 'HTTP_CONNECT']\n",
      "[1, 2, 3, 4, 5, 6, 7]\n",
      "0.1299570007298975\n"
     ]
    },
    {
     "name": "stderr",
     "output_type": "stream",
     "text": [
      "2020-04-27 15:24:45 INFO     AutoClass C executable found in /home/chuongdv/Documents/SourceCode/MachineLearning/autoclass-c/autoclass\n",
      "2020-04-27 15:24:45 INFO     Writing run file\n",
      "2020-04-27 15:24:45 INFO     AutoClass C executable found in /home/chuongdv/Documents/SourceCode/MachineLearning/autoclass-c/autoclass\n",
      "2020-04-27 15:24:45 INFO     AutoClass C version: AUTOCLASS C (version 3.3.6unx)\n",
      "2020-04-27 15:24:45 INFO     Running clustering...\n"
     ]
    },
    {
     "name": "stdout",
     "output_type": "stream",
     "text": [
      "Time: 98 sec."
     ]
    },
    {
     "name": "stderr",
     "output_type": "stream",
     "text": [
      "2020-04-27 15:26:23 INFO     Extracting autoclass results\n",
      "2020-04-27 15:26:23 INFO     Found 3200 cases classified in 5 classes\n",
      "2020-04-27 15:26:27 INFO     Aggregating input data\n",
      "2020-04-27 15:26:27 INFO     Writing classes + probabilities .tsv file\n",
      "2020-04-27 15:26:27 INFO     Reading data file '/home/chuongdv/Documents/SourceCode/MachineLearning/exp/data/features/P27.tsv' as 'real location' with error 0.01\n",
      "2020-04-27 15:26:27 INFO     Detected encoding: ascii\n",
      "2020-04-27 15:26:27 INFO     Found 3200 rows and 2 columns\n",
      "2020-04-27 15:26:27 DEBUG    Checking column names\n",
      "2020-04-27 15:26:27 DEBUG    Index name 'index'\n",
      "2020-04-27 15:26:27 DEBUG    Column name 'P27'\n",
      "2020-04-27 15:26:27 INFO     Checking data format\n",
      "2020-04-27 15:26:27 INFO     Column 'P27'\n",
      "2020-04-27 15:26:27 INFO     count    3200.000000\n",
      "2020-04-27 15:26:27 INFO     mean       -0.003554\n",
      "2020-04-27 15:26:27 INFO     std         0.571037\n",
      "2020-04-27 15:26:27 INFO     min        -3.774033\n",
      "2020-04-27 15:26:27 INFO     50%        -0.019626\n",
      "2020-04-27 15:26:27 INFO     max        22.773951\n",
      "2020-04-27 15:26:27 INFO     ---\n",
      "2020-04-27 15:26:27 INFO     Final dataframe has 3200 lines and 2 columns\n",
      "2020-04-27 15:26:27 INFO     Searching for missing values\n",
      "2020-04-27 15:26:27 INFO     No missing values found\n",
      "2020-04-27 15:26:27 INFO     Writing autoclass.db2 file\n",
      "2020-04-27 15:26:27 INFO     If any, missing values will be encoded as '?'\n",
      "2020-04-27 15:26:27 DEBUG    Writing autoclass.tsv file [for later use]\n",
      "2020-04-27 15:26:27 INFO     Writing .hd2 file\n",
      "2020-04-27 15:26:27 INFO     Writing .model file\n",
      "2020-04-27 15:26:27 INFO     Writing .s-params file\n",
      "2020-04-27 15:26:27 INFO     Writing .r-params file\n"
     ]
    },
    {
     "name": "stdout",
     "output_type": "stream",
     "text": [
      "[0.06519453207150368, 0.12595419847328243, 0.05390070921985816, 0.09595959595959595, 0.3780487804878049]\n",
      "['DROPBOX', 'IP_ICMP', 'APPLE_ICLOUD', 'CONTENT_FLASH', 'DNS']\n",
      "[1, 2, 3, 4, 5]\n",
      "0.143811563242409\n"
     ]
    },
    {
     "name": "stderr",
     "output_type": "stream",
     "text": [
      "2020-04-27 15:26:28 INFO     AutoClass C executable found in /home/chuongdv/Documents/SourceCode/MachineLearning/autoclass-c/autoclass\n",
      "2020-04-27 15:26:28 INFO     Writing run file\n",
      "2020-04-27 15:26:28 INFO     AutoClass C executable found in /home/chuongdv/Documents/SourceCode/MachineLearning/autoclass-c/autoclass\n",
      "2020-04-27 15:26:28 INFO     AutoClass C version: AUTOCLASS C (version 3.3.6unx)\n",
      "2020-04-27 15:26:28 INFO     Running clustering...\n"
     ]
    },
    {
     "name": "stdout",
     "output_type": "stream",
     "text": [
      "Time: 88 sec."
     ]
    },
    {
     "name": "stderr",
     "output_type": "stream",
     "text": [
      "2020-04-27 15:27:56 INFO     Extracting autoclass results\n",
      "2020-04-27 15:27:56 INFO     Found 3200 cases classified in 4 classes\n",
      "2020-04-27 15:28:00 INFO     Aggregating input data\n",
      "2020-04-27 15:28:00 INFO     Writing classes + probabilities .tsv file\n",
      "2020-04-27 15:28:00 INFO     Reading data file '/home/chuongdv/Documents/SourceCode/MachineLearning/exp/data/features/P28.tsv' as 'real location' with error 0.01\n",
      "2020-04-27 15:28:00 INFO     Detected encoding: ascii\n",
      "2020-04-27 15:28:00 INFO     Found 3200 rows and 2 columns\n",
      "2020-04-27 15:28:00 DEBUG    Checking column names\n",
      "2020-04-27 15:28:00 DEBUG    Index name 'index'\n",
      "2020-04-27 15:28:00 DEBUG    Column name 'P28'\n",
      "2020-04-27 15:28:00 INFO     Checking data format\n",
      "2020-04-27 15:28:00 INFO     Column 'P28'\n",
      "2020-04-27 15:28:00 INFO     count    3200.000000\n",
      "2020-04-27 15:28:00 INFO     mean        0.036313\n",
      "2020-04-27 15:28:00 INFO     std         0.689318\n",
      "2020-04-27 15:28:00 INFO     min        -7.696687\n",
      "2020-04-27 15:28:00 INFO     50%         0.009340\n",
      "2020-04-27 15:28:00 INFO     max         9.615272\n",
      "2020-04-27 15:28:00 INFO     ---\n",
      "2020-04-27 15:28:00 INFO     Final dataframe has 3200 lines and 2 columns\n",
      "2020-04-27 15:28:00 INFO     Searching for missing values\n",
      "2020-04-27 15:28:00 INFO     No missing values found\n",
      "2020-04-27 15:28:00 INFO     Writing autoclass.db2 file\n",
      "2020-04-27 15:28:00 INFO     If any, missing values will be encoded as '?'\n",
      "2020-04-27 15:28:00 DEBUG    Writing autoclass.tsv file [for later use]\n",
      "2020-04-27 15:28:00 INFO     Writing .hd2 file\n",
      "2020-04-27 15:28:00 INFO     Writing .model file\n",
      "2020-04-27 15:28:00 INFO     Writing .s-params file\n",
      "2020-04-27 15:28:00 INFO     Writing .r-params file\n"
     ]
    },
    {
     "name": "stdout",
     "output_type": "stream",
     "text": [
      "[0.046522556390977444, 0.06022408963585434, 0.15015015015015015, 0.32]\n",
      "['IP_ICMP', 'MS_ONE_DRIVE', 'DNS', 'OFFICE_365']\n",
      "[1, 2, 3, 4]\n",
      "0.1442241990442455\n"
     ]
    },
    {
     "name": "stderr",
     "output_type": "stream",
     "text": [
      "2020-04-27 15:28:00 INFO     AutoClass C executable found in /home/chuongdv/Documents/SourceCode/MachineLearning/autoclass-c/autoclass\n",
      "2020-04-27 15:28:00 INFO     Writing run file\n",
      "2020-04-27 15:28:00 INFO     AutoClass C executable found in /home/chuongdv/Documents/SourceCode/MachineLearning/autoclass-c/autoclass\n",
      "2020-04-27 15:28:00 INFO     AutoClass C version: AUTOCLASS C (version 3.3.6unx)\n",
      "2020-04-27 15:28:00 INFO     Running clustering...\n"
     ]
    },
    {
     "name": "stdout",
     "output_type": "stream",
     "text": [
      "Time: 158 sec."
     ]
    },
    {
     "name": "stderr",
     "output_type": "stream",
     "text": [
      "2020-04-27 15:30:38 INFO     Extracting autoclass results\n",
      "2020-04-27 15:30:38 INFO     Found 3200 cases classified in 5 classes\n",
      "2020-04-27 15:30:43 INFO     Aggregating input data\n",
      "2020-04-27 15:30:43 INFO     Writing classes + probabilities .tsv file\n",
      "2020-04-27 15:30:43 INFO     Reading data file '/home/chuongdv/Documents/SourceCode/MachineLearning/exp/data/features/P29.tsv' as 'real location' with error 0.01\n",
      "2020-04-27 15:30:43 INFO     Detected encoding: ascii\n",
      "2020-04-27 15:30:43 INFO     Found 3200 rows and 2 columns\n",
      "2020-04-27 15:30:43 DEBUG    Checking column names\n",
      "2020-04-27 15:30:43 DEBUG    Index name 'index'\n",
      "2020-04-27 15:30:43 DEBUG    Column name 'P29'\n",
      "2020-04-27 15:30:43 INFO     Checking data format\n",
      "2020-04-27 15:30:43 INFO     Column 'P29'\n",
      "2020-04-27 15:30:43 INFO     count    3200.000000\n",
      "2020-04-27 15:30:43 INFO     mean       -0.059598\n",
      "2020-04-27 15:30:43 INFO     std         0.658843\n",
      "2020-04-27 15:30:43 INFO     min        -7.017946\n",
      "2020-04-27 15:30:43 INFO     50%        -0.008788\n",
      "2020-04-27 15:30:43 INFO     max         5.699894\n",
      "2020-04-27 15:30:43 INFO     ---\n",
      "2020-04-27 15:30:43 INFO     Final dataframe has 3200 lines and 2 columns\n",
      "2020-04-27 15:30:43 INFO     Searching for missing values\n",
      "2020-04-27 15:30:43 INFO     No missing values found\n",
      "2020-04-27 15:30:43 INFO     Writing autoclass.db2 file\n",
      "2020-04-27 15:30:43 INFO     If any, missing values will be encoded as '?'\n",
      "2020-04-27 15:30:43 DEBUG    Writing autoclass.tsv file [for later use]\n",
      "2020-04-27 15:30:43 INFO     Writing .hd2 file\n",
      "2020-04-27 15:30:43 INFO     Writing .model file\n",
      "2020-04-27 15:30:43 INFO     Writing .s-params file\n",
      "2020-04-27 15:30:43 INFO     Writing .r-params file\n"
     ]
    },
    {
     "name": "stdout",
     "output_type": "stream",
     "text": [
      "[0.054458408138839016, 0.10599078341013825, 0.05578512396694215, 0.27049180327868855, 0.21428571428571427]\n",
      "['CONTENT_FLASH', 'DNS', 'TWITTER', 'IP_ICMP', 'OFFICE_365']\n",
      "[1, 2, 3, 4, 5]\n",
      "0.14020236661606444\n"
     ]
    },
    {
     "name": "stderr",
     "output_type": "stream",
     "text": [
      "2020-04-27 15:30:43 INFO     AutoClass C executable found in /home/chuongdv/Documents/SourceCode/MachineLearning/autoclass-c/autoclass\n",
      "2020-04-27 15:30:43 INFO     Writing run file\n",
      "2020-04-27 15:30:43 INFO     AutoClass C executable found in /home/chuongdv/Documents/SourceCode/MachineLearning/autoclass-c/autoclass\n",
      "2020-04-27 15:30:43 INFO     AutoClass C version: AUTOCLASS C (version 3.3.6unx)\n",
      "2020-04-27 15:30:43 INFO     Running clustering...\n"
     ]
    },
    {
     "name": "stdout",
     "output_type": "stream",
     "text": [
      "Time: 146 sec."
     ]
    },
    {
     "name": "stderr",
     "output_type": "stream",
     "text": [
      "2020-04-27 15:33:09 INFO     Extracting autoclass results\n",
      "2020-04-27 15:33:09 INFO     Found 3200 cases classified in 7 classes\n",
      "2020-04-27 15:33:14 INFO     Aggregating input data\n",
      "2020-04-27 15:33:14 INFO     Writing classes + probabilities .tsv file\n"
     ]
    },
    {
     "name": "stdout",
     "output_type": "stream",
     "text": [
      "[0.05832147937411095, 0.06420021762785637, 0.11944091486658195, 0.11160714285714286, 0.06295399515738499, 0.09782608695652174, 0.7580645161290323]\n",
      "['DROPBOX', 'APPLE_ICLOUD', 'IP_ICMP', 'CLOUDFLARE', 'EBAY', 'WHATSAPP', 'DNS']\n",
      "[1, 2, 3, 4, 5, 6, 7]\n",
      "0.18177347899551874\n",
      "<class 'pandas.core.frame.DataFrame'>\n",
      "RangeIndex: 5 entries, 0 to 4\n",
      "Data columns (total 2 columns):\n",
      " #   Column  Non-Null Count  Dtype  \n",
      "---  ------  --------------  -----  \n",
      " 0   0       5 non-null      object \n",
      " 1   1       5 non-null      float64\n",
      "dtypes: float64(1), object(1)\n",
      "memory usage: 208.0+ bytes\n"
     ]
    }
   ],
   "source": [
    "from pathlib import Path\n",
    "import sys\n",
    "import time\n",
    "import threading\n",
    "\n",
    "import matplotlib\n",
    "import matplotlib.pyplot as plt\n",
    "from matplotlib.lines import Line2D\n",
    "import numpy as np\n",
    "import pandas as pd\n",
    "%matplotlib inline\n",
    "import autoclasswrapper as wrapper\n",
    "import os \n",
    "\n",
    "afterall = {}\n",
    "subfeatures = ['P25', 'P26', 'P27', 'P28', 'P29']\n",
    "os.environ['PATH'] += \":/home/chuongdv/Documents/SourceCode/MachineLearning/autoclass-c\"\n",
    "#!touch /home/chuongdv/Documents/SourceCode/MachineLearning/exp/result/autoclass.r-params \n",
    "#!echo \"xref_class_report_att_list = 0, 1 \\nreport_mode = \\\"data\\\" \\ncomment_data_headers_p = true \" >> /home/chuongdv/Documents/SourceCode/MachineLearning/exp/result/autoclass.r-params \n",
    "for feature in subfeatures:\n",
    "    runtimeDir = \"/home/chuongdv/Documents/SourceCode/MachineLearning/exp/result/round1/\" + feature\n",
    "    if not Path(runtimeDir).exists():\n",
    "        os.mkdir(runtimeDir)\n",
    "    os.chdir(runtimeDir)\n",
    "    \n",
    "            # Create object to prepare dataset.\n",
    "    clust = wrapper.Input()\n",
    "\n",
    "    # Load datasets from tsv files.\n",
    "    pathData = \"/home/chuongdv/Documents/SourceCode/MachineLearning/exp/data/features/\" + feature + \".tsv\"\n",
    "    clust.add_input_data(pathData, \"real location\")\n",
    "    #clust.add_input_data(\"/home/chuongdv/Documents/SourceCode/MachineLearning/exp/data/features/P2.tsv\", \"real location\")\n",
    "    \n",
    "    # Prepare input data:\n",
    "    # - create a final dataframe\n",
    "    # - merge datasets if multiple inputs\n",
    "    clust.prepare_input_data()\n",
    "\n",
    "    # Create files needed by AutoClass.\n",
    "    clust.create_db2_file()\n",
    "    clust.create_hd2_file()\n",
    "    clust.create_model_file()\n",
    "    clust.create_sparams_file(max_duration = 0)\n",
    "    clust.create_rparams_file()\n",
    "    !rm autoclass.r-params\n",
    "    !cp /home/chuongdv/Documents/SourceCode/MachineLearning/exp/result/round1/autoclass.r-params .\n",
    "    \n",
    "    !rm -f autoclass-run-* *.results-bin\n",
    "\n",
    "\n",
    "    # Search autoclass in path.\n",
    "    wrapper.search_autoclass_in_path()\n",
    "\n",
    "    # Create object to run AutoClass.\n",
    "    run = wrapper.Run()\n",
    "\n",
    "    # Prepare run script.\n",
    "    run.create_run_file()\n",
    "\n",
    "    # Run AutoClass.\n",
    "    run.run()\n",
    "        \n",
    "    timer = 0\n",
    "    step = 2\n",
    "    while not Path(runtimeDir + \"/autoclass-run-success\").exists():\n",
    "        timer += step\n",
    "        sys.stdout.write(\"\\r\")\n",
    "        sys.stdout.write(f\"Time: {timer} sec.\")\n",
    "        sys.stdout.flush()\n",
    "        time.sleep(step)\n",
    "        if Path(\"autoclass-run-failure\").exists():\n",
    "            print(\"error\")\n",
    "            break\n",
    "            \n",
    "    if Path(runtimeDir + \"/autoclass-run-success\").exists():\n",
    "        results = wrapper.Output()\n",
    "        results.extract_results()\n",
    "        results.aggregate_input_data()\n",
    "#         results.write_cdt()\n",
    "#         results.write_cdt(with_proba=True)\n",
    "#         results.write_class_stats()\n",
    "#         results.write_dendrogram()\n",
    "        result = pd.read_csv(runtimeDir + '/autoclass_out.tsv', encoding=\"utf-8\", header=0, sep='\\t', index_col=0)\n",
    "        label =  pd.read_csv('/home/chuongdv/Documents/SourceCode/MachineLearning/exp/data/features/label.tsv', encoding='utf-8', header=0, sep='\\t', index_col=0)\n",
    "\n",
    "        label['cluster'] = result['main-class']\n",
    "        label.to_csv('app.csv', index = True, header=True)\n",
    "\n",
    "\n",
    "        listH = []\n",
    "        listApp = []\n",
    "        listCluster = []\n",
    "        def fun(x):\n",
    "            listCluster.append(x['cluster'].values[0])\n",
    "            listH.append(x['label'].value_counts().max()/x.shape[0])\n",
    "            listApp.append(x['label'].value_counts().idxmax())\n",
    "\n",
    "\n",
    "        label.groupby('cluster').apply(fun)\n",
    "\n",
    "        H = sum(listH)/len(listH)\n",
    "        print(listH)\n",
    "        print(listApp)\n",
    "        print(listCluster)\n",
    "        print(H)\n",
    "\n",
    "        dict = {'Cluster': listCluster, 'App': listApp, 'H': listH}\n",
    "\n",
    "        saveResult = pd.DataFrame(dict)\n",
    "\n",
    "        saveResult.to_csv(runtimeDir + '/resultCal.csv', index = True, header=True)\n",
    "        \n",
    "        afterall.update({feature:H})\n",
    "        \n",
    "round1 = pd.DataFrame(list(afterall.items()), index= range(len(subfeatures)))\n",
    "round1.info()\n",
    "round1.head(1)\n",
    "round1.to_csv('/home/chuongdv/Documents/SourceCode/MachineLearning/exp/result/round1/Hp6.csv', index = True, header=True)"
   ]
  },
  {
   "cell_type": "code",
   "execution_count": null,
   "metadata": {},
   "outputs": [],
   "source": []
  }
 ],
 "metadata": {
  "kernelspec": {
   "display_name": "Python 3",
   "language": "python",
   "name": "python3"
  },
  "language_info": {
   "codemirror_mode": {
    "name": "ipython",
    "version": 3
   },
   "file_extension": ".py",
   "mimetype": "text/x-python",
   "name": "python",
   "nbconvert_exporter": "python",
   "pygments_lexer": "ipython3",
   "version": "3.7.6"
  }
 },
 "nbformat": 4,
 "nbformat_minor": 4
}
