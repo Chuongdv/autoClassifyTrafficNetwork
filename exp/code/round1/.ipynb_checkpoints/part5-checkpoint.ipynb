{
 "cells": [
  {
   "cell_type": "code",
   "execution_count": 1,
   "metadata": {},
   "outputs": [
    {
     "name": "stderr",
     "output_type": "stream",
     "text": [
      "2020-04-27 15:22:19 INFO     Reading data file '/home/chuongdv/Documents/SourceCode/MachineLearning/exp/data/features/P20.tsv' as 'real location' with error 0.01\n",
      "2020-04-27 15:22:19 INFO     Detected encoding: ascii\n",
      "2020-04-27 15:22:19 INFO     Found 3200 rows and 2 columns\n",
      "2020-04-27 15:22:19 DEBUG    Checking column names\n",
      "2020-04-27 15:22:19 DEBUG    Index name 'index'\n",
      "2020-04-27 15:22:19 DEBUG    Column name 'P20'\n",
      "2020-04-27 15:22:19 INFO     Checking data format\n",
      "2020-04-27 15:22:19 INFO     Column 'P20'\n",
      "2020-04-27 15:22:19 INFO     count    3200.000000\n",
      "2020-04-27 15:22:19 INFO     mean        0.061129\n",
      "2020-04-27 15:22:19 INFO     std         1.230634\n",
      "2020-04-27 15:22:19 INFO     min       -23.639782\n",
      "2020-04-27 15:22:19 INFO     50%         0.037193\n",
      "2020-04-27 15:22:19 INFO     max        15.554782\n",
      "2020-04-27 15:22:19 INFO     ---\n",
      "2020-04-27 15:22:19 INFO     Final dataframe has 3200 lines and 2 columns\n",
      "2020-04-27 15:22:19 INFO     Searching for missing values\n",
      "2020-04-27 15:22:19 INFO     No missing values found\n",
      "2020-04-27 15:22:19 INFO     Writing autoclass.db2 file\n",
      "2020-04-27 15:22:19 INFO     If any, missing values will be encoded as '?'\n",
      "2020-04-27 15:22:19 DEBUG    Writing autoclass.tsv file [for later use]\n",
      "2020-04-27 15:22:19 INFO     Writing .hd2 file\n",
      "2020-04-27 15:22:19 INFO     Writing .model file\n",
      "2020-04-27 15:22:19 INFO     Writing .s-params file\n",
      "2020-04-27 15:22:19 INFO     Writing .r-params file\n",
      "2020-04-27 15:22:20 INFO     AutoClass C executable found in /home/chuongdv/Documents/SourceCode/MachineLearning/autoclass-c/autoclass\n",
      "2020-04-27 15:22:20 INFO     Writing run file\n",
      "2020-04-27 15:22:20 INFO     AutoClass C executable found in /home/chuongdv/Documents/SourceCode/MachineLearning/autoclass-c/autoclass\n",
      "2020-04-27 15:22:20 INFO     AutoClass C version: AUTOCLASS C (version 3.3.6unx)\n",
      "2020-04-27 15:22:20 INFO     Running clustering...\n"
     ]
    },
    {
     "name": "stdout",
     "output_type": "stream",
     "text": [
      "Time: 210 sec."
     ]
    },
    {
     "name": "stderr",
     "output_type": "stream",
     "text": [
      "2020-04-27 15:25:50 INFO     Extracting autoclass results\n",
      "2020-04-27 15:25:50 INFO     Found 3200 cases classified in 9 classes\n",
      "2020-04-27 15:25:54 INFO     Aggregating input data\n",
      "2020-04-27 15:25:54 INFO     Writing classes + probabilities .tsv file\n",
      "2020-04-27 15:25:55 INFO     Reading data file '/home/chuongdv/Documents/SourceCode/MachineLearning/exp/data/features/P21.tsv' as 'real location' with error 0.01\n",
      "2020-04-27 15:25:55 INFO     Detected encoding: ascii\n",
      "2020-04-27 15:25:55 INFO     Found 3200 rows and 2 columns\n",
      "2020-04-27 15:25:55 DEBUG    Checking column names\n",
      "2020-04-27 15:25:55 DEBUG    Index name 'index'\n",
      "2020-04-27 15:25:55 DEBUG    Column name 'P21'\n",
      "2020-04-27 15:25:55 INFO     Checking data format\n",
      "2020-04-27 15:25:55 INFO     Column 'P21'\n",
      "2020-04-27 15:25:55 INFO     count    3200.000000\n",
      "2020-04-27 15:25:55 INFO     mean       -0.005945\n",
      "2020-04-27 15:25:55 INFO     std         0.945268\n",
      "2020-04-27 15:25:55 INFO     min        -3.465223\n",
      "2020-04-27 15:25:55 INFO     50%         0.228134\n",
      "2020-04-27 15:25:55 INFO     max         7.773356\n",
      "2020-04-27 15:25:55 INFO     ---\n",
      "2020-04-27 15:25:55 INFO     Final dataframe has 3200 lines and 2 columns\n",
      "2020-04-27 15:25:55 INFO     Searching for missing values\n",
      "2020-04-27 15:25:55 INFO     No missing values found\n",
      "2020-04-27 15:25:55 INFO     Writing autoclass.db2 file\n",
      "2020-04-27 15:25:55 INFO     If any, missing values will be encoded as '?'\n",
      "2020-04-27 15:25:55 DEBUG    Writing autoclass.tsv file [for later use]\n",
      "2020-04-27 15:25:55 INFO     Writing .hd2 file\n",
      "2020-04-27 15:25:55 INFO     Writing .model file\n",
      "2020-04-27 15:25:55 INFO     Writing .s-params file\n",
      "2020-04-27 15:25:55 INFO     Writing .r-params file\n"
     ]
    },
    {
     "name": "stdout",
     "output_type": "stream",
     "text": [
      "[0.059588299024918745, 0.091324200913242, 0.07494646680942184, 0.19811320754716982, 0.16877637130801687, 0.0975609756097561, 0.5380434782608695, 0.12121212121212122, 0.26666666666666666]\n",
      "['HTTP_CONNECT', 'CONTENT_FLASH', 'APPLE_ICLOUD', 'DROPBOX', 'DNS', 'WHATSAPP', 'IP_ICMP', 'INSTAGRAM', 'DNS']\n",
      "[1, 2, 3, 4, 5, 6, 7, 8, 9]\n",
      "0.17958130970579805\n"
     ]
    },
    {
     "name": "stderr",
     "output_type": "stream",
     "text": [
      "2020-04-27 15:25:55 INFO     AutoClass C executable found in /home/chuongdv/Documents/SourceCode/MachineLearning/autoclass-c/autoclass\n",
      "2020-04-27 15:25:55 INFO     Writing run file\n",
      "2020-04-27 15:25:55 INFO     AutoClass C executable found in /home/chuongdv/Documents/SourceCode/MachineLearning/autoclass-c/autoclass\n",
      "2020-04-27 15:25:55 INFO     AutoClass C version: AUTOCLASS C (version 3.3.6unx)\n",
      "2020-04-27 15:25:55 INFO     Running clustering...\n"
     ]
    },
    {
     "name": "stdout",
     "output_type": "stream",
     "text": [
      "Time: 204 sec."
     ]
    },
    {
     "name": "stderr",
     "output_type": "stream",
     "text": [
      "2020-04-27 15:29:19 INFO     Extracting autoclass results\n",
      "2020-04-27 15:29:19 INFO     Found 3200 cases classified in 10 classes\n",
      "2020-04-27 15:29:24 INFO     Aggregating input data\n",
      "2020-04-27 15:29:24 INFO     Writing classes + probabilities .tsv file\n",
      "2020-04-27 15:29:24 INFO     Reading data file '/home/chuongdv/Documents/SourceCode/MachineLearning/exp/data/features/P22.tsv' as 'real location' with error 0.01\n",
      "2020-04-27 15:29:24 INFO     Detected encoding: ascii\n",
      "2020-04-27 15:29:24 INFO     Found 3200 rows and 2 columns\n",
      "2020-04-27 15:29:24 DEBUG    Checking column names\n",
      "2020-04-27 15:29:24 DEBUG    Index name 'index'\n",
      "2020-04-27 15:29:24 DEBUG    Column name 'P22'\n",
      "2020-04-27 15:29:24 INFO     Checking data format\n",
      "2020-04-27 15:29:24 INFO     Column 'P22'\n",
      "2020-04-27 15:29:24 INFO     count    3200.000000\n",
      "2020-04-27 15:29:24 INFO     mean       -0.023030\n",
      "2020-04-27 15:29:24 INFO     std         0.977295\n",
      "2020-04-27 15:29:24 INFO     min        -8.773719\n",
      "2020-04-27 15:29:24 INFO     50%        -0.149670\n",
      "2020-04-27 15:29:24 INFO     max         6.165487\n",
      "2020-04-27 15:29:24 INFO     ---\n",
      "2020-04-27 15:29:24 INFO     Final dataframe has 3200 lines and 2 columns\n",
      "2020-04-27 15:29:24 INFO     Searching for missing values\n",
      "2020-04-27 15:29:24 INFO     No missing values found\n",
      "2020-04-27 15:29:24 INFO     Writing autoclass.db2 file\n",
      "2020-04-27 15:29:24 INFO     If any, missing values will be encoded as '?'\n",
      "2020-04-27 15:29:24 DEBUG    Writing autoclass.tsv file [for later use]\n",
      "2020-04-27 15:29:24 INFO     Writing .hd2 file\n",
      "2020-04-27 15:29:24 INFO     Writing .model file\n",
      "2020-04-27 15:29:24 INFO     Writing .s-params file\n",
      "2020-04-27 15:29:24 INFO     Writing .r-params file\n"
     ]
    },
    {
     "name": "stdout",
     "output_type": "stream",
     "text": [
      "[0.0730050933786078, 0.07777777777777778, 0.06756756756756757, 0.0823327615780446, 0.13321492007104796, 0.12903225806451613, 0.9801980198019802, 0.16, 0.11818181818181818, 0.6190476190476191]\n",
      "['MS_ONE_DRIVE', 'OFFICE_365', 'HTTP_CONNECT', 'CLOUDFLARE', 'CONTENT_FLASH', 'INSTAGRAM', 'IP_ICMP', 'DNS', 'DROPBOX', 'DNS']\n",
      "[1, 2, 3, 4, 5, 6, 7, 8, 9, 10]\n",
      "0.2440357835468979\n"
     ]
    },
    {
     "name": "stderr",
     "output_type": "stream",
     "text": [
      "2020-04-27 15:29:24 INFO     AutoClass C executable found in /home/chuongdv/Documents/SourceCode/MachineLearning/autoclass-c/autoclass\n",
      "2020-04-27 15:29:24 INFO     Writing run file\n",
      "2020-04-27 15:29:24 INFO     AutoClass C executable found in /home/chuongdv/Documents/SourceCode/MachineLearning/autoclass-c/autoclass\n",
      "2020-04-27 15:29:24 INFO     AutoClass C version: AUTOCLASS C (version 3.3.6unx)\n",
      "2020-04-27 15:29:24 INFO     Running clustering...\n"
     ]
    },
    {
     "name": "stdout",
     "output_type": "stream",
     "text": [
      "Time: 232 sec."
     ]
    },
    {
     "name": "stderr",
     "output_type": "stream",
     "text": [
      "2020-04-27 15:33:17 INFO     Extracting autoclass results\n",
      "2020-04-27 15:33:17 INFO     Found 3200 cases classified in 10 classes\n",
      "2020-04-27 15:33:21 INFO     Aggregating input data\n",
      "2020-04-27 15:33:21 INFO     Writing classes + probabilities .tsv file\n",
      "2020-04-27 15:33:21 INFO     Reading data file '/home/chuongdv/Documents/SourceCode/MachineLearning/exp/data/features/P23.tsv' as 'real location' with error 0.01\n",
      "2020-04-27 15:33:21 INFO     Detected encoding: ascii\n",
      "2020-04-27 15:33:21 INFO     Found 3200 rows and 2 columns\n",
      "2020-04-27 15:33:21 DEBUG    Checking column names\n",
      "2020-04-27 15:33:21 DEBUG    Index name 'index'\n",
      "2020-04-27 15:33:21 DEBUG    Column name 'P23'\n",
      "2020-04-27 15:33:21 INFO     Checking data format\n",
      "2020-04-27 15:33:21 INFO     Column 'P23'\n",
      "2020-04-27 15:33:21 INFO     count    3200.000000\n",
      "2020-04-27 15:33:21 INFO     mean        0.038673\n",
      "2020-04-27 15:33:21 INFO     std         0.855334\n",
      "2020-04-27 15:33:21 INFO     min        -6.287808\n",
      "2020-04-27 15:33:21 INFO     50%        -0.082183\n",
      "2020-04-27 15:33:21 INFO     max         5.136199\n",
      "2020-04-27 15:33:21 INFO     ---\n",
      "2020-04-27 15:33:21 INFO     Final dataframe has 3200 lines and 2 columns\n",
      "2020-04-27 15:33:21 INFO     Searching for missing values\n",
      "2020-04-27 15:33:21 INFO     No missing values found\n",
      "2020-04-27 15:33:21 INFO     Writing autoclass.db2 file\n",
      "2020-04-27 15:33:21 INFO     If any, missing values will be encoded as '?'\n",
      "2020-04-27 15:33:21 DEBUG    Writing autoclass.tsv file [for later use]\n",
      "2020-04-27 15:33:21 INFO     Writing .hd2 file\n",
      "2020-04-27 15:33:21 INFO     Writing .model file\n",
      "2020-04-27 15:33:21 INFO     Writing .s-params file\n",
      "2020-04-27 15:33:21 INFO     Writing .r-params file\n"
     ]
    },
    {
     "name": "stdout",
     "output_type": "stream",
     "text": [
      "[0.07034220532319392, 0.05349182763744428, 0.12519809825673534, 0.0851063829787234, 0.12240184757505773, 0.10218978102189781, 0.38461538461538464, 0.11428571428571428, 0.7443609022556391, 0.19444444444444445]\n",
      "['SPOTIFY', 'CLOUDFLARE', 'CONTENT_FLASH', 'YOUTUBE', 'DNS', 'OFFICE_365', 'DROPBOX', 'MS_ONE_DRIVE', 'IP_ICMP', 'APPLE']\n",
      "[1, 2, 3, 4, 5, 6, 7, 8, 9, 10]\n",
      "0.1996436588394235\n"
     ]
    },
    {
     "name": "stderr",
     "output_type": "stream",
     "text": [
      "2020-04-27 15:33:22 INFO     AutoClass C executable found in /home/chuongdv/Documents/SourceCode/MachineLearning/autoclass-c/autoclass\n",
      "2020-04-27 15:33:22 INFO     Writing run file\n",
      "2020-04-27 15:33:22 INFO     AutoClass C executable found in /home/chuongdv/Documents/SourceCode/MachineLearning/autoclass-c/autoclass\n",
      "2020-04-27 15:33:22 INFO     AutoClass C version: AUTOCLASS C (version 3.3.6unx)\n",
      "2020-04-27 15:33:22 INFO     Running clustering...\n"
     ]
    },
    {
     "name": "stdout",
     "output_type": "stream",
     "text": [
      "Time: 182 sec."
     ]
    },
    {
     "name": "stderr",
     "output_type": "stream",
     "text": [
      "2020-04-27 15:36:24 INFO     Extracting autoclass results\n",
      "2020-04-27 15:36:24 INFO     Found 3200 cases classified in 8 classes\n",
      "2020-04-27 15:36:29 INFO     Aggregating input data\n",
      "2020-04-27 15:36:29 INFO     Writing classes + probabilities .tsv file\n",
      "2020-04-27 15:36:29 INFO     Reading data file '/home/chuongdv/Documents/SourceCode/MachineLearning/exp/data/features/P24.tsv' as 'real location' with error 0.01\n",
      "2020-04-27 15:36:29 INFO     Detected encoding: ascii\n",
      "2020-04-27 15:36:29 INFO     Found 3200 rows and 2 columns\n",
      "2020-04-27 15:36:29 DEBUG    Checking column names\n",
      "2020-04-27 15:36:29 DEBUG    Index name 'index'\n",
      "2020-04-27 15:36:29 DEBUG    Column name 'P24'\n",
      "2020-04-27 15:36:29 INFO     Checking data format\n",
      "2020-04-27 15:36:29 INFO     Column 'P24'\n",
      "2020-04-27 15:36:29 INFO     count    3200.000000\n",
      "2020-04-27 15:36:29 INFO     mean        0.020429\n",
      "2020-04-27 15:36:29 INFO     std         0.833978\n",
      "2020-04-27 15:36:29 INFO     min        -5.512750\n",
      "2020-04-27 15:36:29 INFO     50%         0.107359\n",
      "2020-04-27 15:36:29 INFO     max         9.181109\n",
      "2020-04-27 15:36:29 INFO     ---\n",
      "2020-04-27 15:36:29 INFO     Final dataframe has 3200 lines and 2 columns\n",
      "2020-04-27 15:36:29 INFO     Searching for missing values\n",
      "2020-04-27 15:36:29 INFO     No missing values found\n",
      "2020-04-27 15:36:29 INFO     Writing autoclass.db2 file\n",
      "2020-04-27 15:36:29 INFO     If any, missing values will be encoded as '?'\n",
      "2020-04-27 15:36:29 DEBUG    Writing autoclass.tsv file [for later use]\n",
      "2020-04-27 15:36:29 INFO     Writing .hd2 file\n",
      "2020-04-27 15:36:29 INFO     Writing .model file\n",
      "2020-04-27 15:36:29 INFO     Writing .s-params file\n",
      "2020-04-27 15:36:29 INFO     Writing .r-params file\n"
     ]
    },
    {
     "name": "stdout",
     "output_type": "stream",
     "text": [
      "[0.0489749430523918, 0.05779334500875657, 0.09333333333333334, 0.05581395348837209, 0.23529411764705882, 0.10416666666666667, 0.7560975609756098, 0.16]\n",
      "['CLOUDFLARE', 'MS_ONE_DRIVE', 'CONTENT_FLASH', 'AMAZON', 'DNS', 'INSTAGRAM', 'IP_ICMP', 'WIKIPEDIA']\n",
      "[1, 2, 3, 4, 5, 6, 7, 9]\n",
      "0.18893424002152362\n"
     ]
    },
    {
     "name": "stderr",
     "output_type": "stream",
     "text": [
      "2020-04-27 15:36:29 INFO     AutoClass C executable found in /home/chuongdv/Documents/SourceCode/MachineLearning/autoclass-c/autoclass\n",
      "2020-04-27 15:36:29 INFO     Writing run file\n",
      "2020-04-27 15:36:29 INFO     AutoClass C executable found in /home/chuongdv/Documents/SourceCode/MachineLearning/autoclass-c/autoclass\n",
      "2020-04-27 15:36:29 INFO     AutoClass C version: AUTOCLASS C (version 3.3.6unx)\n",
      "2020-04-27 15:36:29 INFO     Running clustering...\n"
     ]
    },
    {
     "name": "stdout",
     "output_type": "stream",
     "text": [
      "Time: 148 sec."
     ]
    },
    {
     "name": "stderr",
     "output_type": "stream",
     "text": [
      "2020-04-27 15:38:57 INFO     Extracting autoclass results\n",
      "2020-04-27 15:38:57 INFO     Found 3200 cases classified in 11 classes\n",
      "2020-04-27 15:39:00 INFO     Aggregating input data\n",
      "2020-04-27 15:39:00 INFO     Writing classes + probabilities .tsv file\n"
     ]
    },
    {
     "name": "stdout",
     "output_type": "stream",
     "text": [
      "[0.054982817869415807, 0.1574539363484087, 0.10526315789473684, 0.17846153846153845, 0.0625, 0.104, 0.08024691358024691, 0.0783132530120482, 0.14285714285714285, 0.1111111111111111, 0.08860759493670886]\n",
      "['AMAZON', 'IP_ICMP', 'CONTENT_FLASH', 'DNS', 'APPLE_ICLOUD', 'APPLE', 'MS_ONE_DRIVE', 'HTTP', 'DROPBOX', 'HTTP_PROXY', 'EBAY']\n",
      "[1, 2, 3, 4, 5, 6, 7, 8, 9, 10, 11]\n",
      "0.1057997696428507\n",
      "<class 'pandas.core.frame.DataFrame'>\n",
      "RangeIndex: 5 entries, 0 to 4\n",
      "Data columns (total 2 columns):\n",
      " #   Column  Non-Null Count  Dtype  \n",
      "---  ------  --------------  -----  \n",
      " 0   0       5 non-null      object \n",
      " 1   1       5 non-null      float64\n",
      "dtypes: float64(1), object(1)\n",
      "memory usage: 208.0+ bytes\n"
     ]
    }
   ],
   "source": [
    "from pathlib import Path\n",
    "import sys\n",
    "import time\n",
    "import threading\n",
    "\n",
    "import matplotlib\n",
    "import matplotlib.pyplot as plt\n",
    "from matplotlib.lines import Line2D\n",
    "import numpy as np\n",
    "import pandas as pd\n",
    "%matplotlib inline\n",
    "import autoclasswrapper as wrapper\n",
    "import os \n",
    "\n",
    "afterall = {}\n",
    "subfeatures = ['P20', 'P21', 'P22', 'P23', 'P24']\n",
    "os.environ['PATH'] += \":/home/chuongdv/Documents/SourceCode/MachineLearning/autoclass-c\"\n",
    "#!touch /home/chuongdv/Documents/SourceCode/MachineLearning/exp/result/autoclass.r-params \n",
    "#!echo \"xref_class_report_att_list = 0, 1 \\nreport_mode = \\\"data\\\" \\ncomment_data_headers_p = true \" >> /home/chuongdv/Documents/SourceCode/MachineLearning/exp/result/autoclass.r-params \n",
    "for feature in subfeatures:\n",
    "    runtimeDir = \"/home/chuongdv/Documents/SourceCode/MachineLearning/exp/result/round1/\" + feature\n",
    "    if not Path(runtimeDir).exists():\n",
    "        os.mkdir(runtimeDir)\n",
    "    os.chdir(runtimeDir)\n",
    "    \n",
    "            # Create object to prepare dataset.\n",
    "    clust = wrapper.Input()\n",
    "\n",
    "    # Load datasets from tsv files.\n",
    "    pathData = \"/home/chuongdv/Documents/SourceCode/MachineLearning/exp/data/features/\" + feature + \".tsv\"\n",
    "    clust.add_input_data(pathData, \"real location\")\n",
    "    #clust.add_input_data(\"/home/chuongdv/Documents/SourceCode/MachineLearning/exp/data/features/P2.tsv\", \"real location\")\n",
    "    \n",
    "    # Prepare input data:\n",
    "    # - create a final dataframe\n",
    "    # - merge datasets if multiple inputs\n",
    "    clust.prepare_input_data()\n",
    "\n",
    "    # Create files needed by AutoClass.\n",
    "    clust.create_db2_file()\n",
    "    clust.create_hd2_file()\n",
    "    clust.create_model_file()\n",
    "    clust.create_sparams_file(max_duration = 0)\n",
    "    clust.create_rparams_file()\n",
    "    !rm autoclass.r-params\n",
    "    !cp /home/chuongdv/Documents/SourceCode/MachineLearning/exp/result/round1/autoclass.r-params .\n",
    "    \n",
    "    !rm -f autoclass-run-* *.results-bin\n",
    "\n",
    "\n",
    "    # Search autoclass in path.\n",
    "    wrapper.search_autoclass_in_path()\n",
    "\n",
    "    # Create object to run AutoClass.\n",
    "    run = wrapper.Run()\n",
    "\n",
    "    # Prepare run script.\n",
    "    run.create_run_file()\n",
    "\n",
    "    # Run AutoClass.\n",
    "    run.run()\n",
    "        \n",
    "    timer = 0\n",
    "    step = 2\n",
    "    while not Path(runtimeDir + \"/autoclass-run-success\").exists():\n",
    "        timer += step\n",
    "        sys.stdout.write(\"\\r\")\n",
    "        sys.stdout.write(f\"Time: {timer} sec.\")\n",
    "        sys.stdout.flush()\n",
    "        time.sleep(step)\n",
    "        if Path(\"autoclass-run-failure\").exists():\n",
    "            print(\"error\")\n",
    "            break\n",
    "            \n",
    "    if Path(runtimeDir + \"/autoclass-run-success\").exists():\n",
    "        results = wrapper.Output()\n",
    "        results.extract_results()\n",
    "        results.aggregate_input_data()\n",
    "#         results.write_cdt()\n",
    "#         results.write_cdt(with_proba=True)\n",
    "#         results.write_class_stats()\n",
    "#         results.write_dendrogram()\n",
    "        result = pd.read_csv(runtimeDir + '/autoclass_out.tsv', encoding=\"utf-8\", header=0, sep='\\t', index_col=0)\n",
    "        label =  pd.read_csv('/home/chuongdv/Documents/SourceCode/MachineLearning/exp/data/features/label.tsv', encoding='utf-8', header=0, sep='\\t', index_col=0)\n",
    "\n",
    "        label['cluster'] = result['main-class']\n",
    "        label.to_csv('app.csv', index = True, header=True)\n",
    "\n",
    "\n",
    "        listH = []\n",
    "        listApp = []\n",
    "        listCluster = []\n",
    "        def fun(x):\n",
    "            listCluster.append(x['cluster'].values[0])\n",
    "            listH.append(x['label'].value_counts().max()/x.shape[0])\n",
    "            listApp.append(x['label'].value_counts().idxmax())\n",
    "\n",
    "\n",
    "        label.groupby('cluster').apply(fun)\n",
    "\n",
    "        H = sum(listH)/len(listH)\n",
    "        print(listH)\n",
    "        print(listApp)\n",
    "        print(listCluster)\n",
    "        print(H)\n",
    "\n",
    "        dict = {'Cluster': listCluster, 'App': listApp, 'H': listH}\n",
    "\n",
    "        saveResult = pd.DataFrame(dict)\n",
    "\n",
    "        saveResult.to_csv(runtimeDir + '/resultCal.csv', index = True, header=True)\n",
    "        \n",
    "        afterall.update({feature:H})\n",
    "        \n",
    "round1 = pd.DataFrame(list(afterall.items()), index= range(len(subfeatures)))\n",
    "round1.info()\n",
    "round1.head(1)\n",
    "round1.to_csv('/home/chuongdv/Documents/SourceCode/MachineLearning/exp/result/round1/Hp5.csv', index = True, header=True)"
   ]
  },
  {
   "cell_type": "code",
   "execution_count": null,
   "metadata": {},
   "outputs": [],
   "source": []
  }
 ],
 "metadata": {
  "kernelspec": {
   "display_name": "Python 3",
   "language": "python",
   "name": "python3"
  },
  "language_info": {
   "codemirror_mode": {
    "name": "ipython",
    "version": 3
   },
   "file_extension": ".py",
   "mimetype": "text/x-python",
   "name": "python",
   "nbconvert_exporter": "python",
   "pygments_lexer": "ipython3",
   "version": "3.7.6"
  }
 },
 "nbformat": 4,
 "nbformat_minor": 4
}
