{
 "cells": [
  {
   "cell_type": "code",
   "execution_count": 1,
   "metadata": {},
   "outputs": [
    {
     "name": "stderr",
     "output_type": "stream",
     "text": [
      "2020-04-27 15:22:16 INFO     Reading data file '/home/chuongdv/Documents/SourceCode/MachineLearning/exp/data/features/P15.tsv' as 'real location' with error 0.01\n",
      "2020-04-27 15:22:16 INFO     Detected encoding: ascii\n",
      "2020-04-27 15:22:16 INFO     Found 3200 rows and 2 columns\n",
      "2020-04-27 15:22:16 DEBUG    Checking column names\n",
      "2020-04-27 15:22:16 DEBUG    Index name 'index'\n",
      "2020-04-27 15:22:16 DEBUG    Column name 'P15'\n",
      "2020-04-27 15:22:16 INFO     Checking data format\n",
      "2020-04-27 15:22:16 INFO     Column 'P15'\n",
      "2020-04-27 15:22:16 INFO     count    3200.000000\n",
      "2020-04-27 15:22:16 INFO     mean        0.047417\n",
      "2020-04-27 15:22:16 INFO     std         1.574035\n",
      "2020-04-27 15:22:16 INFO     min       -14.499616\n",
      "2020-04-27 15:22:16 INFO     50%        -0.111508\n",
      "2020-04-27 15:22:16 INFO     max        33.695054\n",
      "2020-04-27 15:22:16 INFO     ---\n",
      "2020-04-27 15:22:16 INFO     Final dataframe has 3200 lines and 2 columns\n",
      "2020-04-27 15:22:16 INFO     Searching for missing values\n",
      "2020-04-27 15:22:16 INFO     No missing values found\n",
      "2020-04-27 15:22:16 INFO     Writing autoclass.db2 file\n",
      "2020-04-27 15:22:16 INFO     If any, missing values will be encoded as '?'\n",
      "2020-04-27 15:22:16 DEBUG    Writing autoclass.tsv file [for later use]\n",
      "2020-04-27 15:22:16 INFO     Writing .hd2 file\n",
      "2020-04-27 15:22:16 INFO     Writing .model file\n",
      "2020-04-27 15:22:16 INFO     Writing .s-params file\n",
      "2020-04-27 15:22:16 INFO     Writing .r-params file\n",
      "2020-04-27 15:22:17 INFO     AutoClass C executable found in /home/chuongdv/Documents/SourceCode/MachineLearning/autoclass-c/autoclass\n",
      "2020-04-27 15:22:17 INFO     Writing run file\n",
      "2020-04-27 15:22:17 INFO     AutoClass C executable found in /home/chuongdv/Documents/SourceCode/MachineLearning/autoclass-c/autoclass\n",
      "2020-04-27 15:22:17 INFO     AutoClass C version: AUTOCLASS C (version 3.3.6unx)\n",
      "2020-04-27 15:22:17 INFO     Running clustering...\n"
     ]
    },
    {
     "name": "stdout",
     "output_type": "stream",
     "text": [
      "Time: 178 sec."
     ]
    },
    {
     "name": "stderr",
     "output_type": "stream",
     "text": [
      "2020-04-27 15:25:15 INFO     Extracting autoclass results\n",
      "2020-04-27 15:25:15 INFO     Found 3200 cases classified in 7 classes\n",
      "2020-04-27 15:25:19 INFO     Aggregating input data\n",
      "2020-04-27 15:25:19 INFO     Writing classes + probabilities .tsv file\n",
      "2020-04-27 15:25:19 INFO     Reading data file '/home/chuongdv/Documents/SourceCode/MachineLearning/exp/data/features/P16.tsv' as 'real location' with error 0.01\n",
      "2020-04-27 15:25:19 INFO     Detected encoding: ascii\n",
      "2020-04-27 15:25:19 INFO     Found 3200 rows and 2 columns\n",
      "2020-04-27 15:25:19 DEBUG    Checking column names\n",
      "2020-04-27 15:25:19 DEBUG    Index name 'index'\n",
      "2020-04-27 15:25:19 DEBUG    Column name 'P16'\n",
      "2020-04-27 15:25:19 INFO     Checking data format\n",
      "2020-04-27 15:25:19 INFO     Column 'P16'\n",
      "2020-04-27 15:25:19 INFO     count    3200.000000\n",
      "2020-04-27 15:25:19 INFO     mean       -0.006727\n",
      "2020-04-27 15:25:19 INFO     std         1.063719\n",
      "2020-04-27 15:25:19 INFO     min        -9.211523\n",
      "2020-04-27 15:25:19 INFO     50%         0.080730\n",
      "2020-04-27 15:25:19 INFO     max        11.615809\n",
      "2020-04-27 15:25:19 INFO     ---\n",
      "2020-04-27 15:25:19 INFO     Final dataframe has 3200 lines and 2 columns\n",
      "2020-04-27 15:25:19 INFO     Searching for missing values\n",
      "2020-04-27 15:25:19 INFO     No missing values found\n",
      "2020-04-27 15:25:19 INFO     Writing autoclass.db2 file\n",
      "2020-04-27 15:25:19 INFO     If any, missing values will be encoded as '?'\n",
      "2020-04-27 15:25:19 DEBUG    Writing autoclass.tsv file [for later use]\n",
      "2020-04-27 15:25:19 INFO     Writing .hd2 file\n",
      "2020-04-27 15:25:19 INFO     Writing .model file\n",
      "2020-04-27 15:25:19 INFO     Writing .s-params file\n",
      "2020-04-27 15:25:19 INFO     Writing .r-params file\n"
     ]
    },
    {
     "name": "stdout",
     "output_type": "stream",
     "text": [
      "[0.05714285714285714, 0.09142857142857143, 0.08041237113402062, 0.0855457227138643, 0.06825938566552901, 0.40707964601769914, 0.24444444444444444]\n",
      "['IP_ICMP', 'DROPBOX', 'APPLE_ICLOUD', 'DROPBOX', 'FACEBOOK', 'DNS', 'FACEBOOK']\n",
      "[1, 2, 3, 4, 5, 6, 7]\n",
      "0.1477589997924266\n"
     ]
    },
    {
     "name": "stderr",
     "output_type": "stream",
     "text": [
      "2020-04-27 15:25:20 INFO     AutoClass C executable found in /home/chuongdv/Documents/SourceCode/MachineLearning/autoclass-c/autoclass\n",
      "2020-04-27 15:25:20 INFO     Writing run file\n",
      "2020-04-27 15:25:20 INFO     AutoClass C executable found in /home/chuongdv/Documents/SourceCode/MachineLearning/autoclass-c/autoclass\n",
      "2020-04-27 15:25:20 INFO     AutoClass C version: AUTOCLASS C (version 3.3.6unx)\n",
      "2020-04-27 15:25:20 INFO     Running clustering...\n"
     ]
    },
    {
     "name": "stdout",
     "output_type": "stream",
     "text": [
      "Time: 146 sec."
     ]
    },
    {
     "name": "stderr",
     "output_type": "stream",
     "text": [
      "2020-04-27 15:27:46 INFO     Extracting autoclass results\n",
      "2020-04-27 15:27:46 INFO     Found 3200 cases classified in 11 classes\n",
      "2020-04-27 15:27:50 INFO     Aggregating input data\n",
      "2020-04-27 15:27:50 INFO     Writing classes + probabilities .tsv file\n",
      "2020-04-27 15:27:51 INFO     Reading data file '/home/chuongdv/Documents/SourceCode/MachineLearning/exp/data/features/P17.tsv' as 'real location' with error 0.01\n",
      "2020-04-27 15:27:51 INFO     Detected encoding: ascii\n",
      "2020-04-27 15:27:51 INFO     Found 3200 rows and 2 columns\n",
      "2020-04-27 15:27:51 DEBUG    Checking column names\n",
      "2020-04-27 15:27:51 DEBUG    Index name 'index'\n",
      "2020-04-27 15:27:51 DEBUG    Column name 'P17'\n",
      "2020-04-27 15:27:51 INFO     Checking data format\n",
      "2020-04-27 15:27:51 INFO     Column 'P17'\n",
      "2020-04-27 15:27:51 INFO     count    3200.000000\n",
      "2020-04-27 15:27:51 INFO     mean       -0.003688\n",
      "2020-04-27 15:27:51 INFO     std         1.319910\n",
      "2020-04-27 15:27:51 INFO     min       -22.618285\n",
      "2020-04-27 15:27:51 INFO     50%        -0.113117\n",
      "2020-04-27 15:27:51 INFO     max        17.506119\n",
      "2020-04-27 15:27:51 INFO     ---\n",
      "2020-04-27 15:27:51 INFO     Final dataframe has 3200 lines and 2 columns\n",
      "2020-04-27 15:27:51 INFO     Searching for missing values\n",
      "2020-04-27 15:27:51 INFO     No missing values found\n",
      "2020-04-27 15:27:51 INFO     Writing autoclass.db2 file\n",
      "2020-04-27 15:27:51 INFO     If any, missing values will be encoded as '?'\n",
      "2020-04-27 15:27:51 DEBUG    Writing autoclass.tsv file [for later use]\n",
      "2020-04-27 15:27:51 INFO     Writing .hd2 file\n",
      "2020-04-27 15:27:51 INFO     Writing .model file\n",
      "2020-04-27 15:27:51 INFO     Writing .s-params file\n",
      "2020-04-27 15:27:51 INFO     Writing .r-params file\n"
     ]
    },
    {
     "name": "stdout",
     "output_type": "stream",
     "text": [
      "[0.08761329305135952, 0.07636363636363637, 0.08966861598440545, 0.081799591002045, 0.2041522491349481, 0.06206896551724138, 0.11688311688311688, 0.09345794392523364, 0.8390804597701149, 0.5, 0.1875]\n",
      "['CONTENT_FLASH', 'HTTP_CONNECT', 'FACEBOOK', 'CLOUDFLARE', 'DNS', 'SPOTIFY', 'DROPBOX', 'APPLE_ITUNES', 'IP_ICMP', 'DROPBOX', 'REST_APP']\n",
      "[1, 2, 3, 4, 5, 6, 7, 8, 9, 10, 11]\n",
      "0.2125988974211001\n"
     ]
    },
    {
     "name": "stderr",
     "output_type": "stream",
     "text": [
      "2020-04-27 15:27:51 INFO     AutoClass C executable found in /home/chuongdv/Documents/SourceCode/MachineLearning/autoclass-c/autoclass\n",
      "2020-04-27 15:27:51 INFO     Writing run file\n",
      "2020-04-27 15:27:51 INFO     AutoClass C executable found in /home/chuongdv/Documents/SourceCode/MachineLearning/autoclass-c/autoclass\n",
      "2020-04-27 15:27:51 INFO     AutoClass C version: AUTOCLASS C (version 3.3.6unx)\n",
      "2020-04-27 15:27:51 INFO     Running clustering...\n"
     ]
    },
    {
     "name": "stdout",
     "output_type": "stream",
     "text": [
      "Time: 234 sec."
     ]
    },
    {
     "name": "stderr",
     "output_type": "stream",
     "text": [
      "2020-04-27 15:31:45 INFO     Extracting autoclass results\n",
      "2020-04-27 15:31:45 INFO     Found 3200 cases classified in 11 classes\n",
      "2020-04-27 15:31:50 INFO     Aggregating input data\n",
      "2020-04-27 15:31:50 INFO     Writing classes + probabilities .tsv file\n",
      "2020-04-27 15:31:50 INFO     Reading data file '/home/chuongdv/Documents/SourceCode/MachineLearning/exp/data/features/P18.tsv' as 'real location' with error 0.01\n",
      "2020-04-27 15:31:50 INFO     Detected encoding: ascii\n",
      "2020-04-27 15:31:50 INFO     Found 3200 rows and 2 columns\n",
      "2020-04-27 15:31:50 DEBUG    Checking column names\n",
      "2020-04-27 15:31:50 DEBUG    Index name 'index'\n",
      "2020-04-27 15:31:50 DEBUG    Column name 'P18'\n",
      "2020-04-27 15:31:50 INFO     Checking data format\n",
      "2020-04-27 15:31:50 INFO     Column 'P18'\n",
      "2020-04-27 15:31:50 INFO     count    3200.000000\n",
      "2020-04-27 15:31:50 INFO     mean       -0.039892\n",
      "2020-04-27 15:31:50 INFO     std         0.793260\n",
      "2020-04-27 15:31:50 INFO     min        -8.602090\n",
      "2020-04-27 15:31:50 INFO     50%         0.070298\n",
      "2020-04-27 15:31:50 INFO     max        15.945491\n",
      "2020-04-27 15:31:50 INFO     ---\n",
      "2020-04-27 15:31:50 INFO     Final dataframe has 3200 lines and 2 columns\n",
      "2020-04-27 15:31:50 INFO     Searching for missing values\n",
      "2020-04-27 15:31:50 INFO     No missing values found\n",
      "2020-04-27 15:31:50 INFO     Writing autoclass.db2 file\n",
      "2020-04-27 15:31:50 INFO     If any, missing values will be encoded as '?'\n",
      "2020-04-27 15:31:50 DEBUG    Writing autoclass.tsv file [for later use]\n",
      "2020-04-27 15:31:50 INFO     Writing .hd2 file\n",
      "2020-04-27 15:31:50 INFO     Writing .model file\n",
      "2020-04-27 15:31:50 INFO     Writing .s-params file\n",
      "2020-04-27 15:31:50 INFO     Writing .r-params file\n"
     ]
    },
    {
     "name": "stdout",
     "output_type": "stream",
     "text": [
      "[0.12317666126418152, 0.08477842003853564, 0.0633245382585752, 0.07441860465116279, 0.13291139240506328, 0.0847953216374269, 0.08494208494208494, 0.10674157303370786, 0.6474820143884892, 0.17777777777777778, 0.20454545454545456]\n",
      "['CONTENT_FLASH', 'DNS', 'WHATSAPP', 'APPLE_ICLOUD', 'DROPBOX', 'OFFICE_365', 'APPLE_ICLOUD', 'HTTP_CONNECT', 'IP_ICMP', 'FACEBOOK', 'DNS']\n",
      "[1, 2, 3, 4, 5, 6, 7, 8, 9, 10, 11]\n",
      "0.1622630766311327\n"
     ]
    },
    {
     "name": "stderr",
     "output_type": "stream",
     "text": [
      "2020-04-27 15:31:51 INFO     AutoClass C executable found in /home/chuongdv/Documents/SourceCode/MachineLearning/autoclass-c/autoclass\n",
      "2020-04-27 15:31:51 INFO     Writing run file\n",
      "2020-04-27 15:31:51 INFO     AutoClass C executable found in /home/chuongdv/Documents/SourceCode/MachineLearning/autoclass-c/autoclass\n",
      "2020-04-27 15:31:51 INFO     AutoClass C version: AUTOCLASS C (version 3.3.6unx)\n",
      "2020-04-27 15:31:51 INFO     Running clustering...\n"
     ]
    },
    {
     "name": "stdout",
     "output_type": "stream",
     "text": [
      "Time: 110 sec."
     ]
    },
    {
     "name": "stderr",
     "output_type": "stream",
     "text": [
      "2020-04-27 15:33:41 INFO     Extracting autoclass results\n",
      "2020-04-27 15:33:41 INFO     Found 3200 cases classified in 7 classes\n",
      "2020-04-27 15:33:44 INFO     Aggregating input data\n",
      "2020-04-27 15:33:44 INFO     Writing classes + probabilities .tsv file\n",
      "2020-04-27 15:33:44 INFO     Reading data file '/home/chuongdv/Documents/SourceCode/MachineLearning/exp/data/features/P19.tsv' as 'real location' with error 0.01\n",
      "2020-04-27 15:33:44 INFO     Detected encoding: ascii\n",
      "2020-04-27 15:33:44 INFO     Found 3200 rows and 2 columns\n",
      "2020-04-27 15:33:44 DEBUG    Checking column names\n",
      "2020-04-27 15:33:44 DEBUG    Index name 'index'\n",
      "2020-04-27 15:33:44 DEBUG    Column name 'P19'\n",
      "2020-04-27 15:33:44 INFO     Checking data format\n",
      "2020-04-27 15:33:44 INFO     Column 'P19'\n",
      "2020-04-27 15:33:44 INFO     count    3200.000000\n",
      "2020-04-27 15:33:44 INFO     mean        0.096521\n",
      "2020-04-27 15:33:44 INFO     std         1.136644\n",
      "2020-04-27 15:33:44 INFO     min        -3.830144\n",
      "2020-04-27 15:33:44 INFO     50%        -0.092483\n",
      "2020-04-27 15:33:44 INFO     max        20.561533\n",
      "2020-04-27 15:33:44 INFO     ---\n",
      "2020-04-27 15:33:44 INFO     Final dataframe has 3200 lines and 2 columns\n",
      "2020-04-27 15:33:44 INFO     Searching for missing values\n",
      "2020-04-27 15:33:44 INFO     No missing values found\n",
      "2020-04-27 15:33:44 INFO     Writing autoclass.db2 file\n",
      "2020-04-27 15:33:44 INFO     If any, missing values will be encoded as '?'\n",
      "2020-04-27 15:33:44 DEBUG    Writing autoclass.tsv file [for later use]\n",
      "2020-04-27 15:33:44 INFO     Writing .hd2 file\n",
      "2020-04-27 15:33:44 INFO     Writing .model file\n",
      "2020-04-27 15:33:44 INFO     Writing .s-params file\n",
      "2020-04-27 15:33:44 INFO     Writing .r-params file\n"
     ]
    },
    {
     "name": "stdout",
     "output_type": "stream",
     "text": [
      "[0.06918238993710692, 0.06921029281277728, 0.06818181818181818, 0.08661417322834646, 0.2919254658385093, 0.5159235668789809, 0.35294117647058826]\n",
      "['MS_ONE_DRIVE', 'CONTENT_FLASH', 'APPLE_ICLOUD', 'OFFICE_365', 'DROPBOX', 'IP_ICMP', 'DNS']\n",
      "[1, 2, 3, 4, 5, 6, 7]\n",
      "0.20771126904973247\n"
     ]
    },
    {
     "name": "stderr",
     "output_type": "stream",
     "text": [
      "2020-04-27 15:33:44 INFO     AutoClass C executable found in /home/chuongdv/Documents/SourceCode/MachineLearning/autoclass-c/autoclass\n",
      "2020-04-27 15:33:44 INFO     Writing run file\n",
      "2020-04-27 15:33:44 INFO     AutoClass C executable found in /home/chuongdv/Documents/SourceCode/MachineLearning/autoclass-c/autoclass\n",
      "2020-04-27 15:33:44 INFO     AutoClass C version: AUTOCLASS C (version 3.3.6unx)\n",
      "2020-04-27 15:33:44 INFO     Running clustering...\n"
     ]
    },
    {
     "name": "stdout",
     "output_type": "stream",
     "text": [
      "Time: 198 sec."
     ]
    },
    {
     "name": "stderr",
     "output_type": "stream",
     "text": [
      "2020-04-27 15:37:03 INFO     Extracting autoclass results\n",
      "2020-04-27 15:37:03 INFO     Found 3200 cases classified in 10 classes\n",
      "2020-04-27 15:37:06 INFO     Aggregating input data\n",
      "2020-04-27 15:37:06 INFO     Writing classes + probabilities .tsv file\n"
     ]
    },
    {
     "name": "stdout",
     "output_type": "stream",
     "text": [
      "[0.09057971014492754, 0.061124694376528114, 0.08520900321543408, 0.05580357142857143, 0.08759124087591241, 0.06691449814126393, 0.07876712328767123, 0.09454545454545454, 0.5584415584415584, 0.7768595041322314]\n",
      "['HTTP_CONNECT', 'APPLE_ITUNES', 'CONTENT_FLASH', 'WINDOWS_UPDATE', 'AMAZON', 'HTTP', 'HTTP_CONNECT', 'APPLE', 'DROPBOX', 'IP_ICMP']\n",
      "[1, 2, 3, 4, 5, 6, 7, 8, 9, 10]\n",
      "0.19558363585895533\n",
      "<class 'pandas.core.frame.DataFrame'>\n",
      "RangeIndex: 5 entries, 0 to 4\n",
      "Data columns (total 2 columns):\n",
      " #   Column  Non-Null Count  Dtype  \n",
      "---  ------  --------------  -----  \n",
      " 0   0       5 non-null      object \n",
      " 1   1       5 non-null      float64\n",
      "dtypes: float64(1), object(1)\n",
      "memory usage: 208.0+ bytes\n"
     ]
    }
   ],
   "source": [
    "from pathlib import Path\n",
    "import sys\n",
    "import time\n",
    "import threading\n",
    "\n",
    "import matplotlib\n",
    "import matplotlib.pyplot as plt\n",
    "from matplotlib.lines import Line2D\n",
    "import numpy as np\n",
    "import pandas as pd\n",
    "%matplotlib inline\n",
    "import autoclasswrapper as wrapper\n",
    "import os \n",
    "\n",
    "afterall = {}\n",
    "subfeatures = ['P15', 'P16', 'P17', 'P18', 'P19']\n",
    "os.environ['PATH'] += \":/home/chuongdv/Documents/SourceCode/MachineLearning/autoclass-c\"\n",
    "#!touch /home/chuongdv/Documents/SourceCode/MachineLearning/exp/result/autoclass.r-params \n",
    "#!echo \"xref_class_report_att_list = 0, 1 \\nreport_mode = \\\"data\\\" \\ncomment_data_headers_p = true \" >> /home/chuongdv/Documents/SourceCode/MachineLearning/exp/result/autoclass.r-params \n",
    "for feature in subfeatures:\n",
    "    runtimeDir = \"/home/chuongdv/Documents/SourceCode/MachineLearning/exp/result/round1/\" + feature\n",
    "    if not Path(runtimeDir).exists():\n",
    "        os.mkdir(runtimeDir)\n",
    "    os.chdir(runtimeDir)\n",
    "    \n",
    "            # Create object to prepare dataset.\n",
    "    clust = wrapper.Input()\n",
    "\n",
    "    # Load datasets from tsv files.\n",
    "    pathData = \"/home/chuongdv/Documents/SourceCode/MachineLearning/exp/data/features/\" + feature + \".tsv\"\n",
    "    clust.add_input_data(pathData, \"real location\")\n",
    "    #clust.add_input_data(\"/home/chuongdv/Documents/SourceCode/MachineLearning/exp/data/features/P2.tsv\", \"real location\")\n",
    "    \n",
    "    # Prepare input data:\n",
    "    # - create a final dataframe\n",
    "    # - merge datasets if multiple inputs\n",
    "    clust.prepare_input_data()\n",
    "\n",
    "    # Create files needed by AutoClass.\n",
    "    clust.create_db2_file()\n",
    "    clust.create_hd2_file()\n",
    "    clust.create_model_file()\n",
    "    clust.create_sparams_file(max_duration = 0)\n",
    "    clust.create_rparams_file()\n",
    "    !rm autoclass.r-params\n",
    "    !cp /home/chuongdv/Documents/SourceCode/MachineLearning/exp/result/round1/autoclass.r-params .\n",
    "    \n",
    "    !rm -f autoclass-run-* *.results-bin\n",
    "\n",
    "\n",
    "    # Search autoclass in path.\n",
    "    wrapper.search_autoclass_in_path()\n",
    "\n",
    "    # Create object to run AutoClass.\n",
    "    run = wrapper.Run()\n",
    "\n",
    "    # Prepare run script.\n",
    "    run.create_run_file()\n",
    "\n",
    "    # Run AutoClass.\n",
    "    run.run()\n",
    "        \n",
    "    timer = 0\n",
    "    step = 2\n",
    "    while not Path(runtimeDir + \"/autoclass-run-success\").exists():\n",
    "        timer += step\n",
    "        sys.stdout.write(\"\\r\")\n",
    "        sys.stdout.write(f\"Time: {timer} sec.\")\n",
    "        sys.stdout.flush()\n",
    "        time.sleep(step)\n",
    "        if Path(\"autoclass-run-failure\").exists():\n",
    "            print(\"error\")\n",
    "            break\n",
    "            \n",
    "    if Path(runtimeDir + \"/autoclass-run-success\").exists():\n",
    "        results = wrapper.Output()\n",
    "        results.extract_results()\n",
    "        results.aggregate_input_data()\n",
    "#         results.write_cdt()\n",
    "#         results.write_cdt(with_proba=True)\n",
    "#         results.write_class_stats()\n",
    "#         results.write_dendrogram()\n",
    "        result = pd.read_csv(runtimeDir + '/autoclass_out.tsv', encoding=\"utf-8\", header=0, sep='\\t', index_col=0)\n",
    "        label =  pd.read_csv('/home/chuongdv/Documents/SourceCode/MachineLearning/exp/data/features/label.tsv', encoding='utf-8', header=0, sep='\\t', index_col=0)\n",
    "\n",
    "        label['cluster'] = result['main-class']\n",
    "        label.to_csv('app.csv', index = True, header=True)\n",
    "\n",
    "\n",
    "        listH = []\n",
    "        listApp = []\n",
    "        listCluster = []\n",
    "        def fun(x):\n",
    "            listCluster.append(x['cluster'].values[0])\n",
    "            listH.append(x['label'].value_counts().max()/x.shape[0])\n",
    "            listApp.append(x['label'].value_counts().idxmax())\n",
    "\n",
    "\n",
    "        label.groupby('cluster').apply(fun)\n",
    "\n",
    "        H = sum(listH)/len(listH)\n",
    "        print(listH)\n",
    "        print(listApp)\n",
    "        print(listCluster)\n",
    "        print(H)\n",
    "\n",
    "        dict = {'Cluster': listCluster, 'App': listApp, 'H': listH}\n",
    "\n",
    "        saveResult = pd.DataFrame(dict)\n",
    "\n",
    "        saveResult.to_csv(runtimeDir + '/resultCal.csv', index = True, header=True)\n",
    "        \n",
    "        afterall.update({feature:H})\n",
    "        \n",
    "round1 = pd.DataFrame(list(afterall.items()), index= range(len(subfeatures)))\n",
    "round1.info()\n",
    "round1.head(1)\n",
    "round1.to_csv('/home/chuongdv/Documents/SourceCode/MachineLearning/exp/result/round1/Hp4.csv', index = True, header=True)"
   ]
  },
  {
   "cell_type": "code",
   "execution_count": null,
   "metadata": {},
   "outputs": [],
   "source": []
  }
 ],
 "metadata": {
  "kernelspec": {
   "display_name": "Python 3",
   "language": "python",
   "name": "python3"
  },
  "language_info": {
   "codemirror_mode": {
    "name": "ipython",
    "version": 3
   },
   "file_extension": ".py",
   "mimetype": "text/x-python",
   "name": "python",
   "nbconvert_exporter": "python",
   "pygments_lexer": "ipython3",
   "version": "3.7.6"
  }
 },
 "nbformat": 4,
 "nbformat_minor": 4
}
