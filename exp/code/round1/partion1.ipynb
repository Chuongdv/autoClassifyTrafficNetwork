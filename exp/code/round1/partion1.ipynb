{
 "cells": [
  {
   "cell_type": "code",
   "execution_count": 1,
   "metadata": {},
   "outputs": [
    {
     "name": "stderr",
     "output_type": "stream",
     "text": [
      "2020-04-27 15:21:57 INFO     Reading data file '/home/chuongdv/Documents/SourceCode/MachineLearning/exp/data/features/P0.tsv' as 'real location' with error 0.01\n",
      "2020-04-27 15:21:57 INFO     Detected encoding: ascii\n",
      "2020-04-27 15:21:57 INFO     Found 3200 rows and 2 columns\n",
      "2020-04-27 15:21:57 DEBUG    Checking column names\n",
      "2020-04-27 15:21:57 DEBUG    Index name 'index'\n",
      "2020-04-27 15:21:57 DEBUG    Column name 'P0'\n",
      "2020-04-27 15:21:57 INFO     Checking data format\n",
      "2020-04-27 15:21:57 INFO     Column 'P0'\n",
      "2020-04-27 15:21:57 INFO     count    3.200000e+03\n",
      "2020-04-27 15:21:57 INFO     mean    -7.765439e+03\n",
      "2020-04-27 15:21:57 INFO     std      1.036135e+06\n",
      "2020-04-27 15:21:57 INFO     min     -1.783918e+06\n",
      "2020-04-27 15:21:57 INFO     50%      6.245000e+03\n",
      "2020-04-27 15:21:57 INFO     max      1.786032e+06\n",
      "2020-04-27 15:21:57 INFO     ---\n",
      "2020-04-27 15:21:57 INFO     Final dataframe has 3200 lines and 2 columns\n",
      "2020-04-27 15:21:57 INFO     Searching for missing values\n",
      "2020-04-27 15:21:57 INFO     No missing values found\n",
      "2020-04-27 15:21:57 INFO     Writing autoclass.db2 file\n",
      "2020-04-27 15:21:57 INFO     If any, missing values will be encoded as '?'\n",
      "2020-04-27 15:21:57 DEBUG    Writing autoclass.tsv file [for later use]\n",
      "2020-04-27 15:21:57 INFO     Writing .hd2 file\n",
      "2020-04-27 15:21:57 INFO     Writing .model file\n",
      "2020-04-27 15:21:57 INFO     Writing .s-params file\n",
      "2020-04-27 15:21:57 INFO     Writing .r-params file\n",
      "2020-04-27 15:21:57 INFO     AutoClass C executable found in /home/chuongdv/Documents/SourceCode/MachineLearning/autoclass-c/autoclass\n",
      "2020-04-27 15:21:57 INFO     Writing run file\n",
      "2020-04-27 15:21:57 INFO     AutoClass C executable found in /home/chuongdv/Documents/SourceCode/MachineLearning/autoclass-c/autoclass\n",
      "2020-04-27 15:21:57 INFO     AutoClass C version: AUTOCLASS C (version 3.3.6unx)\n",
      "2020-04-27 15:21:57 INFO     Running clustering...\n"
     ]
    },
    {
     "name": "stdout",
     "output_type": "stream",
     "text": [
      "Time: 172 sec."
     ]
    },
    {
     "name": "stderr",
     "output_type": "stream",
     "text": [
      "2020-04-27 15:24:50 INFO     Extracting autoclass results\n",
      "2020-04-27 15:24:50 INFO     Found 3200 cases classified in 6 classes\n",
      "2020-04-27 15:24:52 INFO     Aggregating input data\n",
      "2020-04-27 15:24:52 INFO     Writing classes + probabilities .tsv file\n",
      "2020-04-27 15:24:52 INFO     Reading data file '/home/chuongdv/Documents/SourceCode/MachineLearning/exp/data/features/P1.tsv' as 'real location' with error 0.01\n",
      "2020-04-27 15:24:52 INFO     Detected encoding: ascii\n",
      "2020-04-27 15:24:52 INFO     Found 3200 rows and 2 columns\n",
      "2020-04-27 15:24:52 DEBUG    Checking column names\n",
      "2020-04-27 15:24:52 DEBUG    Index name 'index'\n",
      "2020-04-27 15:24:52 DEBUG    Column name 'P1'\n",
      "2020-04-27 15:24:52 INFO     Checking data format\n",
      "2020-04-27 15:24:52 INFO     Column 'P1'\n",
      "2020-04-27 15:24:52 INFO     count    3200.000000\n",
      "2020-04-27 15:24:52 INFO     mean       -0.300688\n",
      "2020-04-27 15:24:52 INFO     std         3.208397\n",
      "2020-04-27 15:24:52 INFO     min        -3.908736\n",
      "2020-04-27 15:24:52 INFO     50%        -1.665273\n",
      "2020-04-27 15:24:52 INFO     max        19.912423\n",
      "2020-04-27 15:24:52 INFO     ---\n",
      "2020-04-27 15:24:52 INFO     Final dataframe has 3200 lines and 2 columns\n",
      "2020-04-27 15:24:52 INFO     Searching for missing values\n",
      "2020-04-27 15:24:52 INFO     No missing values found\n",
      "2020-04-27 15:24:52 INFO     Writing autoclass.db2 file\n",
      "2020-04-27 15:24:52 INFO     If any, missing values will be encoded as '?'\n",
      "2020-04-27 15:24:52 DEBUG    Writing autoclass.tsv file [for later use]\n",
      "2020-04-27 15:24:52 INFO     Writing .hd2 file\n",
      "2020-04-27 15:24:52 INFO     Writing .model file\n",
      "2020-04-27 15:24:52 INFO     Writing .s-params file\n",
      "2020-04-27 15:24:52 INFO     Writing .r-params file\n"
     ]
    },
    {
     "name": "stdout",
     "output_type": "stream",
     "text": [
      "[0.04992867332382311, 0.08411214953271028, 0.07235142118863049, 0.09953703703703703, 0.08949416342412451, 0.08021390374331551]\n",
      "['SPOTIFY', 'APPLE', 'MICROSOFT', 'INSTAGRAM', 'INSTAGRAM', 'WIKIPEDIA']\n",
      "[1, 2, 3, 4, 5, 6]\n",
      "0.07927289137494016\n"
     ]
    },
    {
     "name": "stderr",
     "output_type": "stream",
     "text": [
      "2020-04-27 15:24:52 INFO     AutoClass C executable found in /home/chuongdv/Documents/SourceCode/MachineLearning/autoclass-c/autoclass\n",
      "2020-04-27 15:24:52 INFO     Writing run file\n",
      "2020-04-27 15:24:52 INFO     AutoClass C executable found in /home/chuongdv/Documents/SourceCode/MachineLearning/autoclass-c/autoclass\n",
      "2020-04-27 15:24:52 INFO     AutoClass C version: AUTOCLASS C (version 3.3.6unx)\n",
      "2020-04-27 15:24:52 INFO     Running clustering...\n"
     ]
    },
    {
     "name": "stdout",
     "output_type": "stream",
     "text": [
      "Time: 158 sec."
     ]
    },
    {
     "name": "stderr",
     "output_type": "stream",
     "text": [
      "2020-04-27 15:27:31 INFO     Extracting autoclass results\n",
      "2020-04-27 15:27:31 INFO     Found 3200 cases classified in 6 classes\n",
      "2020-04-27 15:27:35 INFO     Aggregating input data\n",
      "2020-04-27 15:27:35 INFO     Writing classes + probabilities .tsv file\n",
      "2020-04-27 15:27:35 INFO     Reading data file '/home/chuongdv/Documents/SourceCode/MachineLearning/exp/data/features/P2.tsv' as 'real location' with error 0.01\n",
      "2020-04-27 15:27:35 INFO     Detected encoding: ascii\n",
      "2020-04-27 15:27:35 INFO     Found 3200 rows and 2 columns\n",
      "2020-04-27 15:27:35 DEBUG    Checking column names\n",
      "2020-04-27 15:27:35 DEBUG    Index name 'index'\n",
      "2020-04-27 15:27:35 DEBUG    Column name 'P2'\n",
      "2020-04-27 15:27:35 INFO     Checking data format\n",
      "2020-04-27 15:27:35 INFO     Column 'P2'\n",
      "2020-04-27 15:27:35 INFO     count    3200.000000\n",
      "2020-04-27 15:27:35 INFO     mean        0.481287\n",
      "2020-04-27 15:27:35 INFO     std         3.387430\n",
      "2020-04-27 15:27:35 INFO     min        -6.410020\n",
      "2020-04-27 15:27:35 INFO     50%        -0.219402\n",
      "2020-04-27 15:27:35 INFO     max        88.211600\n",
      "2020-04-27 15:27:35 INFO     ---\n",
      "2020-04-27 15:27:35 INFO     Final dataframe has 3200 lines and 2 columns\n",
      "2020-04-27 15:27:35 INFO     Searching for missing values\n",
      "2020-04-27 15:27:35 INFO     No missing values found\n",
      "2020-04-27 15:27:35 INFO     Writing autoclass.db2 file\n",
      "2020-04-27 15:27:35 INFO     If any, missing values will be encoded as '?'\n",
      "2020-04-27 15:27:35 DEBUG    Writing autoclass.tsv file [for later use]\n",
      "2020-04-27 15:27:35 INFO     Writing .hd2 file\n",
      "2020-04-27 15:27:35 INFO     Writing .model file\n",
      "2020-04-27 15:27:35 INFO     Writing .s-params file\n",
      "2020-04-27 15:27:35 INFO     Writing .r-params file\n"
     ]
    },
    {
     "name": "stdout",
     "output_type": "stream",
     "text": [
      "[0.04874651810584958, 0.10714285714285714, 0.12472160356347439, 0.09316770186335403, 0.08018867924528301, 0.10880829015544041]\n",
      "['CONTENT_FLASH', 'DROPBOX', 'DNS', 'IP_ICMP', 'AMAZON', 'APPLE_ICLOUD']\n",
      "[1, 2, 3, 4, 5, 6]\n",
      "0.09379594167937644\n"
     ]
    },
    {
     "name": "stderr",
     "output_type": "stream",
     "text": [
      "2020-04-27 15:27:35 INFO     AutoClass C executable found in /home/chuongdv/Documents/SourceCode/MachineLearning/autoclass-c/autoclass\n",
      "2020-04-27 15:27:35 INFO     Writing run file\n",
      "2020-04-27 15:27:35 INFO     AutoClass C executable found in /home/chuongdv/Documents/SourceCode/MachineLearning/autoclass-c/autoclass\n",
      "2020-04-27 15:27:35 INFO     AutoClass C version: AUTOCLASS C (version 3.3.6unx)\n",
      "2020-04-27 15:27:35 INFO     Running clustering...\n"
     ]
    },
    {
     "name": "stdout",
     "output_type": "stream",
     "text": [
      "Time: 224 sec."
     ]
    },
    {
     "name": "stderr",
     "output_type": "stream",
     "text": [
      "2020-04-27 15:31:20 INFO     Extracting autoclass results\n",
      "2020-04-27 15:31:20 INFO     Found 3200 cases classified in 5 classes\n",
      "2020-04-27 15:31:23 INFO     Aggregating input data\n",
      "2020-04-27 15:31:23 INFO     Writing classes + probabilities .tsv file\n",
      "2020-04-27 15:31:23 INFO     Reading data file '/home/chuongdv/Documents/SourceCode/MachineLearning/exp/data/features/P3.tsv' as 'real location' with error 0.01\n",
      "2020-04-27 15:31:23 INFO     Detected encoding: ascii\n",
      "2020-04-27 15:31:23 INFO     Found 3200 rows and 2 columns\n",
      "2020-04-27 15:31:23 DEBUG    Checking column names\n",
      "2020-04-27 15:31:23 DEBUG    Index name 'index'\n",
      "2020-04-27 15:31:23 DEBUG    Column name 'P3'\n",
      "2020-04-27 15:31:23 INFO     Checking data format\n",
      "2020-04-27 15:31:23 INFO     Column 'P3'\n",
      "2020-04-27 15:31:23 INFO     count    3200.000000\n",
      "2020-04-27 15:31:23 INFO     mean       -0.241071\n",
      "2020-04-27 15:31:23 INFO     std         3.012802\n",
      "2020-04-27 15:31:23 INFO     min       -11.999632\n",
      "2020-04-27 15:31:23 INFO     50%         0.012392\n",
      "2020-04-27 15:31:23 INFO     max       110.102514\n",
      "2020-04-27 15:31:23 INFO     ---\n",
      "2020-04-27 15:31:23 INFO     Final dataframe has 3200 lines and 2 columns\n",
      "2020-04-27 15:31:23 INFO     Searching for missing values\n",
      "2020-04-27 15:31:23 INFO     No missing values found\n",
      "2020-04-27 15:31:23 INFO     Writing autoclass.db2 file\n",
      "2020-04-27 15:31:23 INFO     If any, missing values will be encoded as '?'\n",
      "2020-04-27 15:31:23 DEBUG    Writing autoclass.tsv file [for later use]\n",
      "2020-04-27 15:31:23 INFO     Writing .hd2 file\n",
      "2020-04-27 15:31:23 INFO     Writing .model file\n",
      "2020-04-27 15:31:23 INFO     Writing .s-params file\n",
      "2020-04-27 15:31:23 INFO     Writing .r-params file\n"
     ]
    },
    {
     "name": "stdout",
     "output_type": "stream",
     "text": [
      "[0.04701718907987867, 0.06976744186046512, 0.1762295081967213, 0.09583333333333334, 0.2857142857142857]\n",
      "['DNS', 'IP_ICMP', 'WINDOWS_UPDATE', 'HTTP', 'NETFLIX']\n",
      "[1, 2, 3, 4, 5]\n",
      "0.13491235163693682\n"
     ]
    },
    {
     "name": "stderr",
     "output_type": "stream",
     "text": [
      "2020-04-27 15:31:24 INFO     AutoClass C executable found in /home/chuongdv/Documents/SourceCode/MachineLearning/autoclass-c/autoclass\n",
      "2020-04-27 15:31:24 INFO     Writing run file\n",
      "2020-04-27 15:31:24 INFO     AutoClass C executable found in /home/chuongdv/Documents/SourceCode/MachineLearning/autoclass-c/autoclass\n",
      "2020-04-27 15:31:24 INFO     AutoClass C version: AUTOCLASS C (version 3.3.6unx)\n",
      "2020-04-27 15:31:24 INFO     Running clustering...\n"
     ]
    },
    {
     "name": "stdout",
     "output_type": "stream",
     "text": [
      "Time: 188 sec."
     ]
    },
    {
     "name": "stderr",
     "output_type": "stream",
     "text": [
      "2020-04-27 15:34:32 INFO     Extracting autoclass results\n",
      "2020-04-27 15:34:32 INFO     Found 3200 cases classified in 7 classes\n",
      "2020-04-27 15:34:36 INFO     Aggregating input data\n",
      "2020-04-27 15:34:36 INFO     Writing classes + probabilities .tsv file\n",
      "2020-04-27 15:34:36 INFO     Reading data file '/home/chuongdv/Documents/SourceCode/MachineLearning/exp/data/features/P4.tsv' as 'real location' with error 0.01\n",
      "2020-04-27 15:34:36 INFO     Detected encoding: ascii\n",
      "2020-04-27 15:34:36 INFO     Found 3200 rows and 2 columns\n",
      "2020-04-27 15:34:36 DEBUG    Checking column names\n",
      "2020-04-27 15:34:36 DEBUG    Index name 'index'\n",
      "2020-04-27 15:34:36 DEBUG    Column name 'P4'\n",
      "2020-04-27 15:34:36 INFO     Checking data format\n",
      "2020-04-27 15:34:36 INFO     Column 'P4'\n",
      "2020-04-27 15:34:36 INFO     count    3200.000000\n",
      "2020-04-27 15:34:36 INFO     mean        0.176730\n",
      "2020-04-27 15:34:36 INFO     std         2.046940\n",
      "2020-04-27 15:34:36 INFO     min       -24.342599\n",
      "2020-04-27 15:34:36 INFO     50%         0.288089\n",
      "2020-04-27 15:34:36 INFO     max        27.806124\n",
      "2020-04-27 15:34:36 INFO     ---\n",
      "2020-04-27 15:34:36 INFO     Final dataframe has 3200 lines and 2 columns\n",
      "2020-04-27 15:34:36 INFO     Searching for missing values\n",
      "2020-04-27 15:34:36 INFO     No missing values found\n",
      "2020-04-27 15:34:36 INFO     Writing autoclass.db2 file\n",
      "2020-04-27 15:34:36 INFO     If any, missing values will be encoded as '?'\n",
      "2020-04-27 15:34:36 DEBUG    Writing autoclass.tsv file [for later use]\n",
      "2020-04-27 15:34:36 INFO     Writing .hd2 file\n",
      "2020-04-27 15:34:36 INFO     Writing .model file\n",
      "2020-04-27 15:34:36 INFO     Writing .s-params file\n",
      "2020-04-27 15:34:36 INFO     Writing .r-params file\n"
     ]
    },
    {
     "name": "stdout",
     "output_type": "stream",
     "text": [
      "[0.05898617511520737, 0.11335012594458438, 0.07153284671532846, 0.1996007984031936, 0.10311750599520383, 0.11009174311926606, 0.3333333333333333]\n",
      "['DROPBOX', 'DNS', 'HTTP', 'IP_ICMP', 'AMAZON', 'DNS', 'NETFLIX']\n",
      "[1, 2, 3, 4, 5, 6, 7]\n",
      "0.14143036123230243\n"
     ]
    },
    {
     "name": "stderr",
     "output_type": "stream",
     "text": [
      "2020-04-27 15:34:36 INFO     AutoClass C executable found in /home/chuongdv/Documents/SourceCode/MachineLearning/autoclass-c/autoclass\n",
      "2020-04-27 15:34:36 INFO     Writing run file\n",
      "2020-04-27 15:34:36 INFO     AutoClass C executable found in /home/chuongdv/Documents/SourceCode/MachineLearning/autoclass-c/autoclass\n",
      "2020-04-27 15:34:36 INFO     AutoClass C version: AUTOCLASS C (version 3.3.6unx)\n",
      "2020-04-27 15:34:36 INFO     Running clustering...\n"
     ]
    },
    {
     "name": "stdout",
     "output_type": "stream",
     "text": [
      "Time: 142 sec."
     ]
    },
    {
     "name": "stderr",
     "output_type": "stream",
     "text": [
      "2020-04-27 15:36:58 INFO     Extracting autoclass results\n",
      "2020-04-27 15:36:58 INFO     Found 3200 cases classified in 5 classes\n",
      "2020-04-27 15:37:02 INFO     Aggregating input data\n",
      "2020-04-27 15:37:02 INFO     Writing classes + probabilities .tsv file\n"
     ]
    },
    {
     "name": "stdout",
     "output_type": "stream",
     "text": [
      "[0.059927797833935016, 0.07122093023255814, 0.04957102001906578, 0.2535211267605634, 0.2857142857142857]\n",
      "['IP_ICMP', 'WINDOWS_UPDATE', 'HTTP', 'OFFICE_365', 'NETFLIX']\n",
      "[1, 2, 3, 4, 5]\n",
      "0.14399103211208159\n",
      "<class 'pandas.core.frame.DataFrame'>\n",
      "RangeIndex: 5 entries, 0 to 4\n",
      "Data columns (total 2 columns):\n",
      " #   Column  Non-Null Count  Dtype  \n",
      "---  ------  --------------  -----  \n",
      " 0   0       5 non-null      object \n",
      " 1   1       5 non-null      float64\n",
      "dtypes: float64(1), object(1)\n",
      "memory usage: 208.0+ bytes\n"
     ]
    }
   ],
   "source": [
    "from pathlib import Path\n",
    "import sys\n",
    "import time\n",
    "import threading\n",
    "\n",
    "import matplotlib\n",
    "import matplotlib.pyplot as plt\n",
    "from matplotlib.lines import Line2D\n",
    "import numpy as np\n",
    "import pandas as pd\n",
    "%matplotlib inline\n",
    "import autoclasswrapper as wrapper\n",
    "import os \n",
    "\n",
    "afterall = {}\n",
    "subfeatures = ['P0', 'P1', 'P2', 'P3', 'P4']\n",
    "os.environ['PATH'] += \":/home/chuongdv/Documents/SourceCode/MachineLearning/autoclass-c\"\n",
    "#!touch /home/chuongdv/Documents/SourceCode/MachineLearning/exp/result/autoclass.r-params \n",
    "#!echo \"xref_class_report_att_list = 0, 1 \\nreport_mode = \\\"data\\\" \\ncomment_data_headers_p = true \" >> /home/chuongdv/Documents/SourceCode/MachineLearning/exp/result/autoclass.r-params \n",
    "for feature in subfeatures:\n",
    "    runtimeDir = \"/home/chuongdv/Documents/SourceCode/MachineLearning/exp/result/round1/\" + feature\n",
    "    if not Path(runtimeDir).exists():\n",
    "        os.mkdir(runtimeDir)\n",
    "    os.chdir(runtimeDir)\n",
    "    \n",
    "            # Create object to prepare dataset.\n",
    "    clust = wrapper.Input()\n",
    "\n",
    "    # Load datasets from tsv files.\n",
    "    pathData = \"/home/chuongdv/Documents/SourceCode/MachineLearning/exp/data/features/\" + feature + \".tsv\"\n",
    "    clust.add_input_data(pathData, \"real location\")\n",
    "    #clust.add_input_data(\"/home/chuongdv/Documents/SourceCode/MachineLearning/exp/data/features/P2.tsv\", \"real location\")\n",
    "    \n",
    "    # Prepare input data:\n",
    "    # - create a final dataframe\n",
    "    # - merge datasets if multiple inputs\n",
    "    clust.prepare_input_data()\n",
    "\n",
    "    # Create files needed by AutoClass.\n",
    "    clust.create_db2_file()\n",
    "    clust.create_hd2_file()\n",
    "    clust.create_model_file()\n",
    "    clust.create_sparams_file(max_duration = 0)\n",
    "    clust.create_rparams_file()\n",
    "    !rm autoclass.r-params\n",
    "    !cp /home/chuongdv/Documents/SourceCode/MachineLearning/exp/result/round1/autoclass.r-params .\n",
    "    \n",
    "    !rm -f autoclass-run-* *.results-bin\n",
    "\n",
    "\n",
    "    # Search autoclass in path.\n",
    "    wrapper.search_autoclass_in_path()\n",
    "\n",
    "    # Create object to run AutoClass.\n",
    "    run = wrapper.Run()\n",
    "\n",
    "    # Prepare run script.\n",
    "    run.create_run_file()\n",
    "\n",
    "    # Run AutoClass.\n",
    "    run.run()\n",
    "        \n",
    "    timer = 0\n",
    "    step = 2\n",
    "    while not Path(runtimeDir + \"/autoclass-run-success\").exists():\n",
    "        timer += step\n",
    "        sys.stdout.write(\"\\r\")\n",
    "        sys.stdout.write(f\"Time: {timer} sec.\")\n",
    "        sys.stdout.flush()\n",
    "        time.sleep(step)\n",
    "        if Path(\"autoclass-run-failure\").exists():\n",
    "            print(\"error\")\n",
    "            break\n",
    "            \n",
    "    if Path(runtimeDir + \"/autoclass-run-success\").exists():\n",
    "        results = wrapper.Output()\n",
    "        results.extract_results()\n",
    "        results.aggregate_input_data()\n",
    "#         results.write_cdt()\n",
    "#         results.write_cdt(with_proba=True)\n",
    "#         results.write_class_stats()\n",
    "#         results.write_dendrogram()\n",
    "        result = pd.read_csv(runtimeDir + '/autoclass_out.tsv', encoding=\"utf-8\", header=0, sep='\\t', index_col=0)\n",
    "        label =  pd.read_csv('/home/chuongdv/Documents/SourceCode/MachineLearning/exp/data/features/label.tsv', encoding='utf-8', header=0, sep='\\t', index_col=0)\n",
    "\n",
    "        label['cluster'] = result['main-class']\n",
    "        label.to_csv('app.csv', index = True, header=True)\n",
    "\n",
    "\n",
    "        listH = []\n",
    "        listApp = []\n",
    "        listCluster = []\n",
    "        def fun(x):\n",
    "            listCluster.append(x['cluster'].values[0])\n",
    "            listH.append(x['label'].value_counts().max()/x.shape[0])\n",
    "            listApp.append(x['label'].value_counts().idxmax())\n",
    "\n",
    "\n",
    "        label.groupby('cluster').apply(fun)\n",
    "\n",
    "        H = sum(listH)/len(listH)\n",
    "        print(listH)\n",
    "        print(listApp)\n",
    "        print(listCluster)\n",
    "        print(H)\n",
    "\n",
    "        dict = {'Cluster': listCluster, 'App': listApp, 'H': listH}\n",
    "\n",
    "        saveResult = pd.DataFrame(dict)\n",
    "\n",
    "        saveResult.to_csv(runtimeDir + '/resultCal.csv', index = True, header=True)\n",
    "        \n",
    "        afterall.update({feature:H})\n",
    "        \n",
    "round1 = pd.DataFrame(list(afterall.items()), index= range(len(subfeatures)))\n",
    "round1.info()\n",
    "round1.head(1)\n",
    "round1.to_csv('/home/chuongdv/Documents/SourceCode/MachineLearning/exp/result/round1/Hp1.csv', index = True, header=True)"
   ]
  },
  {
   "cell_type": "code",
   "execution_count": null,
   "metadata": {},
   "outputs": [],
   "source": []
  }
 ],
 "metadata": {
  "kernelspec": {
   "display_name": "Python 3",
   "language": "python",
   "name": "python3"
  },
  "language_info": {
   "codemirror_mode": {
    "name": "ipython",
    "version": 3
   },
   "file_extension": ".py",
   "mimetype": "text/x-python",
   "name": "python",
   "nbconvert_exporter": "python",
   "pygments_lexer": "ipython3",
   "version": "3.7.6"
  }
 },
 "nbformat": 4,
 "nbformat_minor": 4
}
