{
 "cells": [
  {
   "cell_type": "code",
   "execution_count": null,
   "metadata": {},
   "outputs": [],
   "source": [
    "import numpy as np\n",
    "import pandas as pd\n",
    "import os \n",
    "\n",
    "os.chdir(\"/home/chuongdv/Documents/SourceCode/MachineLearning/exp/result/round3\")\n",
    "\n",
    "Hp = []\n",
    "for i in range(6):\n",
    "    Hp.append(pd.read_csv(\"Hp\" + str(i + 1) + \".csv\", encoding='utf-8', header=0, sep=',', index_col=0))\n",
    "dataframe = pd.concat(Hp)\n",
    "\n",
    "dataframe.columns = ['feature', 'H']\n",
    "select = dataframe[dataframe['H']==dataframe['H'].max()]\n",
    "print(select)\n",
    "select.to_csv('selectedFeatures.csv', index = True, header=True)\n",
    "dataframe.to_csv('H.csv', index = True, header=True)"
   ]
  }
 ],
 "metadata": {
  "kernelspec": {
   "display_name": "Python 3",
   "language": "python",
   "name": "python3"
  },
  "language_info": {
   "codemirror_mode": {
    "name": "ipython",
    "version": 3
   },
   "file_extension": ".py",
   "mimetype": "text/x-python",
   "name": "python",
   "nbconvert_exporter": "python",
   "pygments_lexer": "ipython3",
   "version": "3.7.6"
  }
 },
 "nbformat": 4,
 "nbformat_minor": 4
}
