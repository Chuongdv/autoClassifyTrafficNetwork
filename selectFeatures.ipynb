{
 "cells": [
  {
   "cell_type": "code",
   "execution_count": 1,
   "metadata": {},
   "outputs": [],
   "source": [
    "import pandas as pd\n",
    "import random"
   ]
  },
  {
   "cell_type": "code",
   "execution_count": 2,
   "metadata": {},
   "outputs": [],
   "source": [
    "dataframe = pd.read_csv('./data/trace2/optimalSet.csv', encoding='utf-8', header=0, sep=',', index_col=0)"
   ]
  },
  {
   "cell_type": "code",
   "execution_count": 3,
   "metadata": {},
   "outputs": [
    {
     "name": "stdout",
     "output_type": "stream",
     "text": [
      "<class 'pandas.core.frame.DataFrame'>\n",
      "Int64Index: 332507 entries, 0 to 332506\n",
      "Data columns (total 52 columns):\n",
      " #   Column                       Non-Null Count   Dtype  \n",
      "---  ------                       --------------   -----  \n",
      " 0   Flow_Duration                332507 non-null  int64  \n",
      " 1   Total_Fwd_Packets            332507 non-null  int64  \n",
      " 2   Total_Backward_Packets       332507 non-null  int64  \n",
      " 3   Total_Length_of_Fwd_Packets  332507 non-null  int64  \n",
      " 4   Total_Length_of_Bwd_Packets  332507 non-null  float64\n",
      " 5   Fwd_Packet_Length_Max        332507 non-null  int64  \n",
      " 6   Fwd_Packet_Length_Min        332507 non-null  int64  \n",
      " 7   Fwd_Packet_Length_Mean       332507 non-null  float64\n",
      " 8   Fwd_Packet_Length_Std        332507 non-null  float64\n",
      " 9   Bwd_Packet_Length_Max        332507 non-null  int64  \n",
      " 10  Bwd_Packet_Length_Min        332507 non-null  int64  \n",
      " 11  Bwd_Packet_Length_Mean       332507 non-null  float64\n",
      " 12  Bwd_Packet_Length_Std        332507 non-null  float64\n",
      " 13  Flow_Bytes_s                 332507 non-null  float64\n",
      " 14  Flow_Packets_s               332507 non-null  float64\n",
      " 15  Flow_IAT_Mean                332507 non-null  float64\n",
      " 16  Flow_IAT_Std                 332507 non-null  float64\n",
      " 17  Flow_IAT_Max                 332507 non-null  float64\n",
      " 18  Flow_IAT_Min                 332507 non-null  int64  \n",
      " 19  Fwd_IAT_Total                332507 non-null  float64\n",
      " 20  Fwd_IAT_Mean                 332507 non-null  float64\n",
      " 21  Fwd_IAT_Std                  332507 non-null  float64\n",
      " 22  Fwd_IAT_Max                  332507 non-null  float64\n",
      " 23  Fwd_IAT_Min                  332507 non-null  float64\n",
      " 24  Bwd_IAT_Total                332507 non-null  float64\n",
      " 25  Bwd_IAT_Mean                 332507 non-null  float64\n",
      " 26  Bwd_IAT_Std                  332507 non-null  float64\n",
      " 27  Bwd_IAT_Max                  332507 non-null  float64\n",
      " 28  Bwd_IAT_Min                  332507 non-null  float64\n",
      " 29  Fwd_Header_Length            332507 non-null  int64  \n",
      " 30  Bwd_Header_Length            332507 non-null  int64  \n",
      " 31  Fwd_Packets_s                332507 non-null  float64\n",
      " 32  Bwd_Packets_s                332507 non-null  float64\n",
      " 33  Min_Packet_Length            332507 non-null  int64  \n",
      " 34  Max_Packet_Length            332507 non-null  int64  \n",
      " 35  Packet_Length_Mean           332507 non-null  float64\n",
      " 36  Packet_Length_Std            332507 non-null  float64\n",
      " 37  Packet_Length_Variance       332507 non-null  float64\n",
      " 38  Down_Up_Ratio                332507 non-null  int64  \n",
      " 39  Average_Packet_Size          332507 non-null  float64\n",
      " 40  Avg_Fwd_Segment_Size         332507 non-null  float64\n",
      " 41  Avg_Bwd_Segment_Size         332507 non-null  float64\n",
      " 42  Fwd_Header_Length_1          332507 non-null  int64  \n",
      " 43  Subflow_Fwd_Packets          332507 non-null  int64  \n",
      " 44  Subflow_Fwd_Bytes            332507 non-null  int64  \n",
      " 45  Subflow_Bwd_Packets          332507 non-null  int64  \n",
      " 46  Subflow_Bwd_Bytes            332507 non-null  int64  \n",
      " 47  Init_Win_bytes_forward       332507 non-null  int64  \n",
      " 48  Init_Win_bytes_backward      332507 non-null  int64  \n",
      " 49  act_data_pkt_fwd             332507 non-null  int64  \n",
      " 50  min_seg_size_forward         332507 non-null  int64  \n",
      " 51  ProtocolName                 332507 non-null  object \n",
      "dtypes: float64(28), int64(23), object(1)\n",
      "memory usage: 134.5+ MB\n"
     ]
    }
   ],
   "source": [
    "dataframe.info()"
   ]
  },
  {
   "cell_type": "code",
   "execution_count": 4,
   "metadata": {},
   "outputs": [
    {
     "data": {
      "text/plain": [
       "['Flow_Duration',\n",
       " 'Total_Fwd_Packets',\n",
       " 'Total_Backward_Packets',\n",
       " 'Total_Length_of_Fwd_Packets',\n",
       " 'Total_Length_of_Bwd_Packets',\n",
       " 'Fwd_Packet_Length_Max',\n",
       " 'Fwd_Packet_Length_Min',\n",
       " 'Fwd_Packet_Length_Mean',\n",
       " 'Fwd_Packet_Length_Std',\n",
       " 'Bwd_Packet_Length_Max',\n",
       " 'Bwd_Packet_Length_Min',\n",
       " 'Bwd_Packet_Length_Mean',\n",
       " 'Bwd_Packet_Length_Std',\n",
       " 'Flow_Bytes_s',\n",
       " 'Flow_Packets_s',\n",
       " 'Flow_IAT_Mean',\n",
       " 'Flow_IAT_Std',\n",
       " 'Flow_IAT_Max',\n",
       " 'Flow_IAT_Min',\n",
       " 'Fwd_IAT_Total',\n",
       " 'Fwd_IAT_Mean',\n",
       " 'Fwd_IAT_Std',\n",
       " 'Fwd_IAT_Max',\n",
       " 'Fwd_IAT_Min',\n",
       " 'Bwd_IAT_Total',\n",
       " 'Bwd_IAT_Mean',\n",
       " 'Bwd_IAT_Std',\n",
       " 'Bwd_IAT_Max',\n",
       " 'Bwd_IAT_Min',\n",
       " 'Fwd_Header_Length',\n",
       " 'Bwd_Header_Length',\n",
       " 'Fwd_Packets_s',\n",
       " 'Bwd_Packets_s',\n",
       " 'Min_Packet_Length',\n",
       " 'Max_Packet_Length',\n",
       " 'Packet_Length_Mean',\n",
       " 'Packet_Length_Std',\n",
       " 'Packet_Length_Variance',\n",
       " 'Down_Up_Ratio',\n",
       " 'Average_Packet_Size',\n",
       " 'Avg_Fwd_Segment_Size',\n",
       " 'Avg_Bwd_Segment_Size',\n",
       " 'Fwd_Header_Length_1',\n",
       " 'Subflow_Fwd_Packets',\n",
       " 'Subflow_Fwd_Bytes',\n",
       " 'Subflow_Bwd_Packets',\n",
       " 'Subflow_Bwd_Bytes',\n",
       " 'Init_Win_bytes_forward',\n",
       " 'Init_Win_bytes_backward',\n",
       " 'act_data_pkt_fwd',\n",
       " 'min_seg_size_forward',\n",
       " 'ProtocolName']"
      ]
     },
     "execution_count": 4,
     "metadata": {},
     "output_type": "execute_result"
    }
   ],
   "source": [
    "list(dataframe.columns)"
   ]
  },
  {
   "cell_type": "code",
   "execution_count": null,
   "metadata": {},
   "outputs": [],
   "source": []
  }
 ],
 "metadata": {
  "kernelspec": {
   "display_name": "Python 3",
   "language": "python",
   "name": "python3"
  },
  "language_info": {
   "codemirror_mode": {
    "name": "ipython",
    "version": 3
   },
   "file_extension": ".py",
   "mimetype": "text/x-python",
   "name": "python",
   "nbconvert_exporter": "python",
   "pygments_lexer": "ipython3",
   "version": "3.7.6"
  }
 },
 "nbformat": 4,
 "nbformat_minor": 4
}
